{
 "cells": [
  {
   "cell_type": "markdown",
   "metadata": {
    "id": "vO6fh-rB_M9P"
   },
   "source": [
    "# **Project 2**\n",
    "\n",
    "2017311974 통계학과 진수정"
   ]
  },
  {
   "cell_type": "markdown",
   "metadata": {
    "id": "HjLsr07T_Rxm"
   },
   "source": [
    "# 1. Import Library / Data"
   ]
  },
  {
   "cell_type": "code",
   "execution_count": 1,
   "metadata": {
    "id": "EhgbFpka-eLG"
   },
   "outputs": [],
   "source": [
    "import pandas as pd\n",
    "import numpy as np"
   ]
  },
  {
   "cell_type": "code",
   "execution_count": 2,
   "metadata": {
    "colab": {
     "base_uri": "https://localhost:8080/"
    },
    "id": "OY8c8E2r_RPi",
    "outputId": "8f096920-6769-427b-f165-5aec9a8df10c"
   },
   "outputs": [
    {
     "name": "stdout",
     "output_type": "stream",
     "text": [
      "Drive already mounted at /content/drive; to attempt to forcibly remount, call drive.mount(\"/content/drive\", force_remount=True).\n"
     ]
    }
   ],
   "source": [
    "from google.colab import drive\n",
    "drive.mount('/content/drive')"
   ]
  },
  {
   "cell_type": "code",
   "execution_count": 112,
   "metadata": {
    "id": "wpgRHiEE_YxE"
   },
   "outputs": [],
   "source": [
    "train = pd.read_csv(\"/content/drive/MyDrive/기계학습 AAI3006/Project/train.csv\")\n",
    "test = pd.read_csv(\"/content/drive/MyDrive/기계학습 AAI3006/Project/X_test.csv\")"
   ]
  },
  {
   "cell_type": "markdown",
   "metadata": {
    "id": "Fd46s1Ts_qUW"
   },
   "source": [
    "# 2. Data"
   ]
  },
  {
   "cell_type": "code",
   "execution_count": 113,
   "metadata": {
    "colab": {
     "base_uri": "https://localhost:8080/",
     "height": 0
    },
    "id": "93OzrRhJ_m-j",
    "outputId": "4e3bd773-8d98-4a9c-fc07-231f6034f63a"
   },
   "outputs": [
    {
     "data": {
      "text/html": [
       "<div>\n",
       "<style scoped>\n",
       "    .dataframe tbody tr th:only-of-type {\n",
       "        vertical-align: middle;\n",
       "    }\n",
       "\n",
       "    .dataframe tbody tr th {\n",
       "        vertical-align: top;\n",
       "    }\n",
       "\n",
       "    .dataframe thead th {\n",
       "        text-align: right;\n",
       "    }\n",
       "</style>\n",
       "<table border=\"1\" class=\"dataframe\">\n",
       "  <thead>\n",
       "    <tr style=\"text-align: right;\">\n",
       "      <th></th>\n",
       "      <th>emotion_angry_mean</th>\n",
       "      <th>emotion_disgust_mean</th>\n",
       "      <th>emotion_fear_mean</th>\n",
       "      <th>emotion_happy_mean</th>\n",
       "      <th>emotion_sad_mean</th>\n",
       "      <th>emotion_surprise_mean</th>\n",
       "      <th>emotion_neutral_mean</th>\n",
       "      <th>F0semitoneFrom27.5Hz_sma3nz_amean_mean</th>\n",
       "      <th>F0semitoneFrom27.5Hz_sma3nz_stddevNorm_mean</th>\n",
       "      <th>F0semitoneFrom27.5Hz_sma3nz_percentile20.0_mean</th>\n",
       "      <th>F0semitoneFrom27.5Hz_sma3nz_percentile50.0_mean</th>\n",
       "      <th>F0semitoneFrom27.5Hz_sma3nz_percentile80.0_mean</th>\n",
       "      <th>F0semitoneFrom27.5Hz_sma3nz_pctlrange0-2_mean</th>\n",
       "      <th>F0semitoneFrom27.5Hz_sma3nz_meanRisingSlope_mean</th>\n",
       "      <th>F0semitoneFrom27.5Hz_sma3nz_stddevRisingSlope_mean</th>\n",
       "      <th>F0semitoneFrom27.5Hz_sma3nz_meanFallingSlope_mean</th>\n",
       "      <th>F0semitoneFrom27.5Hz_sma3nz_stddevFallingSlope_mean</th>\n",
       "      <th>loudness_sma3_amean_mean</th>\n",
       "      <th>loudness_sma3_stddevNorm_mean</th>\n",
       "      <th>loudness_sma3_percentile20.0_mean</th>\n",
       "      <th>loudness_sma3_percentile50.0_mean</th>\n",
       "      <th>loudness_sma3_percentile80.0_mean</th>\n",
       "      <th>loudness_sma3_pctlrange0-2_mean</th>\n",
       "      <th>loudness_sma3_meanRisingSlope_mean</th>\n",
       "      <th>loudness_sma3_stddevRisingSlope_mean</th>\n",
       "      <th>loudness_sma3_meanFallingSlope_mean</th>\n",
       "      <th>loudness_sma3_stddevFallingSlope_mean</th>\n",
       "      <th>spectralFlux_sma3_amean_mean</th>\n",
       "      <th>spectralFlux_sma3_stddevNorm_mean</th>\n",
       "      <th>mfcc1_sma3_amean_mean</th>\n",
       "      <th>mfcc1_sma3_stddevNorm_mean</th>\n",
       "      <th>mfcc2_sma3_amean_mean</th>\n",
       "      <th>mfcc2_sma3_stddevNorm_mean</th>\n",
       "      <th>mfcc3_sma3_amean_mean</th>\n",
       "      <th>mfcc3_sma3_stddevNorm_mean</th>\n",
       "      <th>mfcc4_sma3_amean_mean</th>\n",
       "      <th>mfcc4_sma3_stddevNorm_mean</th>\n",
       "      <th>jitterLocal_sma3nz_amean_mean</th>\n",
       "      <th>jitterLocal_sma3nz_stddevNorm_mean</th>\n",
       "      <th>shimmerLocaldB_sma3nz_amean_mean</th>\n",
       "      <th>...</th>\n",
       "      <th>F2bandwidth_sma3nz_stddevNorm_max</th>\n",
       "      <th>F2amplitudeLogRelF0_sma3nz_amean_max</th>\n",
       "      <th>F2amplitudeLogRelF0_sma3nz_stddevNorm_max</th>\n",
       "      <th>F3frequency_sma3nz_amean_max</th>\n",
       "      <th>F3frequency_sma3nz_stddevNorm_max</th>\n",
       "      <th>F3bandwidth_sma3nz_amean_max</th>\n",
       "      <th>F3bandwidth_sma3nz_stddevNorm_max</th>\n",
       "      <th>F3amplitudeLogRelF0_sma3nz_amean_max</th>\n",
       "      <th>F3amplitudeLogRelF0_sma3nz_stddevNorm_max</th>\n",
       "      <th>alphaRatioV_sma3nz_amean_max</th>\n",
       "      <th>alphaRatioV_sma3nz_stddevNorm_max</th>\n",
       "      <th>hammarbergIndexV_sma3nz_amean_max</th>\n",
       "      <th>hammarbergIndexV_sma3nz_stddevNorm_max</th>\n",
       "      <th>slopeV0-500_sma3nz_amean_max</th>\n",
       "      <th>slopeV0-500_sma3nz_stddevNorm_max</th>\n",
       "      <th>slopeV500-1500_sma3nz_amean_max</th>\n",
       "      <th>slopeV500-1500_sma3nz_stddevNorm_max</th>\n",
       "      <th>spectralFluxV_sma3nz_amean_max</th>\n",
       "      <th>spectralFluxV_sma3nz_stddevNorm_max</th>\n",
       "      <th>mfcc1V_sma3nz_amean_max</th>\n",
       "      <th>mfcc1V_sma3nz_stddevNorm_max</th>\n",
       "      <th>mfcc2V_sma3nz_amean_max</th>\n",
       "      <th>mfcc2V_sma3nz_stddevNorm_max</th>\n",
       "      <th>mfcc3V_sma3nz_amean_max</th>\n",
       "      <th>mfcc3V_sma3nz_stddevNorm_max</th>\n",
       "      <th>mfcc4V_sma3nz_amean_max</th>\n",
       "      <th>mfcc4V_sma3nz_stddevNorm_max</th>\n",
       "      <th>alphaRatioUV_sma3nz_amean_max</th>\n",
       "      <th>hammarbergIndexUV_sma3nz_amean_max</th>\n",
       "      <th>slopeUV0-500_sma3nz_amean_max</th>\n",
       "      <th>slopeUV500-1500_sma3nz_amean_max</th>\n",
       "      <th>spectralFluxUV_sma3nz_amean_max</th>\n",
       "      <th>loudnessPeaksPerSec_max</th>\n",
       "      <th>VoicedSegmentsPerSec_max</th>\n",
       "      <th>MeanVoicedSegmentLengthSec_max</th>\n",
       "      <th>StddevVoicedSegmentLengthSec_max</th>\n",
       "      <th>MeanUnvoicedSegmentLength_max</th>\n",
       "      <th>StddevUnvoicedSegmentLength_max</th>\n",
       "      <th>equivalentSoundLevel_dBp_max</th>\n",
       "      <th>label</th>\n",
       "    </tr>\n",
       "  </thead>\n",
       "  <tbody>\n",
       "    <tr>\n",
       "      <th>0</th>\n",
       "      <td>0.159302</td>\n",
       "      <td>0.001206</td>\n",
       "      <td>0.095556</td>\n",
       "      <td>0.103968</td>\n",
       "      <td>0.241841</td>\n",
       "      <td>0.015937</td>\n",
       "      <td>0.380635</td>\n",
       "      <td>24.365636</td>\n",
       "      <td>0.175620</td>\n",
       "      <td>21.451660</td>\n",
       "      <td>23.824941</td>\n",
       "      <td>26.860989</td>\n",
       "      <td>5.409329</td>\n",
       "      <td>178.302275</td>\n",
       "      <td>118.805772</td>\n",
       "      <td>71.780979</td>\n",
       "      <td>60.595704</td>\n",
       "      <td>1.120236</td>\n",
       "      <td>0.456544</td>\n",
       "      <td>0.679286</td>\n",
       "      <td>1.030189</td>\n",
       "      <td>1.554274</td>\n",
       "      <td>0.874988</td>\n",
       "      <td>11.056342</td>\n",
       "      <td>5.862386</td>\n",
       "      <td>7.338043</td>\n",
       "      <td>4.313646</td>\n",
       "      <td>0.626464</td>\n",
       "      <td>0.695773</td>\n",
       "      <td>21.477432</td>\n",
       "      <td>0.693588</td>\n",
       "      <td>-0.327011</td>\n",
       "      <td>2.948707</td>\n",
       "      <td>2.301753</td>\n",
       "      <td>0.621157</td>\n",
       "      <td>-0.636670</td>\n",
       "      <td>1.357991</td>\n",
       "      <td>0.041140</td>\n",
       "      <td>1.294767</td>\n",
       "      <td>1.411157</td>\n",
       "      <td>...</td>\n",
       "      <td>0.013287</td>\n",
       "      <td>1553.790611</td>\n",
       "      <td>13.057997</td>\n",
       "      <td>17276.461014</td>\n",
       "      <td>0.000760</td>\n",
       "      <td>15273.899997</td>\n",
       "      <td>0.010718</td>\n",
       "      <td>1454.616107</td>\n",
       "      <td>0.333077</td>\n",
       "      <td>11.872866</td>\n",
       "      <td>0.153309</td>\n",
       "      <td>17.167801</td>\n",
       "      <td>0.121265</td>\n",
       "      <td>0.000749</td>\n",
       "      <td>2.103438e+01</td>\n",
       "      <td>0.000062</td>\n",
       "      <td>2.359656</td>\n",
       "      <td>0.082971</td>\n",
       "      <td>0.056775</td>\n",
       "      <td>38.786267</td>\n",
       "      <td>0.067508</td>\n",
       "      <td>39.441458</td>\n",
       "      <td>166082.362816</td>\n",
       "      <td>76.087625</td>\n",
       "      <td>93.992936</td>\n",
       "      <td>77.820486</td>\n",
       "      <td>36532.756730</td>\n",
       "      <td>19.835802</td>\n",
       "      <td>40.867942</td>\n",
       "      <td>0.001236</td>\n",
       "      <td>0.000041</td>\n",
       "      <td>0.073747</td>\n",
       "      <td>3.247842</td>\n",
       "      <td>1.524696</td>\n",
       "      <td>0.038395</td>\n",
       "      <td>0.007741</td>\n",
       "      <td>0.009176</td>\n",
       "      <td>0.002994</td>\n",
       "      <td>17.493596</td>\n",
       "      <td>0</td>\n",
       "    </tr>\n",
       "    <tr>\n",
       "      <th>1</th>\n",
       "      <td>0.078909</td>\n",
       "      <td>0.000098</td>\n",
       "      <td>0.097341</td>\n",
       "      <td>0.111471</td>\n",
       "      <td>0.152525</td>\n",
       "      <td>0.038076</td>\n",
       "      <td>0.521042</td>\n",
       "      <td>20.450413</td>\n",
       "      <td>0.180559</td>\n",
       "      <td>17.321590</td>\n",
       "      <td>20.874958</td>\n",
       "      <td>23.396257</td>\n",
       "      <td>6.074668</td>\n",
       "      <td>137.679613</td>\n",
       "      <td>87.802155</td>\n",
       "      <td>67.882583</td>\n",
       "      <td>52.059239</td>\n",
       "      <td>0.622723</td>\n",
       "      <td>0.416345</td>\n",
       "      <td>0.396978</td>\n",
       "      <td>0.559901</td>\n",
       "      <td>0.836382</td>\n",
       "      <td>0.439405</td>\n",
       "      <td>4.619568</td>\n",
       "      <td>2.419374</td>\n",
       "      <td>2.571888</td>\n",
       "      <td>1.489682</td>\n",
       "      <td>0.307432</td>\n",
       "      <td>0.502883</td>\n",
       "      <td>25.386675</td>\n",
       "      <td>0.305130</td>\n",
       "      <td>2.699263</td>\n",
       "      <td>1.668620</td>\n",
       "      <td>4.992532</td>\n",
       "      <td>1.532773</td>\n",
       "      <td>3.519948</td>\n",
       "      <td>2.028082</td>\n",
       "      <td>0.065575</td>\n",
       "      <td>1.384110</td>\n",
       "      <td>1.419527</td>\n",
       "      <td>...</td>\n",
       "      <td>0.005533</td>\n",
       "      <td>491.589328</td>\n",
       "      <td>0.276725</td>\n",
       "      <td>20300.495507</td>\n",
       "      <td>0.000696</td>\n",
       "      <td>10802.614674</td>\n",
       "      <td>0.008120</td>\n",
       "      <td>445.160892</td>\n",
       "      <td>0.125321</td>\n",
       "      <td>4.298156</td>\n",
       "      <td>0.011688</td>\n",
       "      <td>8.891616</td>\n",
       "      <td>0.006371</td>\n",
       "      <td>0.000527</td>\n",
       "      <td>1.106866e+07</td>\n",
       "      <td>0.000032</td>\n",
       "      <td>212.740090</td>\n",
       "      <td>0.012751</td>\n",
       "      <td>0.033280</td>\n",
       "      <td>24.012308</td>\n",
       "      <td>0.017846</td>\n",
       "      <td>21.320284</td>\n",
       "      <td>928.943139</td>\n",
       "      <td>41.933796</td>\n",
       "      <td>520.846650</td>\n",
       "      <td>41.720618</td>\n",
       "      <td>388.881196</td>\n",
       "      <td>15.238695</td>\n",
       "      <td>47.110117</td>\n",
       "      <td>0.000494</td>\n",
       "      <td>0.000053</td>\n",
       "      <td>0.017289</td>\n",
       "      <td>3.604506</td>\n",
       "      <td>2.172738</td>\n",
       "      <td>0.061666</td>\n",
       "      <td>0.010000</td>\n",
       "      <td>0.002145</td>\n",
       "      <td>0.000573</td>\n",
       "      <td>12.858519</td>\n",
       "      <td>1</td>\n",
       "    </tr>\n",
       "    <tr>\n",
       "      <th>2</th>\n",
       "      <td>0.034322</td>\n",
       "      <td>0.000095</td>\n",
       "      <td>0.022808</td>\n",
       "      <td>0.137666</td>\n",
       "      <td>0.258423</td>\n",
       "      <td>0.052429</td>\n",
       "      <td>0.493060</td>\n",
       "      <td>25.899066</td>\n",
       "      <td>0.189240</td>\n",
       "      <td>22.535169</td>\n",
       "      <td>25.832655</td>\n",
       "      <td>28.917688</td>\n",
       "      <td>6.382519</td>\n",
       "      <td>224.665125</td>\n",
       "      <td>162.965797</td>\n",
       "      <td>94.004018</td>\n",
       "      <td>76.799433</td>\n",
       "      <td>0.933630</td>\n",
       "      <td>0.596283</td>\n",
       "      <td>0.443068</td>\n",
       "      <td>0.797536</td>\n",
       "      <td>1.376126</td>\n",
       "      <td>0.933058</td>\n",
       "      <td>12.758530</td>\n",
       "      <td>6.396430</td>\n",
       "      <td>9.748298</td>\n",
       "      <td>6.065641</td>\n",
       "      <td>0.535747</td>\n",
       "      <td>0.808035</td>\n",
       "      <td>28.832184</td>\n",
       "      <td>0.506988</td>\n",
       "      <td>-9.256810</td>\n",
       "      <td>-3.770722</td>\n",
       "      <td>7.473114</td>\n",
       "      <td>-1.705518</td>\n",
       "      <td>-7.570416</td>\n",
       "      <td>-1.979698</td>\n",
       "      <td>0.054978</td>\n",
       "      <td>1.499219</td>\n",
       "      <td>1.613404</td>\n",
       "      <td>...</td>\n",
       "      <td>0.009161</td>\n",
       "      <td>525.713408</td>\n",
       "      <td>0.529698</td>\n",
       "      <td>12304.584809</td>\n",
       "      <td>0.000492</td>\n",
       "      <td>10022.954003</td>\n",
       "      <td>0.012530</td>\n",
       "      <td>493.208497</td>\n",
       "      <td>0.201854</td>\n",
       "      <td>7.234994</td>\n",
       "      <td>39.476572</td>\n",
       "      <td>13.329468</td>\n",
       "      <td>0.033750</td>\n",
       "      <td>0.000645</td>\n",
       "      <td>1.095221e+01</td>\n",
       "      <td>0.000026</td>\n",
       "      <td>0.177499</td>\n",
       "      <td>0.081825</td>\n",
       "      <td>0.050340</td>\n",
       "      <td>20.331421</td>\n",
       "      <td>0.028065</td>\n",
       "      <td>52.316003</td>\n",
       "      <td>35.459018</td>\n",
       "      <td>68.600087</td>\n",
       "      <td>836.364531</td>\n",
       "      <td>33.880142</td>\n",
       "      <td>142.738082</td>\n",
       "      <td>25.227335</td>\n",
       "      <td>47.845141</td>\n",
       "      <td>0.001184</td>\n",
       "      <td>0.000045</td>\n",
       "      <td>0.034262</td>\n",
       "      <td>1.802816</td>\n",
       "      <td>1.662936</td>\n",
       "      <td>0.032222</td>\n",
       "      <td>0.007558</td>\n",
       "      <td>0.001987</td>\n",
       "      <td>0.000762</td>\n",
       "      <td>14.715437</td>\n",
       "      <td>1</td>\n",
       "    </tr>\n",
       "    <tr>\n",
       "      <th>3</th>\n",
       "      <td>0.145186</td>\n",
       "      <td>0.003081</td>\n",
       "      <td>0.062902</td>\n",
       "      <td>0.336561</td>\n",
       "      <td>0.083164</td>\n",
       "      <td>0.027579</td>\n",
       "      <td>0.340523</td>\n",
       "      <td>24.750961</td>\n",
       "      <td>0.181022</td>\n",
       "      <td>21.688634</td>\n",
       "      <td>24.737646</td>\n",
       "      <td>27.484029</td>\n",
       "      <td>5.795395</td>\n",
       "      <td>204.324173</td>\n",
       "      <td>141.797581</td>\n",
       "      <td>90.891705</td>\n",
       "      <td>78.252117</td>\n",
       "      <td>1.516659</td>\n",
       "      <td>0.568940</td>\n",
       "      <td>0.771728</td>\n",
       "      <td>1.296677</td>\n",
       "      <td>2.253688</td>\n",
       "      <td>1.481961</td>\n",
       "      <td>20.909369</td>\n",
       "      <td>10.033155</td>\n",
       "      <td>14.298718</td>\n",
       "      <td>8.134845</td>\n",
       "      <td>1.199616</td>\n",
       "      <td>0.714956</td>\n",
       "      <td>27.973822</td>\n",
       "      <td>0.484846</td>\n",
       "      <td>-9.563758</td>\n",
       "      <td>-2.734255</td>\n",
       "      <td>21.540686</td>\n",
       "      <td>0.783295</td>\n",
       "      <td>1.364811</td>\n",
       "      <td>13.855079</td>\n",
       "      <td>0.057045</td>\n",
       "      <td>1.325208</td>\n",
       "      <td>1.644563</td>\n",
       "      <td>...</td>\n",
       "      <td>0.013392</td>\n",
       "      <td>816.124577</td>\n",
       "      <td>0.201236</td>\n",
       "      <td>11865.347796</td>\n",
       "      <td>0.000402</td>\n",
       "      <td>10142.221505</td>\n",
       "      <td>0.011962</td>\n",
       "      <td>776.204296</td>\n",
       "      <td>0.109898</td>\n",
       "      <td>12.762538</td>\n",
       "      <td>19.552099</td>\n",
       "      <td>14.332504</td>\n",
       "      <td>0.028576</td>\n",
       "      <td>0.000859</td>\n",
       "      <td>5.063962e+02</td>\n",
       "      <td>0.000041</td>\n",
       "      <td>1.960178</td>\n",
       "      <td>0.152414</td>\n",
       "      <td>0.030376</td>\n",
       "      <td>21.134078</td>\n",
       "      <td>0.024300</td>\n",
       "      <td>70.658536</td>\n",
       "      <td>86869.858958</td>\n",
       "      <td>81.070854</td>\n",
       "      <td>4.981059</td>\n",
       "      <td>90.241472</td>\n",
       "      <td>11894.613080</td>\n",
       "      <td>25.832471</td>\n",
       "      <td>30.642763</td>\n",
       "      <td>0.000976</td>\n",
       "      <td>0.000071</td>\n",
       "      <td>0.143308</td>\n",
       "      <td>2.300070</td>\n",
       "      <td>1.707928</td>\n",
       "      <td>0.024220</td>\n",
       "      <td>0.005290</td>\n",
       "      <td>0.005230</td>\n",
       "      <td>0.001509</td>\n",
       "      <td>9.385141</td>\n",
       "      <td>0</td>\n",
       "    </tr>\n",
       "    <tr>\n",
       "      <th>4</th>\n",
       "      <td>0.095809</td>\n",
       "      <td>0.000637</td>\n",
       "      <td>0.127135</td>\n",
       "      <td>0.201353</td>\n",
       "      <td>0.149867</td>\n",
       "      <td>0.104164</td>\n",
       "      <td>0.320769</td>\n",
       "      <td>30.575605</td>\n",
       "      <td>0.083505</td>\n",
       "      <td>28.839600</td>\n",
       "      <td>30.865467</td>\n",
       "      <td>32.401522</td>\n",
       "      <td>3.561922</td>\n",
       "      <td>128.651457</td>\n",
       "      <td>82.642770</td>\n",
       "      <td>42.664046</td>\n",
       "      <td>32.977352</td>\n",
       "      <td>0.423521</td>\n",
       "      <td>0.532330</td>\n",
       "      <td>0.222198</td>\n",
       "      <td>0.364292</td>\n",
       "      <td>0.618882</td>\n",
       "      <td>0.396684</td>\n",
       "      <td>4.482036</td>\n",
       "      <td>2.440070</td>\n",
       "      <td>3.449604</td>\n",
       "      <td>2.232432</td>\n",
       "      <td>0.161582</td>\n",
       "      <td>0.915803</td>\n",
       "      <td>15.587946</td>\n",
       "      <td>1.088757</td>\n",
       "      <td>6.070446</td>\n",
       "      <td>0.666237</td>\n",
       "      <td>1.342749</td>\n",
       "      <td>-0.101911</td>\n",
       "      <td>-7.143915</td>\n",
       "      <td>-1.687091</td>\n",
       "      <td>0.029639</td>\n",
       "      <td>1.097350</td>\n",
       "      <td>0.964215</td>\n",
       "      <td>...</td>\n",
       "      <td>0.027795</td>\n",
       "      <td>2877.125938</td>\n",
       "      <td>0.182160</td>\n",
       "      <td>542170.068619</td>\n",
       "      <td>0.001834</td>\n",
       "      <td>87397.655169</td>\n",
       "      <td>0.042303</td>\n",
       "      <td>2665.746927</td>\n",
       "      <td>0.123622</td>\n",
       "      <td>41.449181</td>\n",
       "      <td>5.807427</td>\n",
       "      <td>73.557673</td>\n",
       "      <td>0.021437</td>\n",
       "      <td>0.001145</td>\n",
       "      <td>4.659648e-03</td>\n",
       "      <td>0.000129</td>\n",
       "      <td>104.653496</td>\n",
       "      <td>0.018770</td>\n",
       "      <td>0.069270</td>\n",
       "      <td>91.228826</td>\n",
       "      <td>0.092175</td>\n",
       "      <td>78.982456</td>\n",
       "      <td>134.341684</td>\n",
       "      <td>72.988948</td>\n",
       "      <td>2891.609583</td>\n",
       "      <td>69.336666</td>\n",
       "      <td>38.107488</td>\n",
       "      <td>16.618918</td>\n",
       "      <td>23.599966</td>\n",
       "      <td>0.000318</td>\n",
       "      <td>0.000035</td>\n",
       "      <td>0.004442</td>\n",
       "      <td>4.608594</td>\n",
       "      <td>1.361078</td>\n",
       "      <td>0.045438</td>\n",
       "      <td>0.007732</td>\n",
       "      <td>0.077567</td>\n",
       "      <td>0.005713</td>\n",
       "      <td>81.380548</td>\n",
       "      <td>1</td>\n",
       "    </tr>\n",
       "  </tbody>\n",
       "</table>\n",
       "<p>5 rows × 384 columns</p>\n",
       "</div>"
      ],
      "text/plain": [
       "   emotion_angry_mean  ...  label\n",
       "0            0.159302  ...      0\n",
       "1            0.078909  ...      1\n",
       "2            0.034322  ...      1\n",
       "3            0.145186  ...      0\n",
       "4            0.095809  ...      1\n",
       "\n",
       "[5 rows x 384 columns]"
      ]
     },
     "execution_count": 113,
     "metadata": {
      "tags": []
     },
     "output_type": "execute_result"
    }
   ],
   "source": [
    "train.head(5)"
   ]
  },
  {
   "cell_type": "code",
   "execution_count": 114,
   "metadata": {
    "colab": {
     "base_uri": "https://localhost:8080/"
    },
    "id": "VxtOTr4n_vJ7",
    "outputId": "93c39f37-2dea-4e44-8041-bb14f34ca815"
   },
   "outputs": [
    {
     "name": "stdout",
     "output_type": "stream",
     "text": [
      "<class 'pandas.core.frame.DataFrame'>\n",
      "RangeIndex: 405 entries, 0 to 404\n",
      "Columns: 384 entries, emotion_angry_mean to label\n",
      "dtypes: float64(383), int64(1)\n",
      "memory usage: 1.2 MB\n"
     ]
    }
   ],
   "source": [
    "train.info()"
   ]
  },
  {
   "cell_type": "code",
   "execution_count": 115,
   "metadata": {
    "colab": {
     "base_uri": "https://localhost:8080/",
     "height": 0
    },
    "id": "MNrltnRa_xE-",
    "outputId": "eb491d98-c85e-458e-9c1e-5badeb202fe6"
   },
   "outputs": [
    {
     "data": {
      "text/html": [
       "<div>\n",
       "<style scoped>\n",
       "    .dataframe tbody tr th:only-of-type {\n",
       "        vertical-align: middle;\n",
       "    }\n",
       "\n",
       "    .dataframe tbody tr th {\n",
       "        vertical-align: top;\n",
       "    }\n",
       "\n",
       "    .dataframe thead th {\n",
       "        text-align: right;\n",
       "    }\n",
       "</style>\n",
       "<table border=\"1\" class=\"dataframe\">\n",
       "  <thead>\n",
       "    <tr style=\"text-align: right;\">\n",
       "      <th></th>\n",
       "      <th>emotion_angry_mean</th>\n",
       "      <th>emotion_disgust_mean</th>\n",
       "      <th>emotion_fear_mean</th>\n",
       "      <th>emotion_happy_mean</th>\n",
       "      <th>emotion_sad_mean</th>\n",
       "      <th>emotion_surprise_mean</th>\n",
       "      <th>emotion_neutral_mean</th>\n",
       "      <th>F0semitoneFrom27.5Hz_sma3nz_amean_mean</th>\n",
       "      <th>F0semitoneFrom27.5Hz_sma3nz_stddevNorm_mean</th>\n",
       "      <th>F0semitoneFrom27.5Hz_sma3nz_percentile20.0_mean</th>\n",
       "      <th>F0semitoneFrom27.5Hz_sma3nz_percentile50.0_mean</th>\n",
       "      <th>F0semitoneFrom27.5Hz_sma3nz_percentile80.0_mean</th>\n",
       "      <th>F0semitoneFrom27.5Hz_sma3nz_pctlrange0-2_mean</th>\n",
       "      <th>F0semitoneFrom27.5Hz_sma3nz_meanRisingSlope_mean</th>\n",
       "      <th>F0semitoneFrom27.5Hz_sma3nz_stddevRisingSlope_mean</th>\n",
       "      <th>F0semitoneFrom27.5Hz_sma3nz_meanFallingSlope_mean</th>\n",
       "      <th>F0semitoneFrom27.5Hz_sma3nz_stddevFallingSlope_mean</th>\n",
       "      <th>loudness_sma3_amean_mean</th>\n",
       "      <th>loudness_sma3_stddevNorm_mean</th>\n",
       "      <th>loudness_sma3_percentile20.0_mean</th>\n",
       "      <th>loudness_sma3_percentile50.0_mean</th>\n",
       "      <th>loudness_sma3_percentile80.0_mean</th>\n",
       "      <th>loudness_sma3_pctlrange0-2_mean</th>\n",
       "      <th>loudness_sma3_meanRisingSlope_mean</th>\n",
       "      <th>loudness_sma3_stddevRisingSlope_mean</th>\n",
       "      <th>loudness_sma3_meanFallingSlope_mean</th>\n",
       "      <th>loudness_sma3_stddevFallingSlope_mean</th>\n",
       "      <th>spectralFlux_sma3_amean_mean</th>\n",
       "      <th>spectralFlux_sma3_stddevNorm_mean</th>\n",
       "      <th>mfcc1_sma3_amean_mean</th>\n",
       "      <th>mfcc1_sma3_stddevNorm_mean</th>\n",
       "      <th>mfcc2_sma3_amean_mean</th>\n",
       "      <th>mfcc2_sma3_stddevNorm_mean</th>\n",
       "      <th>mfcc3_sma3_amean_mean</th>\n",
       "      <th>mfcc3_sma3_stddevNorm_mean</th>\n",
       "      <th>mfcc4_sma3_amean_mean</th>\n",
       "      <th>mfcc4_sma3_stddevNorm_mean</th>\n",
       "      <th>jitterLocal_sma3nz_amean_mean</th>\n",
       "      <th>jitterLocal_sma3nz_stddevNorm_mean</th>\n",
       "      <th>shimmerLocaldB_sma3nz_amean_mean</th>\n",
       "      <th>...</th>\n",
       "      <th>F2bandwidth_sma3nz_stddevNorm_max</th>\n",
       "      <th>F2amplitudeLogRelF0_sma3nz_amean_max</th>\n",
       "      <th>F2amplitudeLogRelF0_sma3nz_stddevNorm_max</th>\n",
       "      <th>F3frequency_sma3nz_amean_max</th>\n",
       "      <th>F3frequency_sma3nz_stddevNorm_max</th>\n",
       "      <th>F3bandwidth_sma3nz_amean_max</th>\n",
       "      <th>F3bandwidth_sma3nz_stddevNorm_max</th>\n",
       "      <th>F3amplitudeLogRelF0_sma3nz_amean_max</th>\n",
       "      <th>F3amplitudeLogRelF0_sma3nz_stddevNorm_max</th>\n",
       "      <th>alphaRatioV_sma3nz_amean_max</th>\n",
       "      <th>alphaRatioV_sma3nz_stddevNorm_max</th>\n",
       "      <th>hammarbergIndexV_sma3nz_amean_max</th>\n",
       "      <th>hammarbergIndexV_sma3nz_stddevNorm_max</th>\n",
       "      <th>slopeV0-500_sma3nz_amean_max</th>\n",
       "      <th>slopeV0-500_sma3nz_stddevNorm_max</th>\n",
       "      <th>slopeV500-1500_sma3nz_amean_max</th>\n",
       "      <th>slopeV500-1500_sma3nz_stddevNorm_max</th>\n",
       "      <th>spectralFluxV_sma3nz_amean_max</th>\n",
       "      <th>spectralFluxV_sma3nz_stddevNorm_max</th>\n",
       "      <th>mfcc1V_sma3nz_amean_max</th>\n",
       "      <th>mfcc1V_sma3nz_stddevNorm_max</th>\n",
       "      <th>mfcc2V_sma3nz_amean_max</th>\n",
       "      <th>mfcc2V_sma3nz_stddevNorm_max</th>\n",
       "      <th>mfcc3V_sma3nz_amean_max</th>\n",
       "      <th>mfcc3V_sma3nz_stddevNorm_max</th>\n",
       "      <th>mfcc4V_sma3nz_amean_max</th>\n",
       "      <th>mfcc4V_sma3nz_stddevNorm_max</th>\n",
       "      <th>alphaRatioUV_sma3nz_amean_max</th>\n",
       "      <th>hammarbergIndexUV_sma3nz_amean_max</th>\n",
       "      <th>slopeUV0-500_sma3nz_amean_max</th>\n",
       "      <th>slopeUV500-1500_sma3nz_amean_max</th>\n",
       "      <th>spectralFluxUV_sma3nz_amean_max</th>\n",
       "      <th>loudnessPeaksPerSec_max</th>\n",
       "      <th>VoicedSegmentsPerSec_max</th>\n",
       "      <th>MeanVoicedSegmentLengthSec_max</th>\n",
       "      <th>StddevVoicedSegmentLengthSec_max</th>\n",
       "      <th>MeanUnvoicedSegmentLength_max</th>\n",
       "      <th>StddevUnvoicedSegmentLength_max</th>\n",
       "      <th>equivalentSoundLevel_dBp_max</th>\n",
       "      <th>label</th>\n",
       "    </tr>\n",
       "  </thead>\n",
       "  <tbody>\n",
       "    <tr>\n",
       "      <th>count</th>\n",
       "      <td>405.000000</td>\n",
       "      <td>405.000000</td>\n",
       "      <td>405.000000</td>\n",
       "      <td>405.000000</td>\n",
       "      <td>405.000000</td>\n",
       "      <td>405.000000</td>\n",
       "      <td>405.000000</td>\n",
       "      <td>405.000000</td>\n",
       "      <td>405.000000</td>\n",
       "      <td>405.000000</td>\n",
       "      <td>405.000000</td>\n",
       "      <td>405.000000</td>\n",
       "      <td>405.000000</td>\n",
       "      <td>405.000000</td>\n",
       "      <td>405.000000</td>\n",
       "      <td>405.000000</td>\n",
       "      <td>405.000000</td>\n",
       "      <td>405.000000</td>\n",
       "      <td>405.000000</td>\n",
       "      <td>405.000000</td>\n",
       "      <td>405.000000</td>\n",
       "      <td>405.000000</td>\n",
       "      <td>405.000000</td>\n",
       "      <td>405.000000</td>\n",
       "      <td>405.000000</td>\n",
       "      <td>405.000000</td>\n",
       "      <td>405.000000</td>\n",
       "      <td>405.000000</td>\n",
       "      <td>405.000000</td>\n",
       "      <td>405.000000</td>\n",
       "      <td>405.000000</td>\n",
       "      <td>405.000000</td>\n",
       "      <td>405.000000</td>\n",
       "      <td>405.000000</td>\n",
       "      <td>405.000000</td>\n",
       "      <td>405.000000</td>\n",
       "      <td>405.000000</td>\n",
       "      <td>405.000000</td>\n",
       "      <td>405.000000</td>\n",
       "      <td>405.000000</td>\n",
       "      <td>...</td>\n",
       "      <td>405.000000</td>\n",
       "      <td>405.000000</td>\n",
       "      <td>405.000000</td>\n",
       "      <td>4.050000e+02</td>\n",
       "      <td>405.000000</td>\n",
       "      <td>405.000000</td>\n",
       "      <td>405.000000</td>\n",
       "      <td>405.000000</td>\n",
       "      <td>405.000000</td>\n",
       "      <td>405.000000</td>\n",
       "      <td>4.050000e+02</td>\n",
       "      <td>405.000000</td>\n",
       "      <td>405.000000</td>\n",
       "      <td>405.000000</td>\n",
       "      <td>4.050000e+02</td>\n",
       "      <td>405.000000</td>\n",
       "      <td>4.050000e+02</td>\n",
       "      <td>405.000000</td>\n",
       "      <td>405.000000</td>\n",
       "      <td>405.000000</td>\n",
       "      <td>405.000000</td>\n",
       "      <td>405.000000</td>\n",
       "      <td>4.050000e+02</td>\n",
       "      <td>405.000000</td>\n",
       "      <td>4.050000e+02</td>\n",
       "      <td>405.000000</td>\n",
       "      <td>4.050000e+02</td>\n",
       "      <td>405.000000</td>\n",
       "      <td>405.000000</td>\n",
       "      <td>405.000000</td>\n",
       "      <td>405.000000</td>\n",
       "      <td>405.000000</td>\n",
       "      <td>405.000000</td>\n",
       "      <td>405.000000</td>\n",
       "      <td>405.000000</td>\n",
       "      <td>405.000000</td>\n",
       "      <td>405.000000</td>\n",
       "      <td>405.000000</td>\n",
       "      <td>405.000000</td>\n",
       "      <td>405.000000</td>\n",
       "    </tr>\n",
       "    <tr>\n",
       "      <th>mean</th>\n",
       "      <td>0.128547</td>\n",
       "      <td>0.001497</td>\n",
       "      <td>0.103264</td>\n",
       "      <td>0.254882</td>\n",
       "      <td>0.168895</td>\n",
       "      <td>0.049551</td>\n",
       "      <td>0.292277</td>\n",
       "      <td>29.346558</td>\n",
       "      <td>0.198189</td>\n",
       "      <td>25.019881</td>\n",
       "      <td>29.750026</td>\n",
       "      <td>33.620952</td>\n",
       "      <td>8.601071</td>\n",
       "      <td>208.711646</td>\n",
       "      <td>132.711805</td>\n",
       "      <td>90.526609</td>\n",
       "      <td>69.018507</td>\n",
       "      <td>1.258115</td>\n",
       "      <td>0.515119</td>\n",
       "      <td>0.713753</td>\n",
       "      <td>1.126770</td>\n",
       "      <td>1.789339</td>\n",
       "      <td>1.075586</td>\n",
       "      <td>13.890679</td>\n",
       "      <td>7.027224</td>\n",
       "      <td>8.748301</td>\n",
       "      <td>5.267168</td>\n",
       "      <td>0.969419</td>\n",
       "      <td>0.695642</td>\n",
       "      <td>23.821208</td>\n",
       "      <td>0.179616</td>\n",
       "      <td>-1.317826</td>\n",
       "      <td>-1.443551</td>\n",
       "      <td>9.544733</td>\n",
       "      <td>6.442474</td>\n",
       "      <td>-4.798155</td>\n",
       "      <td>-7.102119</td>\n",
       "      <td>0.056249</td>\n",
       "      <td>1.386572</td>\n",
       "      <td>1.333257</td>\n",
       "      <td>...</td>\n",
       "      <td>0.016716</td>\n",
       "      <td>1162.870068</td>\n",
       "      <td>56.391881</td>\n",
       "      <td>7.511756e+04</td>\n",
       "      <td>0.000661</td>\n",
       "      <td>26806.370329</td>\n",
       "      <td>0.017861</td>\n",
       "      <td>1097.405498</td>\n",
       "      <td>9.570555</td>\n",
       "      <td>21.781083</td>\n",
       "      <td>3.137460e+05</td>\n",
       "      <td>30.638778</td>\n",
       "      <td>117.956872</td>\n",
       "      <td>0.001032</td>\n",
       "      <td>1.116691e+05</td>\n",
       "      <td>0.000064</td>\n",
       "      <td>3.497660e+05</td>\n",
       "      <td>0.364385</td>\n",
       "      <td>0.048210</td>\n",
       "      <td>44.106745</td>\n",
       "      <td>34.954580</td>\n",
       "      <td>78.426519</td>\n",
       "      <td>7.753054e+05</td>\n",
       "      <td>81.701834</td>\n",
       "      <td>1.250298e+07</td>\n",
       "      <td>80.449147</td>\n",
       "      <td>6.912109e+06</td>\n",
       "      <td>40.260267</td>\n",
       "      <td>70.024357</td>\n",
       "      <td>0.001047</td>\n",
       "      <td>0.000085</td>\n",
       "      <td>0.499620</td>\n",
       "      <td>2.904168</td>\n",
       "      <td>1.808104</td>\n",
       "      <td>0.056687</td>\n",
       "      <td>0.009502</td>\n",
       "      <td>0.014898</td>\n",
       "      <td>0.001936</td>\n",
       "      <td>33.312747</td>\n",
       "      <td>0.461728</td>\n",
       "    </tr>\n",
       "    <tr>\n",
       "      <th>std</th>\n",
       "      <td>0.076677</td>\n",
       "      <td>0.003867</td>\n",
       "      <td>0.062884</td>\n",
       "      <td>0.158745</td>\n",
       "      <td>0.086977</td>\n",
       "      <td>0.039873</td>\n",
       "      <td>0.140812</td>\n",
       "      <td>4.266925</td>\n",
       "      <td>0.055253</td>\n",
       "      <td>4.775517</td>\n",
       "      <td>4.555309</td>\n",
       "      <td>4.368947</td>\n",
       "      <td>2.955028</td>\n",
       "      <td>56.053352</td>\n",
       "      <td>39.985235</td>\n",
       "      <td>24.290539</td>\n",
       "      <td>19.804102</td>\n",
       "      <td>0.574377</td>\n",
       "      <td>0.110603</td>\n",
       "      <td>0.375793</td>\n",
       "      <td>0.536321</td>\n",
       "      <td>0.795762</td>\n",
       "      <td>0.476578</td>\n",
       "      <td>6.438485</td>\n",
       "      <td>3.225041</td>\n",
       "      <td>4.129999</td>\n",
       "      <td>2.388508</td>\n",
       "      <td>0.619090</td>\n",
       "      <td>0.140892</td>\n",
       "      <td>5.917207</td>\n",
       "      <td>5.327236</td>\n",
       "      <td>7.018372</td>\n",
       "      <td>38.201007</td>\n",
       "      <td>6.621129</td>\n",
       "      <td>101.258312</td>\n",
       "      <td>7.033655</td>\n",
       "      <td>111.814249</td>\n",
       "      <td>0.015620</td>\n",
       "      <td>0.174292</td>\n",
       "      <td>0.131909</td>\n",
       "      <td>...</td>\n",
       "      <td>0.006711</td>\n",
       "      <td>773.425946</td>\n",
       "      <td>421.204301</td>\n",
       "      <td>1.687560e+05</td>\n",
       "      <td>0.000373</td>\n",
       "      <td>20257.789813</td>\n",
       "      <td>0.006122</td>\n",
       "      <td>737.167116</td>\n",
       "      <td>122.148400</td>\n",
       "      <td>13.118936</td>\n",
       "      <td>6.203877e+06</td>\n",
       "      <td>19.462891</td>\n",
       "      <td>2182.840358</td>\n",
       "      <td>0.000772</td>\n",
       "      <td>1.306937e+06</td>\n",
       "      <td>0.000031</td>\n",
       "      <td>4.346590e+06</td>\n",
       "      <td>0.594441</td>\n",
       "      <td>0.026581</td>\n",
       "      <td>30.909059</td>\n",
       "      <td>334.885206</td>\n",
       "      <td>38.512178</td>\n",
       "      <td>1.068967e+07</td>\n",
       "      <td>28.551729</td>\n",
       "      <td>2.392653e+08</td>\n",
       "      <td>35.293076</td>\n",
       "      <td>1.342187e+08</td>\n",
       "      <td>21.798274</td>\n",
       "      <td>37.175550</td>\n",
       "      <td>0.000659</td>\n",
       "      <td>0.000041</td>\n",
       "      <td>0.838803</td>\n",
       "      <td>1.509635</td>\n",
       "      <td>0.544651</td>\n",
       "      <td>0.019853</td>\n",
       "      <td>0.002324</td>\n",
       "      <td>0.020822</td>\n",
       "      <td>0.001692</td>\n",
       "      <td>43.882495</td>\n",
       "      <td>0.499150</td>\n",
       "    </tr>\n",
       "    <tr>\n",
       "      <th>min</th>\n",
       "      <td>0.016640</td>\n",
       "      <td>0.000000</td>\n",
       "      <td>0.006478</td>\n",
       "      <td>0.004862</td>\n",
       "      <td>0.013841</td>\n",
       "      <td>0.000071</td>\n",
       "      <td>0.030691</td>\n",
       "      <td>16.619584</td>\n",
       "      <td>0.069653</td>\n",
       "      <td>13.466307</td>\n",
       "      <td>14.916950</td>\n",
       "      <td>17.568818</td>\n",
       "      <td>2.370500</td>\n",
       "      <td>80.923607</td>\n",
       "      <td>42.137875</td>\n",
       "      <td>29.690461</td>\n",
       "      <td>17.991423</td>\n",
       "      <td>0.135881</td>\n",
       "      <td>0.197779</td>\n",
       "      <td>0.063924</td>\n",
       "      <td>0.111680</td>\n",
       "      <td>0.206865</td>\n",
       "      <td>0.142941</td>\n",
       "      <td>1.479834</td>\n",
       "      <td>0.788013</td>\n",
       "      <td>0.960750</td>\n",
       "      <td>0.618399</td>\n",
       "      <td>0.025993</td>\n",
       "      <td>0.391141</td>\n",
       "      <td>-5.540256</td>\n",
       "      <td>-97.272838</td>\n",
       "      <td>-32.282238</td>\n",
       "      <td>-697.784912</td>\n",
       "      <td>-12.455164</td>\n",
       "      <td>-80.022273</td>\n",
       "      <td>-25.499121</td>\n",
       "      <td>-2212.145565</td>\n",
       "      <td>0.020608</td>\n",
       "      <td>0.388237</td>\n",
       "      <td>0.816814</td>\n",
       "      <td>...</td>\n",
       "      <td>0.004695</td>\n",
       "      <td>53.386527</td>\n",
       "      <td>0.031240</td>\n",
       "      <td>5.343116e+03</td>\n",
       "      <td>0.000285</td>\n",
       "      <td>7305.347675</td>\n",
       "      <td>0.007144</td>\n",
       "      <td>33.841625</td>\n",
       "      <td>0.023991</td>\n",
       "      <td>4.051605</td>\n",
       "      <td>7.278303e-03</td>\n",
       "      <td>6.992652</td>\n",
       "      <td>0.003859</td>\n",
       "      <td>0.000124</td>\n",
       "      <td>1.840529e-03</td>\n",
       "      <td>0.000011</td>\n",
       "      <td>5.852706e-03</td>\n",
       "      <td>0.000581</td>\n",
       "      <td>0.010409</td>\n",
       "      <td>7.652279</td>\n",
       "      <td>0.003210</td>\n",
       "      <td>10.752462</td>\n",
       "      <td>3.670814e-02</td>\n",
       "      <td>24.707503</td>\n",
       "      <td>1.911515e-02</td>\n",
       "      <td>20.239515</td>\n",
       "      <td>8.053068e-02</td>\n",
       "      <td>4.960084</td>\n",
       "      <td>8.503228</td>\n",
       "      <td>0.000101</td>\n",
       "      <td>0.000017</td>\n",
       "      <td>0.000165</td>\n",
       "      <td>1.295885</td>\n",
       "      <td>0.279132</td>\n",
       "      <td>0.009075</td>\n",
       "      <td>0.002254</td>\n",
       "      <td>0.000186</td>\n",
       "      <td>0.000010</td>\n",
       "      <td>2.464138</td>\n",
       "      <td>0.000000</td>\n",
       "    </tr>\n",
       "    <tr>\n",
       "      <th>25%</th>\n",
       "      <td>0.075787</td>\n",
       "      <td>0.000274</td>\n",
       "      <td>0.060436</td>\n",
       "      <td>0.129078</td>\n",
       "      <td>0.109232</td>\n",
       "      <td>0.021841</td>\n",
       "      <td>0.191642</td>\n",
       "      <td>26.544692</td>\n",
       "      <td>0.160546</td>\n",
       "      <td>21.451660</td>\n",
       "      <td>26.721207</td>\n",
       "      <td>31.373028</td>\n",
       "      <td>6.369273</td>\n",
       "      <td>169.372145</td>\n",
       "      <td>102.541023</td>\n",
       "      <td>74.543215</td>\n",
       "      <td>56.367639</td>\n",
       "      <td>0.760424</td>\n",
       "      <td>0.445072</td>\n",
       "      <td>0.396582</td>\n",
       "      <td>0.659043</td>\n",
       "      <td>1.115875</td>\n",
       "      <td>0.717872</td>\n",
       "      <td>8.777805</td>\n",
       "      <td>4.599157</td>\n",
       "      <td>5.445093</td>\n",
       "      <td>3.438776</td>\n",
       "      <td>0.444873</td>\n",
       "      <td>0.599501</td>\n",
       "      <td>20.522805</td>\n",
       "      <td>0.359802</td>\n",
       "      <td>-5.835649</td>\n",
       "      <td>-1.834861</td>\n",
       "      <td>5.343440</td>\n",
       "      <td>0.293985</td>\n",
       "      <td>-9.349500</td>\n",
       "      <td>-1.827518</td>\n",
       "      <td>0.045064</td>\n",
       "      <td>1.303172</td>\n",
       "      <td>1.257504</td>\n",
       "      <td>...</td>\n",
       "      <td>0.012287</td>\n",
       "      <td>649.914043</td>\n",
       "      <td>0.148983</td>\n",
       "      <td>1.341030e+04</td>\n",
       "      <td>0.000463</td>\n",
       "      <td>16800.370876</td>\n",
       "      <td>0.013841</td>\n",
       "      <td>609.190351</td>\n",
       "      <td>0.094821</td>\n",
       "      <td>12.637083</td>\n",
       "      <td>1.533091e-01</td>\n",
       "      <td>17.811556</td>\n",
       "      <td>0.014742</td>\n",
       "      <td>0.000448</td>\n",
       "      <td>6.141625e+00</td>\n",
       "      <td>0.000043</td>\n",
       "      <td>4.532142e-01</td>\n",
       "      <td>0.075070</td>\n",
       "      <td>0.032006</td>\n",
       "      <td>24.179080</td>\n",
       "      <td>0.017949</td>\n",
       "      <td>51.026698</td>\n",
       "      <td>2.452676e+02</td>\n",
       "      <td>62.936456</td>\n",
       "      <td>7.773590e+01</td>\n",
       "      <td>54.621434</td>\n",
       "      <td>1.187571e+02</td>\n",
       "      <td>24.614069</td>\n",
       "      <td>42.515888</td>\n",
       "      <td>0.000571</td>\n",
       "      <td>0.000058</td>\n",
       "      <td>0.045291</td>\n",
       "      <td>2.124013</td>\n",
       "      <td>1.462158</td>\n",
       "      <td>0.042776</td>\n",
       "      <td>0.007832</td>\n",
       "      <td>0.003147</td>\n",
       "      <td>0.000767</td>\n",
       "      <td>12.861749</td>\n",
       "      <td>0.000000</td>\n",
       "    </tr>\n",
       "    <tr>\n",
       "      <th>50%</th>\n",
       "      <td>0.107647</td>\n",
       "      <td>0.000730</td>\n",
       "      <td>0.093147</td>\n",
       "      <td>0.218791</td>\n",
       "      <td>0.156738</td>\n",
       "      <td>0.040356</td>\n",
       "      <td>0.258004</td>\n",
       "      <td>29.679407</td>\n",
       "      <td>0.195586</td>\n",
       "      <td>24.918786</td>\n",
       "      <td>30.353263</td>\n",
       "      <td>34.431329</td>\n",
       "      <td>8.299876</td>\n",
       "      <td>206.116493</td>\n",
       "      <td>131.421016</td>\n",
       "      <td>88.818755</td>\n",
       "      <td>67.920551</td>\n",
       "      <td>1.257291</td>\n",
       "      <td>0.501577</td>\n",
       "      <td>0.679286</td>\n",
       "      <td>1.103420</td>\n",
       "      <td>1.791846</td>\n",
       "      <td>1.066757</td>\n",
       "      <td>13.263217</td>\n",
       "      <td>6.693141</td>\n",
       "      <td>8.318456</td>\n",
       "      <td>5.019862</td>\n",
       "      <td>0.899240</td>\n",
       "      <td>0.682408</td>\n",
       "      <td>24.731987</td>\n",
       "      <td>0.444431</td>\n",
       "      <td>-1.033634</td>\n",
       "      <td>-0.372658</td>\n",
       "      <td>9.798991</td>\n",
       "      <td>0.942835</td>\n",
       "      <td>-5.067417</td>\n",
       "      <td>-0.858456</td>\n",
       "      <td>0.054858</td>\n",
       "      <td>1.405576</td>\n",
       "      <td>1.322286</td>\n",
       "      <td>...</td>\n",
       "      <td>0.015902</td>\n",
       "      <td>949.198029</td>\n",
       "      <td>0.295730</td>\n",
       "      <td>2.059309e+04</td>\n",
       "      <td>0.000556</td>\n",
       "      <td>21964.683817</td>\n",
       "      <td>0.016783</td>\n",
       "      <td>895.583604</td>\n",
       "      <td>0.139248</td>\n",
       "      <td>18.372747</td>\n",
       "      <td>2.009076e+00</td>\n",
       "      <td>25.411433</td>\n",
       "      <td>0.028196</td>\n",
       "      <td>0.000829</td>\n",
       "      <td>1.027773e+02</td>\n",
       "      <td>0.000056</td>\n",
       "      <td>7.112611e+00</td>\n",
       "      <td>0.209532</td>\n",
       "      <td>0.042990</td>\n",
       "      <td>35.524960</td>\n",
       "      <td>0.045976</td>\n",
       "      <td>69.257007</td>\n",
       "      <td>1.151902e+03</td>\n",
       "      <td>78.732409</td>\n",
       "      <td>4.338688e+02</td>\n",
       "      <td>73.695404</td>\n",
       "      <td>5.956219e+02</td>\n",
       "      <td>34.765068</td>\n",
       "      <td>59.825955</td>\n",
       "      <td>0.000924</td>\n",
       "      <td>0.000077</td>\n",
       "      <td>0.204538</td>\n",
       "      <td>2.546136</td>\n",
       "      <td>1.731777</td>\n",
       "      <td>0.055857</td>\n",
       "      <td>0.009412</td>\n",
       "      <td>0.006410</td>\n",
       "      <td>0.001360</td>\n",
       "      <td>22.113732</td>\n",
       "      <td>0.000000</td>\n",
       "    </tr>\n",
       "    <tr>\n",
       "      <th>75%</th>\n",
       "      <td>0.156998</td>\n",
       "      <td>0.001495</td>\n",
       "      <td>0.131392</td>\n",
       "      <td>0.366490</td>\n",
       "      <td>0.205958</td>\n",
       "      <td>0.065098</td>\n",
       "      <td>0.373710</td>\n",
       "      <td>32.246419</td>\n",
       "      <td>0.236212</td>\n",
       "      <td>28.494555</td>\n",
       "      <td>32.940526</td>\n",
       "      <td>36.346623</td>\n",
       "      <td>10.604051</td>\n",
       "      <td>246.255641</td>\n",
       "      <td>159.050950</td>\n",
       "      <td>104.949380</td>\n",
       "      <td>80.213841</td>\n",
       "      <td>1.689804</td>\n",
       "      <td>0.574277</td>\n",
       "      <td>0.969469</td>\n",
       "      <td>1.543395</td>\n",
       "      <td>2.416064</td>\n",
       "      <td>1.413690</td>\n",
       "      <td>18.404829</td>\n",
       "      <td>9.455461</td>\n",
       "      <td>11.782976</td>\n",
       "      <td>6.993629</td>\n",
       "      <td>1.346563</td>\n",
       "      <td>0.778361</td>\n",
       "      <td>27.585379</td>\n",
       "      <td>0.594927</td>\n",
       "      <td>3.441300</td>\n",
       "      <td>1.462789</td>\n",
       "      <td>14.020743</td>\n",
       "      <td>1.563530</td>\n",
       "      <td>-0.397938</td>\n",
       "      <td>0.566877</td>\n",
       "      <td>0.064881</td>\n",
       "      <td>1.507142</td>\n",
       "      <td>1.408995</td>\n",
       "      <td>...</td>\n",
       "      <td>0.019926</td>\n",
       "      <td>1501.415068</td>\n",
       "      <td>1.207156</td>\n",
       "      <td>4.834734e+04</td>\n",
       "      <td>0.000706</td>\n",
       "      <td>28629.370852</td>\n",
       "      <td>0.020447</td>\n",
       "      <td>1440.106757</td>\n",
       "      <td>0.267890</td>\n",
       "      <td>28.023173</td>\n",
       "      <td>2.570962e+01</td>\n",
       "      <td>37.290235</td>\n",
       "      <td>0.124474</td>\n",
       "      <td>0.001346</td>\n",
       "      <td>8.132067e+02</td>\n",
       "      <td>0.000077</td>\n",
       "      <td>6.960419e+01</td>\n",
       "      <td>0.465454</td>\n",
       "      <td>0.058609</td>\n",
       "      <td>52.145934</td>\n",
       "      <td>0.417582</td>\n",
       "      <td>98.225357</td>\n",
       "      <td>5.207445e+03</td>\n",
       "      <td>95.529292</td>\n",
       "      <td>2.526064e+03</td>\n",
       "      <td>99.045955</td>\n",
       "      <td>3.492153e+03</td>\n",
       "      <td>52.002467</td>\n",
       "      <td>90.440213</td>\n",
       "      <td>0.001333</td>\n",
       "      <td>0.000102</td>\n",
       "      <td>0.637699</td>\n",
       "      <td>3.130875</td>\n",
       "      <td>2.118498</td>\n",
       "      <td>0.071533</td>\n",
       "      <td>0.011019</td>\n",
       "      <td>0.017861</td>\n",
       "      <td>0.002583</td>\n",
       "      <td>35.912709</td>\n",
       "      <td>1.000000</td>\n",
       "    </tr>\n",
       "    <tr>\n",
       "      <th>max</th>\n",
       "      <td>0.633676</td>\n",
       "      <td>0.065586</td>\n",
       "      <td>0.537772</td>\n",
       "      <td>0.772197</td>\n",
       "      <td>0.644095</td>\n",
       "      <td>0.271421</td>\n",
       "      <td>0.839916</td>\n",
       "      <td>47.922431</td>\n",
       "      <td>0.352617</td>\n",
       "      <td>43.443398</td>\n",
       "      <td>48.065065</td>\n",
       "      <td>52.558899</td>\n",
       "      <td>17.031983</td>\n",
       "      <td>385.745638</td>\n",
       "      <td>287.225084</td>\n",
       "      <td>181.218321</td>\n",
       "      <td>164.206786</td>\n",
       "      <td>3.099244</td>\n",
       "      <td>1.024139</td>\n",
       "      <td>2.052602</td>\n",
       "      <td>2.903624</td>\n",
       "      <td>4.145988</td>\n",
       "      <td>2.395136</td>\n",
       "      <td>34.588133</td>\n",
       "      <td>16.471051</td>\n",
       "      <td>22.630489</td>\n",
       "      <td>12.869441</td>\n",
       "      <td>3.380712</td>\n",
       "      <td>1.125268</td>\n",
       "      <td>43.948668</td>\n",
       "      <td>12.004388</td>\n",
       "      <td>19.226346</td>\n",
       "      <td>182.836982</td>\n",
       "      <td>31.130187</td>\n",
       "      <td>2027.216139</td>\n",
       "      <td>20.036168</td>\n",
       "      <td>250.337525</td>\n",
       "      <td>0.117230</td>\n",
       "      <td>1.749353</td>\n",
       "      <td>1.941764</td>\n",
       "      <td>...</td>\n",
       "      <td>0.049989</td>\n",
       "      <td>4745.776218</td>\n",
       "      <td>6543.011968</td>\n",
       "      <td>1.391454e+06</td>\n",
       "      <td>0.002829</td>\n",
       "      <td>150468.639666</td>\n",
       "      <td>0.049134</td>\n",
       "      <td>4490.212592</td>\n",
       "      <td>2405.648745</td>\n",
       "      <td>91.680449</td>\n",
       "      <td>1.248397e+08</td>\n",
       "      <td>147.895212</td>\n",
       "      <td>43903.394805</td>\n",
       "      <td>0.004411</td>\n",
       "      <td>2.362488e+07</td>\n",
       "      <td>0.000223</td>\n",
       "      <td>6.097497e+07</td>\n",
       "      <td>9.492826</td>\n",
       "      <td>0.329539</td>\n",
       "      <td>215.016275</td>\n",
       "      <td>6038.944950</td>\n",
       "      <td>274.055268</td>\n",
       "      <td>2.100455e+08</td>\n",
       "      <td>232.696569</td>\n",
       "      <td>4.811558e+09</td>\n",
       "      <td>230.071627</td>\n",
       "      <td>2.699819e+09</td>\n",
       "      <td>149.260306</td>\n",
       "      <td>220.737887</td>\n",
       "      <td>0.004872</td>\n",
       "      <td>0.000287</td>\n",
       "      <td>11.608986</td>\n",
       "      <td>14.659670</td>\n",
       "      <td>4.665172</td>\n",
       "      <td>0.114081</td>\n",
       "      <td>0.016405</td>\n",
       "      <td>0.135903</td>\n",
       "      <td>0.011209</td>\n",
       "      <td>389.701756</td>\n",
       "      <td>1.000000</td>\n",
       "    </tr>\n",
       "  </tbody>\n",
       "</table>\n",
       "<p>8 rows × 384 columns</p>\n",
       "</div>"
      ],
      "text/plain": [
       "       emotion_angry_mean  ...       label\n",
       "count          405.000000  ...  405.000000\n",
       "mean             0.128547  ...    0.461728\n",
       "std              0.076677  ...    0.499150\n",
       "min              0.016640  ...    0.000000\n",
       "25%              0.075787  ...    0.000000\n",
       "50%              0.107647  ...    0.000000\n",
       "75%              0.156998  ...    1.000000\n",
       "max              0.633676  ...    1.000000\n",
       "\n",
       "[8 rows x 384 columns]"
      ]
     },
     "execution_count": 115,
     "metadata": {
      "tags": []
     },
     "output_type": "execute_result"
    }
   ],
   "source": [
    "train.describe()"
   ]
  },
  {
   "cell_type": "code",
   "execution_count": 116,
   "metadata": {
    "colab": {
     "base_uri": "https://localhost:8080/",
     "height": 0
    },
    "id": "dxiB6q2Y_yt-",
    "outputId": "96a0c5b0-8c40-4544-987a-4b6c9e5b266b"
   },
   "outputs": [
    {
     "data": {
      "text/html": [
       "<div>\n",
       "<style scoped>\n",
       "    .dataframe tbody tr th:only-of-type {\n",
       "        vertical-align: middle;\n",
       "    }\n",
       "\n",
       "    .dataframe tbody tr th {\n",
       "        vertical-align: top;\n",
       "    }\n",
       "\n",
       "    .dataframe thead th {\n",
       "        text-align: right;\n",
       "    }\n",
       "</style>\n",
       "<table border=\"1\" class=\"dataframe\">\n",
       "  <thead>\n",
       "    <tr style=\"text-align: right;\">\n",
       "      <th></th>\n",
       "      <th>emotion_angry_mean</th>\n",
       "      <th>emotion_disgust_mean</th>\n",
       "      <th>emotion_fear_mean</th>\n",
       "      <th>emotion_happy_mean</th>\n",
       "      <th>emotion_sad_mean</th>\n",
       "      <th>emotion_surprise_mean</th>\n",
       "      <th>emotion_neutral_mean</th>\n",
       "      <th>F0semitoneFrom27.5Hz_sma3nz_amean_mean</th>\n",
       "      <th>F0semitoneFrom27.5Hz_sma3nz_stddevNorm_mean</th>\n",
       "      <th>F0semitoneFrom27.5Hz_sma3nz_percentile20.0_mean</th>\n",
       "      <th>F0semitoneFrom27.5Hz_sma3nz_percentile50.0_mean</th>\n",
       "      <th>F0semitoneFrom27.5Hz_sma3nz_percentile80.0_mean</th>\n",
       "      <th>F0semitoneFrom27.5Hz_sma3nz_pctlrange0-2_mean</th>\n",
       "      <th>F0semitoneFrom27.5Hz_sma3nz_meanRisingSlope_mean</th>\n",
       "      <th>F0semitoneFrom27.5Hz_sma3nz_stddevRisingSlope_mean</th>\n",
       "      <th>F0semitoneFrom27.5Hz_sma3nz_meanFallingSlope_mean</th>\n",
       "      <th>F0semitoneFrom27.5Hz_sma3nz_stddevFallingSlope_mean</th>\n",
       "      <th>loudness_sma3_amean_mean</th>\n",
       "      <th>loudness_sma3_stddevNorm_mean</th>\n",
       "      <th>loudness_sma3_percentile20.0_mean</th>\n",
       "      <th>loudness_sma3_percentile50.0_mean</th>\n",
       "      <th>loudness_sma3_percentile80.0_mean</th>\n",
       "      <th>loudness_sma3_pctlrange0-2_mean</th>\n",
       "      <th>loudness_sma3_meanRisingSlope_mean</th>\n",
       "      <th>loudness_sma3_stddevRisingSlope_mean</th>\n",
       "      <th>loudness_sma3_meanFallingSlope_mean</th>\n",
       "      <th>loudness_sma3_stddevFallingSlope_mean</th>\n",
       "      <th>spectralFlux_sma3_amean_mean</th>\n",
       "      <th>spectralFlux_sma3_stddevNorm_mean</th>\n",
       "      <th>mfcc1_sma3_amean_mean</th>\n",
       "      <th>mfcc1_sma3_stddevNorm_mean</th>\n",
       "      <th>mfcc2_sma3_amean_mean</th>\n",
       "      <th>mfcc2_sma3_stddevNorm_mean</th>\n",
       "      <th>mfcc3_sma3_amean_mean</th>\n",
       "      <th>mfcc3_sma3_stddevNorm_mean</th>\n",
       "      <th>mfcc4_sma3_amean_mean</th>\n",
       "      <th>mfcc4_sma3_stddevNorm_mean</th>\n",
       "      <th>jitterLocal_sma3nz_amean_mean</th>\n",
       "      <th>jitterLocal_sma3nz_stddevNorm_mean</th>\n",
       "      <th>shimmerLocaldB_sma3nz_amean_mean</th>\n",
       "      <th>...</th>\n",
       "      <th>F2bandwidth_sma3nz_amean_max</th>\n",
       "      <th>F2bandwidth_sma3nz_stddevNorm_max</th>\n",
       "      <th>F2amplitudeLogRelF0_sma3nz_amean_max</th>\n",
       "      <th>F2amplitudeLogRelF0_sma3nz_stddevNorm_max</th>\n",
       "      <th>F3frequency_sma3nz_amean_max</th>\n",
       "      <th>F3frequency_sma3nz_stddevNorm_max</th>\n",
       "      <th>F3bandwidth_sma3nz_amean_max</th>\n",
       "      <th>F3bandwidth_sma3nz_stddevNorm_max</th>\n",
       "      <th>F3amplitudeLogRelF0_sma3nz_amean_max</th>\n",
       "      <th>F3amplitudeLogRelF0_sma3nz_stddevNorm_max</th>\n",
       "      <th>alphaRatioV_sma3nz_amean_max</th>\n",
       "      <th>alphaRatioV_sma3nz_stddevNorm_max</th>\n",
       "      <th>hammarbergIndexV_sma3nz_amean_max</th>\n",
       "      <th>hammarbergIndexV_sma3nz_stddevNorm_max</th>\n",
       "      <th>slopeV0-500_sma3nz_amean_max</th>\n",
       "      <th>slopeV0-500_sma3nz_stddevNorm_max</th>\n",
       "      <th>slopeV500-1500_sma3nz_amean_max</th>\n",
       "      <th>slopeV500-1500_sma3nz_stddevNorm_max</th>\n",
       "      <th>spectralFluxV_sma3nz_amean_max</th>\n",
       "      <th>spectralFluxV_sma3nz_stddevNorm_max</th>\n",
       "      <th>mfcc1V_sma3nz_amean_max</th>\n",
       "      <th>mfcc1V_sma3nz_stddevNorm_max</th>\n",
       "      <th>mfcc2V_sma3nz_amean_max</th>\n",
       "      <th>mfcc2V_sma3nz_stddevNorm_max</th>\n",
       "      <th>mfcc3V_sma3nz_amean_max</th>\n",
       "      <th>mfcc3V_sma3nz_stddevNorm_max</th>\n",
       "      <th>mfcc4V_sma3nz_amean_max</th>\n",
       "      <th>mfcc4V_sma3nz_stddevNorm_max</th>\n",
       "      <th>alphaRatioUV_sma3nz_amean_max</th>\n",
       "      <th>hammarbergIndexUV_sma3nz_amean_max</th>\n",
       "      <th>slopeUV0-500_sma3nz_amean_max</th>\n",
       "      <th>slopeUV500-1500_sma3nz_amean_max</th>\n",
       "      <th>spectralFluxUV_sma3nz_amean_max</th>\n",
       "      <th>loudnessPeaksPerSec_max</th>\n",
       "      <th>VoicedSegmentsPerSec_max</th>\n",
       "      <th>MeanVoicedSegmentLengthSec_max</th>\n",
       "      <th>StddevVoicedSegmentLengthSec_max</th>\n",
       "      <th>MeanUnvoicedSegmentLength_max</th>\n",
       "      <th>StddevUnvoicedSegmentLength_max</th>\n",
       "      <th>equivalentSoundLevel_dBp_max</th>\n",
       "    </tr>\n",
       "  </thead>\n",
       "  <tbody>\n",
       "    <tr>\n",
       "      <th>0</th>\n",
       "      <td>0.155693</td>\n",
       "      <td>0.000225</td>\n",
       "      <td>0.077640</td>\n",
       "      <td>0.226517</td>\n",
       "      <td>0.208652</td>\n",
       "      <td>0.044869</td>\n",
       "      <td>0.285805</td>\n",
       "      <td>22.734337</td>\n",
       "      <td>0.204727</td>\n",
       "      <td>18.768689</td>\n",
       "      <td>22.825144</td>\n",
       "      <td>26.437933</td>\n",
       "      <td>7.669243</td>\n",
       "      <td>154.216004</td>\n",
       "      <td>120.644116</td>\n",
       "      <td>98.211368</td>\n",
       "      <td>75.855315</td>\n",
       "      <td>1.015353</td>\n",
       "      <td>0.517132</td>\n",
       "      <td>0.572970</td>\n",
       "      <td>0.892117</td>\n",
       "      <td>1.437425</td>\n",
       "      <td>0.864454</td>\n",
       "      <td>11.547967</td>\n",
       "      <td>6.075034</td>\n",
       "      <td>8.175721</td>\n",
       "      <td>4.964917</td>\n",
       "      <td>0.838042</td>\n",
       "      <td>0.816384</td>\n",
       "      <td>24.897853</td>\n",
       "      <td>0.527930</td>\n",
       "      <td>1.689141</td>\n",
       "      <td>-3.422121</td>\n",
       "      <td>14.106929</td>\n",
       "      <td>0.737629</td>\n",
       "      <td>3.275405</td>\n",
       "      <td>3.215152</td>\n",
       "      <td>0.076818</td>\n",
       "      <td>1.205838</td>\n",
       "      <td>1.659669</td>\n",
       "      <td>...</td>\n",
       "      <td>17982.470382</td>\n",
       "      <td>0.012680</td>\n",
       "      <td>616.083640</td>\n",
       "      <td>0.061312</td>\n",
       "      <td>6200.688869</td>\n",
       "      <td>0.000911</td>\n",
       "      <td>15808.225844</td>\n",
       "      <td>0.012500</td>\n",
       "      <td>591.961803</td>\n",
       "      <td>0.049908</td>\n",
       "      <td>7.843710</td>\n",
       "      <td>0.022597</td>\n",
       "      <td>14.797768</td>\n",
       "      <td>0.013479</td>\n",
       "      <td>0.000349</td>\n",
       "      <td>4330.337793</td>\n",
       "      <td>0.000049</td>\n",
       "      <td>0.019668</td>\n",
       "      <td>0.138786</td>\n",
       "      <td>0.069729</td>\n",
       "      <td>21.824390</td>\n",
       "      <td>0.018730</td>\n",
       "      <td>30.531802</td>\n",
       "      <td>307.571620</td>\n",
       "      <td>66.268935</td>\n",
       "      <td>268.242701</td>\n",
       "      <td>50.879484</td>\n",
       "      <td>667.047326</td>\n",
       "      <td>22.063426</td>\n",
       "      <td>34.789545</td>\n",
       "      <td>0.000287</td>\n",
       "      <td>0.000038</td>\n",
       "      <td>0.051829</td>\n",
       "      <td>2.445959</td>\n",
       "      <td>2.175879</td>\n",
       "      <td>0.027020</td>\n",
       "      <td>0.005952</td>\n",
       "      <td>0.003459</td>\n",
       "      <td>0.001186</td>\n",
       "      <td>15.198562</td>\n",
       "    </tr>\n",
       "    <tr>\n",
       "      <th>1</th>\n",
       "      <td>0.177189</td>\n",
       "      <td>0.000472</td>\n",
       "      <td>0.095150</td>\n",
       "      <td>0.250708</td>\n",
       "      <td>0.331609</td>\n",
       "      <td>0.024785</td>\n",
       "      <td>0.118970</td>\n",
       "      <td>32.708595</td>\n",
       "      <td>0.124259</td>\n",
       "      <td>29.709912</td>\n",
       "      <td>32.511974</td>\n",
       "      <td>35.718257</td>\n",
       "      <td>6.008345</td>\n",
       "      <td>136.941469</td>\n",
       "      <td>83.734519</td>\n",
       "      <td>74.981479</td>\n",
       "      <td>57.387060</td>\n",
       "      <td>1.922800</td>\n",
       "      <td>0.456558</td>\n",
       "      <td>1.177125</td>\n",
       "      <td>1.734119</td>\n",
       "      <td>2.672978</td>\n",
       "      <td>1.495853</td>\n",
       "      <td>18.064664</td>\n",
       "      <td>9.747658</td>\n",
       "      <td>13.769853</td>\n",
       "      <td>8.826276</td>\n",
       "      <td>1.329625</td>\n",
       "      <td>0.712600</td>\n",
       "      <td>21.362207</td>\n",
       "      <td>0.830010</td>\n",
       "      <td>-17.246966</td>\n",
       "      <td>-0.134327</td>\n",
       "      <td>15.995365</td>\n",
       "      <td>1.108757</td>\n",
       "      <td>-15.705268</td>\n",
       "      <td>-13.643544</td>\n",
       "      <td>0.036286</td>\n",
       "      <td>1.259429</td>\n",
       "      <td>1.129771</td>\n",
       "      <td>...</td>\n",
       "      <td>50304.793142</td>\n",
       "      <td>0.019419</td>\n",
       "      <td>2070.233673</td>\n",
       "      <td>34.576160</td>\n",
       "      <td>143758.858265</td>\n",
       "      <td>0.000785</td>\n",
       "      <td>42272.420261</td>\n",
       "      <td>0.015091</td>\n",
       "      <td>1995.585941</td>\n",
       "      <td>1.786308</td>\n",
       "      <td>19.838539</td>\n",
       "      <td>7821.411711</td>\n",
       "      <td>27.573449</td>\n",
       "      <td>4.331645</td>\n",
       "      <td>0.001032</td>\n",
       "      <td>4.839315</td>\n",
       "      <td>0.000077</td>\n",
       "      <td>7.919872</td>\n",
       "      <td>0.517096</td>\n",
       "      <td>0.040509</td>\n",
       "      <td>71.631249</td>\n",
       "      <td>0.293790</td>\n",
       "      <td>94.483504</td>\n",
       "      <td>52.795820</td>\n",
       "      <td>88.068110</td>\n",
       "      <td>106.725353</td>\n",
       "      <td>114.730813</td>\n",
       "      <td>317.448196</td>\n",
       "      <td>27.561844</td>\n",
       "      <td>43.653214</td>\n",
       "      <td>0.000710</td>\n",
       "      <td>0.000046</td>\n",
       "      <td>0.279759</td>\n",
       "      <td>2.845289</td>\n",
       "      <td>1.989588</td>\n",
       "      <td>0.034542</td>\n",
       "      <td>0.007503</td>\n",
       "      <td>0.028266</td>\n",
       "      <td>0.004244</td>\n",
       "      <td>45.247296</td>\n",
       "    </tr>\n",
       "    <tr>\n",
       "      <th>2</th>\n",
       "      <td>0.115742</td>\n",
       "      <td>0.000000</td>\n",
       "      <td>0.137801</td>\n",
       "      <td>0.263019</td>\n",
       "      <td>0.037417</td>\n",
       "      <td>0.339825</td>\n",
       "      <td>0.106073</td>\n",
       "      <td>24.519061</td>\n",
       "      <td>0.275752</td>\n",
       "      <td>18.481840</td>\n",
       "      <td>25.314064</td>\n",
       "      <td>30.219523</td>\n",
       "      <td>11.737683</td>\n",
       "      <td>267.656783</td>\n",
       "      <td>181.559340</td>\n",
       "      <td>72.631308</td>\n",
       "      <td>51.371216</td>\n",
       "      <td>0.483330</td>\n",
       "      <td>0.540517</td>\n",
       "      <td>0.249898</td>\n",
       "      <td>0.392877</td>\n",
       "      <td>0.708739</td>\n",
       "      <td>0.458841</td>\n",
       "      <td>4.468053</td>\n",
       "      <td>2.247639</td>\n",
       "      <td>3.560821</td>\n",
       "      <td>2.419264</td>\n",
       "      <td>0.153412</td>\n",
       "      <td>0.643848</td>\n",
       "      <td>18.994722</td>\n",
       "      <td>0.935575</td>\n",
       "      <td>-1.649969</td>\n",
       "      <td>-2.258346</td>\n",
       "      <td>13.292457</td>\n",
       "      <td>0.845352</td>\n",
       "      <td>6.366086</td>\n",
       "      <td>2.211275</td>\n",
       "      <td>0.063259</td>\n",
       "      <td>1.465828</td>\n",
       "      <td>1.239499</td>\n",
       "      <td>...</td>\n",
       "      <td>38566.680677</td>\n",
       "      <td>0.027050</td>\n",
       "      <td>609.706088</td>\n",
       "      <td>0.062130</td>\n",
       "      <td>14448.231789</td>\n",
       "      <td>0.000601</td>\n",
       "      <td>18805.715206</td>\n",
       "      <td>0.018597</td>\n",
       "      <td>593.528991</td>\n",
       "      <td>0.054361</td>\n",
       "      <td>6.278065</td>\n",
       "      <td>0.652322</td>\n",
       "      <td>10.604264</td>\n",
       "      <td>0.029514</td>\n",
       "      <td>0.000448</td>\n",
       "      <td>538.120013</td>\n",
       "      <td>0.000015</td>\n",
       "      <td>101.545886</td>\n",
       "      <td>0.008205</td>\n",
       "      <td>0.072020</td>\n",
       "      <td>17.307621</td>\n",
       "      <td>0.065429</td>\n",
       "      <td>27.194236</td>\n",
       "      <td>2263.477652</td>\n",
       "      <td>61.025339</td>\n",
       "      <td>3.357796</td>\n",
       "      <td>38.976827</td>\n",
       "      <td>24405.887573</td>\n",
       "      <td>24.433860</td>\n",
       "      <td>38.649411</td>\n",
       "      <td>0.000327</td>\n",
       "      <td>0.000026</td>\n",
       "      <td>0.004078</td>\n",
       "      <td>6.070183</td>\n",
       "      <td>2.498411</td>\n",
       "      <td>0.035397</td>\n",
       "      <td>0.007867</td>\n",
       "      <td>0.002465</td>\n",
       "      <td>0.000826</td>\n",
       "      <td>35.774421</td>\n",
       "    </tr>\n",
       "    <tr>\n",
       "      <th>3</th>\n",
       "      <td>0.177156</td>\n",
       "      <td>0.006881</td>\n",
       "      <td>0.109358</td>\n",
       "      <td>0.168853</td>\n",
       "      <td>0.232248</td>\n",
       "      <td>0.029725</td>\n",
       "      <td>0.274174</td>\n",
       "      <td>31.118901</td>\n",
       "      <td>0.192860</td>\n",
       "      <td>26.638773</td>\n",
       "      <td>32.008271</td>\n",
       "      <td>35.661992</td>\n",
       "      <td>9.023220</td>\n",
       "      <td>207.413406</td>\n",
       "      <td>145.344093</td>\n",
       "      <td>95.990228</td>\n",
       "      <td>86.200980</td>\n",
       "      <td>1.035560</td>\n",
       "      <td>0.532370</td>\n",
       "      <td>0.537705</td>\n",
       "      <td>0.936623</td>\n",
       "      <td>1.526493</td>\n",
       "      <td>0.988789</td>\n",
       "      <td>13.242584</td>\n",
       "      <td>6.573724</td>\n",
       "      <td>8.667719</td>\n",
       "      <td>5.097601</td>\n",
       "      <td>0.794449</td>\n",
       "      <td>0.779298</td>\n",
       "      <td>28.908430</td>\n",
       "      <td>0.428023</td>\n",
       "      <td>3.616044</td>\n",
       "      <td>0.601966</td>\n",
       "      <td>-4.027342</td>\n",
       "      <td>1.709691</td>\n",
       "      <td>-5.684554</td>\n",
       "      <td>-0.856703</td>\n",
       "      <td>0.059627</td>\n",
       "      <td>1.557857</td>\n",
       "      <td>1.286238</td>\n",
       "      <td>...</td>\n",
       "      <td>13467.128860</td>\n",
       "      <td>0.007874</td>\n",
       "      <td>781.165075</td>\n",
       "      <td>0.133547</td>\n",
       "      <td>10195.767070</td>\n",
       "      <td>0.000458</td>\n",
       "      <td>11827.151817</td>\n",
       "      <td>0.011344</td>\n",
       "      <td>696.710070</td>\n",
       "      <td>0.092251</td>\n",
       "      <td>12.838760</td>\n",
       "      <td>0.021288</td>\n",
       "      <td>19.157211</td>\n",
       "      <td>0.005736</td>\n",
       "      <td>0.001479</td>\n",
       "      <td>39.506592</td>\n",
       "      <td>0.000084</td>\n",
       "      <td>3.924954</td>\n",
       "      <td>0.130370</td>\n",
       "      <td>0.039720</td>\n",
       "      <td>30.749190</td>\n",
       "      <td>0.012537</td>\n",
       "      <td>52.456809</td>\n",
       "      <td>3700.589353</td>\n",
       "      <td>93.016479</td>\n",
       "      <td>10369.125230</td>\n",
       "      <td>53.160967</td>\n",
       "      <td>91.814299</td>\n",
       "      <td>29.058963</td>\n",
       "      <td>59.291765</td>\n",
       "      <td>0.001489</td>\n",
       "      <td>0.000106</td>\n",
       "      <td>0.097864</td>\n",
       "      <td>1.901166</td>\n",
       "      <td>1.225588</td>\n",
       "      <td>0.050491</td>\n",
       "      <td>0.009857</td>\n",
       "      <td>0.006159</td>\n",
       "      <td>0.002145</td>\n",
       "      <td>29.074474</td>\n",
       "    </tr>\n",
       "    <tr>\n",
       "      <th>4</th>\n",
       "      <td>0.158447</td>\n",
       "      <td>0.000590</td>\n",
       "      <td>0.020714</td>\n",
       "      <td>0.365590</td>\n",
       "      <td>0.038323</td>\n",
       "      <td>0.030652</td>\n",
       "      <td>0.383696</td>\n",
       "      <td>25.028946</td>\n",
       "      <td>0.137911</td>\n",
       "      <td>23.118855</td>\n",
       "      <td>25.296821</td>\n",
       "      <td>26.964157</td>\n",
       "      <td>3.845303</td>\n",
       "      <td>164.440379</td>\n",
       "      <td>121.341167</td>\n",
       "      <td>66.729726</td>\n",
       "      <td>52.764720</td>\n",
       "      <td>0.683575</td>\n",
       "      <td>0.673899</td>\n",
       "      <td>0.292936</td>\n",
       "      <td>0.589182</td>\n",
       "      <td>1.052110</td>\n",
       "      <td>0.759174</td>\n",
       "      <td>9.164967</td>\n",
       "      <td>4.242249</td>\n",
       "      <td>6.460103</td>\n",
       "      <td>3.778038</td>\n",
       "      <td>0.467407</td>\n",
       "      <td>0.864382</td>\n",
       "      <td>27.784781</td>\n",
       "      <td>1.423386</td>\n",
       "      <td>8.445526</td>\n",
       "      <td>2.653195</td>\n",
       "      <td>8.772452</td>\n",
       "      <td>1.757676</td>\n",
       "      <td>8.542043</td>\n",
       "      <td>-0.729913</td>\n",
       "      <td>0.048158</td>\n",
       "      <td>1.222966</td>\n",
       "      <td>1.475107</td>\n",
       "      <td>...</td>\n",
       "      <td>33526.885335</td>\n",
       "      <td>0.017096</td>\n",
       "      <td>2034.376651</td>\n",
       "      <td>0.186428</td>\n",
       "      <td>141274.878068</td>\n",
       "      <td>0.001091</td>\n",
       "      <td>31274.315754</td>\n",
       "      <td>0.015823</td>\n",
       "      <td>1892.995069</td>\n",
       "      <td>0.096154</td>\n",
       "      <td>26.421220</td>\n",
       "      <td>0.118202</td>\n",
       "      <td>34.604239</td>\n",
       "      <td>0.086613</td>\n",
       "      <td>0.000398</td>\n",
       "      <td>1.621524</td>\n",
       "      <td>0.000069</td>\n",
       "      <td>2.654020</td>\n",
       "      <td>0.096702</td>\n",
       "      <td>0.036859</td>\n",
       "      <td>69.977262</td>\n",
       "      <td>0.322486</td>\n",
       "      <td>65.670479</td>\n",
       "      <td>2061.121631</td>\n",
       "      <td>124.016950</td>\n",
       "      <td>974.769019</td>\n",
       "      <td>86.327839</td>\n",
       "      <td>3755.481462</td>\n",
       "      <td>50.564212</td>\n",
       "      <td>64.947256</td>\n",
       "      <td>0.000399</td>\n",
       "      <td>0.000069</td>\n",
       "      <td>0.008429</td>\n",
       "      <td>2.504805</td>\n",
       "      <td>1.520078</td>\n",
       "      <td>0.040294</td>\n",
       "      <td>0.009421</td>\n",
       "      <td>0.035145</td>\n",
       "      <td>0.004283</td>\n",
       "      <td>58.733451</td>\n",
       "    </tr>\n",
       "  </tbody>\n",
       "</table>\n",
       "<p>5 rows × 383 columns</p>\n",
       "</div>"
      ],
      "text/plain": [
       "   emotion_angry_mean  ...  equivalentSoundLevel_dBp_max\n",
       "0            0.155693  ...                     15.198562\n",
       "1            0.177189  ...                     45.247296\n",
       "2            0.115742  ...                     35.774421\n",
       "3            0.177156  ...                     29.074474\n",
       "4            0.158447  ...                     58.733451\n",
       "\n",
       "[5 rows x 383 columns]"
      ]
     },
     "execution_count": 116,
     "metadata": {
      "tags": []
     },
     "output_type": "execute_result"
    }
   ],
   "source": [
    "test.head(5)"
   ]
  },
  {
   "cell_type": "code",
   "execution_count": 117,
   "metadata": {
    "colab": {
     "base_uri": "https://localhost:8080/"
    },
    "id": "nXMG7NnB_1g6",
    "outputId": "f95ce4c7-cb0f-4f1e-b902-73097cc7a647"
   },
   "outputs": [
    {
     "name": "stdout",
     "output_type": "stream",
     "text": [
      "<class 'pandas.core.frame.DataFrame'>\n",
      "RangeIndex: 100 entries, 0 to 99\n",
      "Columns: 383 entries, emotion_angry_mean to equivalentSoundLevel_dBp_max\n",
      "dtypes: float64(383)\n",
      "memory usage: 299.3 KB\n"
     ]
    }
   ],
   "source": [
    "test.info()"
   ]
  },
  {
   "cell_type": "code",
   "execution_count": 118,
   "metadata": {
    "colab": {
     "base_uri": "https://localhost:8080/",
     "height": 0
    },
    "id": "CvfxiRAo_24P",
    "outputId": "964f8dfc-55af-4025-a0f8-9047c4b1a0fa"
   },
   "outputs": [
    {
     "data": {
      "text/html": [
       "<div>\n",
       "<style scoped>\n",
       "    .dataframe tbody tr th:only-of-type {\n",
       "        vertical-align: middle;\n",
       "    }\n",
       "\n",
       "    .dataframe tbody tr th {\n",
       "        vertical-align: top;\n",
       "    }\n",
       "\n",
       "    .dataframe thead th {\n",
       "        text-align: right;\n",
       "    }\n",
       "</style>\n",
       "<table border=\"1\" class=\"dataframe\">\n",
       "  <thead>\n",
       "    <tr style=\"text-align: right;\">\n",
       "      <th></th>\n",
       "      <th>emotion_angry_mean</th>\n",
       "      <th>emotion_disgust_mean</th>\n",
       "      <th>emotion_fear_mean</th>\n",
       "      <th>emotion_happy_mean</th>\n",
       "      <th>emotion_sad_mean</th>\n",
       "      <th>emotion_surprise_mean</th>\n",
       "      <th>emotion_neutral_mean</th>\n",
       "      <th>F0semitoneFrom27.5Hz_sma3nz_amean_mean</th>\n",
       "      <th>F0semitoneFrom27.5Hz_sma3nz_stddevNorm_mean</th>\n",
       "      <th>F0semitoneFrom27.5Hz_sma3nz_percentile20.0_mean</th>\n",
       "      <th>F0semitoneFrom27.5Hz_sma3nz_percentile50.0_mean</th>\n",
       "      <th>F0semitoneFrom27.5Hz_sma3nz_percentile80.0_mean</th>\n",
       "      <th>F0semitoneFrom27.5Hz_sma3nz_pctlrange0-2_mean</th>\n",
       "      <th>F0semitoneFrom27.5Hz_sma3nz_meanRisingSlope_mean</th>\n",
       "      <th>F0semitoneFrom27.5Hz_sma3nz_stddevRisingSlope_mean</th>\n",
       "      <th>F0semitoneFrom27.5Hz_sma3nz_meanFallingSlope_mean</th>\n",
       "      <th>F0semitoneFrom27.5Hz_sma3nz_stddevFallingSlope_mean</th>\n",
       "      <th>loudness_sma3_amean_mean</th>\n",
       "      <th>loudness_sma3_stddevNorm_mean</th>\n",
       "      <th>loudness_sma3_percentile20.0_mean</th>\n",
       "      <th>loudness_sma3_percentile50.0_mean</th>\n",
       "      <th>loudness_sma3_percentile80.0_mean</th>\n",
       "      <th>loudness_sma3_pctlrange0-2_mean</th>\n",
       "      <th>loudness_sma3_meanRisingSlope_mean</th>\n",
       "      <th>loudness_sma3_stddevRisingSlope_mean</th>\n",
       "      <th>loudness_sma3_meanFallingSlope_mean</th>\n",
       "      <th>loudness_sma3_stddevFallingSlope_mean</th>\n",
       "      <th>spectralFlux_sma3_amean_mean</th>\n",
       "      <th>spectralFlux_sma3_stddevNorm_mean</th>\n",
       "      <th>mfcc1_sma3_amean_mean</th>\n",
       "      <th>mfcc1_sma3_stddevNorm_mean</th>\n",
       "      <th>mfcc2_sma3_amean_mean</th>\n",
       "      <th>mfcc2_sma3_stddevNorm_mean</th>\n",
       "      <th>mfcc3_sma3_amean_mean</th>\n",
       "      <th>mfcc3_sma3_stddevNorm_mean</th>\n",
       "      <th>mfcc4_sma3_amean_mean</th>\n",
       "      <th>mfcc4_sma3_stddevNorm_mean</th>\n",
       "      <th>jitterLocal_sma3nz_amean_mean</th>\n",
       "      <th>jitterLocal_sma3nz_stddevNorm_mean</th>\n",
       "      <th>shimmerLocaldB_sma3nz_amean_mean</th>\n",
       "      <th>...</th>\n",
       "      <th>F2bandwidth_sma3nz_amean_max</th>\n",
       "      <th>F2bandwidth_sma3nz_stddevNorm_max</th>\n",
       "      <th>F2amplitudeLogRelF0_sma3nz_amean_max</th>\n",
       "      <th>F2amplitudeLogRelF0_sma3nz_stddevNorm_max</th>\n",
       "      <th>F3frequency_sma3nz_amean_max</th>\n",
       "      <th>F3frequency_sma3nz_stddevNorm_max</th>\n",
       "      <th>F3bandwidth_sma3nz_amean_max</th>\n",
       "      <th>F3bandwidth_sma3nz_stddevNorm_max</th>\n",
       "      <th>F3amplitudeLogRelF0_sma3nz_amean_max</th>\n",
       "      <th>F3amplitudeLogRelF0_sma3nz_stddevNorm_max</th>\n",
       "      <th>alphaRatioV_sma3nz_amean_max</th>\n",
       "      <th>alphaRatioV_sma3nz_stddevNorm_max</th>\n",
       "      <th>hammarbergIndexV_sma3nz_amean_max</th>\n",
       "      <th>hammarbergIndexV_sma3nz_stddevNorm_max</th>\n",
       "      <th>slopeV0-500_sma3nz_amean_max</th>\n",
       "      <th>slopeV0-500_sma3nz_stddevNorm_max</th>\n",
       "      <th>slopeV500-1500_sma3nz_amean_max</th>\n",
       "      <th>slopeV500-1500_sma3nz_stddevNorm_max</th>\n",
       "      <th>spectralFluxV_sma3nz_amean_max</th>\n",
       "      <th>spectralFluxV_sma3nz_stddevNorm_max</th>\n",
       "      <th>mfcc1V_sma3nz_amean_max</th>\n",
       "      <th>mfcc1V_sma3nz_stddevNorm_max</th>\n",
       "      <th>mfcc2V_sma3nz_amean_max</th>\n",
       "      <th>mfcc2V_sma3nz_stddevNorm_max</th>\n",
       "      <th>mfcc3V_sma3nz_amean_max</th>\n",
       "      <th>mfcc3V_sma3nz_stddevNorm_max</th>\n",
       "      <th>mfcc4V_sma3nz_amean_max</th>\n",
       "      <th>mfcc4V_sma3nz_stddevNorm_max</th>\n",
       "      <th>alphaRatioUV_sma3nz_amean_max</th>\n",
       "      <th>hammarbergIndexUV_sma3nz_amean_max</th>\n",
       "      <th>slopeUV0-500_sma3nz_amean_max</th>\n",
       "      <th>slopeUV500-1500_sma3nz_amean_max</th>\n",
       "      <th>spectralFluxUV_sma3nz_amean_max</th>\n",
       "      <th>loudnessPeaksPerSec_max</th>\n",
       "      <th>VoicedSegmentsPerSec_max</th>\n",
       "      <th>MeanVoicedSegmentLengthSec_max</th>\n",
       "      <th>StddevVoicedSegmentLengthSec_max</th>\n",
       "      <th>MeanUnvoicedSegmentLength_max</th>\n",
       "      <th>StddevUnvoicedSegmentLength_max</th>\n",
       "      <th>equivalentSoundLevel_dBp_max</th>\n",
       "    </tr>\n",
       "  </thead>\n",
       "  <tbody>\n",
       "    <tr>\n",
       "      <th>count</th>\n",
       "      <td>100.000000</td>\n",
       "      <td>100.000000</td>\n",
       "      <td>100.000000</td>\n",
       "      <td>100.000000</td>\n",
       "      <td>100.000000</td>\n",
       "      <td>100.000000</td>\n",
       "      <td>100.000000</td>\n",
       "      <td>100.000000</td>\n",
       "      <td>100.000000</td>\n",
       "      <td>100.000000</td>\n",
       "      <td>100.000000</td>\n",
       "      <td>100.000000</td>\n",
       "      <td>100.000000</td>\n",
       "      <td>100.000000</td>\n",
       "      <td>100.000000</td>\n",
       "      <td>100.000000</td>\n",
       "      <td>100.000000</td>\n",
       "      <td>100.000000</td>\n",
       "      <td>100.000000</td>\n",
       "      <td>100.000000</td>\n",
       "      <td>100.000000</td>\n",
       "      <td>100.000000</td>\n",
       "      <td>100.000000</td>\n",
       "      <td>100.000000</td>\n",
       "      <td>100.000000</td>\n",
       "      <td>100.000000</td>\n",
       "      <td>100.000000</td>\n",
       "      <td>100.000000</td>\n",
       "      <td>100.000000</td>\n",
       "      <td>100.000000</td>\n",
       "      <td>100.000000</td>\n",
       "      <td>100.000000</td>\n",
       "      <td>100.000000</td>\n",
       "      <td>100.000000</td>\n",
       "      <td>100.000000</td>\n",
       "      <td>100.000000</td>\n",
       "      <td>100.000000</td>\n",
       "      <td>100.000000</td>\n",
       "      <td>100.000000</td>\n",
       "      <td>100.000000</td>\n",
       "      <td>...</td>\n",
       "      <td>100.000000</td>\n",
       "      <td>100.000000</td>\n",
       "      <td>100.000000</td>\n",
       "      <td>100.000000</td>\n",
       "      <td>100.000000</td>\n",
       "      <td>100.000000</td>\n",
       "      <td>100.000000</td>\n",
       "      <td>100.000000</td>\n",
       "      <td>100.000000</td>\n",
       "      <td>100.000000</td>\n",
       "      <td>100.000000</td>\n",
       "      <td>100.000000</td>\n",
       "      <td>100.000000</td>\n",
       "      <td>100.000000</td>\n",
       "      <td>100.000000</td>\n",
       "      <td>1.000000e+02</td>\n",
       "      <td>100.000000</td>\n",
       "      <td>100.000000</td>\n",
       "      <td>100.000000</td>\n",
       "      <td>100.000000</td>\n",
       "      <td>100.000000</td>\n",
       "      <td>100.000000</td>\n",
       "      <td>100.000000</td>\n",
       "      <td>100.000000</td>\n",
       "      <td>100.000000</td>\n",
       "      <td>1.000000e+02</td>\n",
       "      <td>100.000000</td>\n",
       "      <td>100.000000</td>\n",
       "      <td>100.000000</td>\n",
       "      <td>100.000000</td>\n",
       "      <td>100.000000</td>\n",
       "      <td>100.000000</td>\n",
       "      <td>100.000000</td>\n",
       "      <td>100.000000</td>\n",
       "      <td>100.000000</td>\n",
       "      <td>100.000000</td>\n",
       "      <td>100.000000</td>\n",
       "      <td>100.000000</td>\n",
       "      <td>100.000000</td>\n",
       "      <td>100.000000</td>\n",
       "    </tr>\n",
       "    <tr>\n",
       "      <th>mean</th>\n",
       "      <td>0.130530</td>\n",
       "      <td>0.001259</td>\n",
       "      <td>0.111251</td>\n",
       "      <td>0.240225</td>\n",
       "      <td>0.174231</td>\n",
       "      <td>0.060614</td>\n",
       "      <td>0.280994</td>\n",
       "      <td>29.831549</td>\n",
       "      <td>0.184108</td>\n",
       "      <td>25.977136</td>\n",
       "      <td>30.237794</td>\n",
       "      <td>33.694981</td>\n",
       "      <td>7.717845</td>\n",
       "      <td>200.137247</td>\n",
       "      <td>126.160145</td>\n",
       "      <td>88.269700</td>\n",
       "      <td>67.053252</td>\n",
       "      <td>1.263774</td>\n",
       "      <td>0.521559</td>\n",
       "      <td>0.703977</td>\n",
       "      <td>1.134282</td>\n",
       "      <td>1.811040</td>\n",
       "      <td>1.107064</td>\n",
       "      <td>14.390496</td>\n",
       "      <td>7.208966</td>\n",
       "      <td>8.987830</td>\n",
       "      <td>5.329163</td>\n",
       "      <td>0.947631</td>\n",
       "      <td>0.711742</td>\n",
       "      <td>23.709502</td>\n",
       "      <td>0.426252</td>\n",
       "      <td>-2.122609</td>\n",
       "      <td>7.727165</td>\n",
       "      <td>9.323139</td>\n",
       "      <td>-4.684764</td>\n",
       "      <td>-5.633869</td>\n",
       "      <td>4.734783</td>\n",
       "      <td>0.052558</td>\n",
       "      <td>1.389872</td>\n",
       "      <td>1.330136</td>\n",
       "      <td>...</td>\n",
       "      <td>25264.665519</td>\n",
       "      <td>0.016547</td>\n",
       "      <td>1183.764938</td>\n",
       "      <td>193.790041</td>\n",
       "      <td>70893.522345</td>\n",
       "      <td>0.000655</td>\n",
       "      <td>24190.041588</td>\n",
       "      <td>0.017427</td>\n",
       "      <td>1116.153772</td>\n",
       "      <td>197.313263</td>\n",
       "      <td>19.997582</td>\n",
       "      <td>745.250591</td>\n",
       "      <td>27.732052</td>\n",
       "      <td>8.348070</td>\n",
       "      <td>0.000921</td>\n",
       "      <td>5.040610e+04</td>\n",
       "      <td>0.000062</td>\n",
       "      <td>1817.521644</td>\n",
       "      <td>0.331612</td>\n",
       "      <td>0.044231</td>\n",
       "      <td>42.031778</td>\n",
       "      <td>45.712116</td>\n",
       "      <td>76.628424</td>\n",
       "      <td>10444.793744</td>\n",
       "      <td>83.861784</td>\n",
       "      <td>8.938640e+04</td>\n",
       "      <td>77.344417</td>\n",
       "      <td>20626.346852</td>\n",
       "      <td>38.167040</td>\n",
       "      <td>65.755374</td>\n",
       "      <td>0.000941</td>\n",
       "      <td>0.000083</td>\n",
       "      <td>0.430043</td>\n",
       "      <td>2.855862</td>\n",
       "      <td>1.775681</td>\n",
       "      <td>0.054421</td>\n",
       "      <td>0.009179</td>\n",
       "      <td>0.015161</td>\n",
       "      <td>0.002085</td>\n",
       "      <td>29.681350</td>\n",
       "    </tr>\n",
       "    <tr>\n",
       "      <th>std</th>\n",
       "      <td>0.064397</td>\n",
       "      <td>0.001783</td>\n",
       "      <td>0.070501</td>\n",
       "      <td>0.131978</td>\n",
       "      <td>0.093871</td>\n",
       "      <td>0.051627</td>\n",
       "      <td>0.126233</td>\n",
       "      <td>4.043716</td>\n",
       "      <td>0.048797</td>\n",
       "      <td>4.426465</td>\n",
       "      <td>4.278228</td>\n",
       "      <td>4.340629</td>\n",
       "      <td>2.777821</td>\n",
       "      <td>50.943381</td>\n",
       "      <td>34.132760</td>\n",
       "      <td>34.562732</td>\n",
       "      <td>23.050684</td>\n",
       "      <td>0.542524</td>\n",
       "      <td>0.108607</td>\n",
       "      <td>0.346314</td>\n",
       "      <td>0.502936</td>\n",
       "      <td>0.761762</td>\n",
       "      <td>0.468002</td>\n",
       "      <td>6.431193</td>\n",
       "      <td>3.191458</td>\n",
       "      <td>3.941286</td>\n",
       "      <td>2.229313</td>\n",
       "      <td>0.527560</td>\n",
       "      <td>0.126679</td>\n",
       "      <td>5.343930</td>\n",
       "      <td>0.901265</td>\n",
       "      <td>8.370978</td>\n",
       "      <td>72.710363</td>\n",
       "      <td>6.777667</td>\n",
       "      <td>61.145086</td>\n",
       "      <td>6.488923</td>\n",
       "      <td>48.238796</td>\n",
       "      <td>0.012560</td>\n",
       "      <td>0.202937</td>\n",
       "      <td>0.146750</td>\n",
       "      <td>...</td>\n",
       "      <td>16457.670339</td>\n",
       "      <td>0.007019</td>\n",
       "      <td>763.351790</td>\n",
       "      <td>1693.966151</td>\n",
       "      <td>124589.656334</td>\n",
       "      <td>0.000311</td>\n",
       "      <td>14137.105857</td>\n",
       "      <td>0.007167</td>\n",
       "      <td>729.594044</td>\n",
       "      <td>1669.582586</td>\n",
       "      <td>12.179959</td>\n",
       "      <td>2608.756624</td>\n",
       "      <td>15.015235</td>\n",
       "      <td>41.091043</td>\n",
       "      <td>0.000652</td>\n",
       "      <td>3.657954e+05</td>\n",
       "      <td>0.000027</td>\n",
       "      <td>11917.600070</td>\n",
       "      <td>0.393010</td>\n",
       "      <td>0.023108</td>\n",
       "      <td>28.499857</td>\n",
       "      <td>224.713907</td>\n",
       "      <td>38.290254</td>\n",
       "      <td>45691.055147</td>\n",
       "      <td>31.292446</td>\n",
       "      <td>5.490115e+05</td>\n",
       "      <td>31.336505</td>\n",
       "      <td>88472.130178</td>\n",
       "      <td>19.708150</td>\n",
       "      <td>33.426728</td>\n",
       "      <td>0.000563</td>\n",
       "      <td>0.000038</td>\n",
       "      <td>0.614980</td>\n",
       "      <td>1.553117</td>\n",
       "      <td>0.590917</td>\n",
       "      <td>0.022218</td>\n",
       "      <td>0.002811</td>\n",
       "      <td>0.018040</td>\n",
       "      <td>0.001791</td>\n",
       "      <td>23.810725</td>\n",
       "    </tr>\n",
       "    <tr>\n",
       "      <th>min</th>\n",
       "      <td>0.034938</td>\n",
       "      <td>0.000000</td>\n",
       "      <td>0.017541</td>\n",
       "      <td>0.007136</td>\n",
       "      <td>0.023091</td>\n",
       "      <td>0.000667</td>\n",
       "      <td>0.040000</td>\n",
       "      <td>21.071387</td>\n",
       "      <td>0.076201</td>\n",
       "      <td>17.221023</td>\n",
       "      <td>20.678162</td>\n",
       "      <td>23.624891</td>\n",
       "      <td>1.401833</td>\n",
       "      <td>90.969135</td>\n",
       "      <td>64.252126</td>\n",
       "      <td>8.987117</td>\n",
       "      <td>0.000000</td>\n",
       "      <td>0.253014</td>\n",
       "      <td>0.263482</td>\n",
       "      <td>0.121938</td>\n",
       "      <td>0.223601</td>\n",
       "      <td>0.380414</td>\n",
       "      <td>0.240668</td>\n",
       "      <td>2.045874</td>\n",
       "      <td>1.360451</td>\n",
       "      <td>1.891176</td>\n",
       "      <td>0.655961</td>\n",
       "      <td>0.097969</td>\n",
       "      <td>0.467157</td>\n",
       "      <td>-2.617441</td>\n",
       "      <td>-6.282976</td>\n",
       "      <td>-25.768046</td>\n",
       "      <td>-15.743640</td>\n",
       "      <td>-4.624896</td>\n",
       "      <td>-605.910329</td>\n",
       "      <td>-21.407355</td>\n",
       "      <td>-21.320157</td>\n",
       "      <td>0.030335</td>\n",
       "      <td>0.749252</td>\n",
       "      <td>0.886316</td>\n",
       "      <td>...</td>\n",
       "      <td>0.000000</td>\n",
       "      <td>0.000000</td>\n",
       "      <td>0.000000</td>\n",
       "      <td>0.000000</td>\n",
       "      <td>0.000000</td>\n",
       "      <td>0.000000</td>\n",
       "      <td>0.000000</td>\n",
       "      <td>0.000000</td>\n",
       "      <td>0.000000</td>\n",
       "      <td>0.000000</td>\n",
       "      <td>0.000000</td>\n",
       "      <td>0.000000</td>\n",
       "      <td>0.000000</td>\n",
       "      <td>0.000000</td>\n",
       "      <td>0.000000</td>\n",
       "      <td>0.000000e+00</td>\n",
       "      <td>0.000000</td>\n",
       "      <td>0.000000</td>\n",
       "      <td>0.000000</td>\n",
       "      <td>0.000000</td>\n",
       "      <td>0.000000</td>\n",
       "      <td>0.000000</td>\n",
       "      <td>0.000000</td>\n",
       "      <td>0.000000</td>\n",
       "      <td>0.000000</td>\n",
       "      <td>0.000000e+00</td>\n",
       "      <td>0.000000</td>\n",
       "      <td>0.000000</td>\n",
       "      <td>0.000000</td>\n",
       "      <td>0.000000</td>\n",
       "      <td>0.000000</td>\n",
       "      <td>0.000000</td>\n",
       "      <td>0.000000</td>\n",
       "      <td>0.000000</td>\n",
       "      <td>0.000000</td>\n",
       "      <td>0.000000</td>\n",
       "      <td>0.000000</td>\n",
       "      <td>0.000000</td>\n",
       "      <td>0.000000</td>\n",
       "      <td>0.000000</td>\n",
       "    </tr>\n",
       "    <tr>\n",
       "      <th>25%</th>\n",
       "      <td>0.084595</td>\n",
       "      <td>0.000370</td>\n",
       "      <td>0.068126</td>\n",
       "      <td>0.149357</td>\n",
       "      <td>0.108031</td>\n",
       "      <td>0.029229</td>\n",
       "      <td>0.188759</td>\n",
       "      <td>27.413648</td>\n",
       "      <td>0.147003</td>\n",
       "      <td>22.874076</td>\n",
       "      <td>27.335116</td>\n",
       "      <td>31.015996</td>\n",
       "      <td>5.579188</td>\n",
       "      <td>162.568998</td>\n",
       "      <td>103.331942</td>\n",
       "      <td>71.748678</td>\n",
       "      <td>51.968297</td>\n",
       "      <td>0.844100</td>\n",
       "      <td>0.446091</td>\n",
       "      <td>0.399948</td>\n",
       "      <td>0.741092</td>\n",
       "      <td>1.186141</td>\n",
       "      <td>0.754414</td>\n",
       "      <td>9.632551</td>\n",
       "      <td>4.974744</td>\n",
       "      <td>6.407771</td>\n",
       "      <td>3.805254</td>\n",
       "      <td>0.499343</td>\n",
       "      <td>0.613742</td>\n",
       "      <td>21.164115</td>\n",
       "      <td>0.364099</td>\n",
       "      <td>-7.225003</td>\n",
       "      <td>-1.253306</td>\n",
       "      <td>5.812910</td>\n",
       "      <td>0.218475</td>\n",
       "      <td>-10.385804</td>\n",
       "      <td>-1.537023</td>\n",
       "      <td>0.042975</td>\n",
       "      <td>1.319095</td>\n",
       "      <td>1.263000</td>\n",
       "      <td>...</td>\n",
       "      <td>15258.449649</td>\n",
       "      <td>0.012151</td>\n",
       "      <td>608.028394</td>\n",
       "      <td>0.154430</td>\n",
       "      <td>12987.707765</td>\n",
       "      <td>0.000444</td>\n",
       "      <td>17307.835665</td>\n",
       "      <td>0.013776</td>\n",
       "      <td>566.219777</td>\n",
       "      <td>0.094293</td>\n",
       "      <td>11.497027</td>\n",
       "      <td>0.126581</td>\n",
       "      <td>16.388991</td>\n",
       "      <td>0.014305</td>\n",
       "      <td>0.000435</td>\n",
       "      <td>2.384089e+00</td>\n",
       "      <td>0.000045</td>\n",
       "      <td>0.574492</td>\n",
       "      <td>0.068102</td>\n",
       "      <td>0.027341</td>\n",
       "      <td>22.796242</td>\n",
       "      <td>0.019282</td>\n",
       "      <td>51.252053</td>\n",
       "      <td>258.155625</td>\n",
       "      <td>65.454424</td>\n",
       "      <td>1.047007e+02</td>\n",
       "      <td>53.710280</td>\n",
       "      <td>95.069557</td>\n",
       "      <td>22.863105</td>\n",
       "      <td>38.333623</td>\n",
       "      <td>0.000534</td>\n",
       "      <td>0.000055</td>\n",
       "      <td>0.042248</td>\n",
       "      <td>1.981871</td>\n",
       "      <td>1.468271</td>\n",
       "      <td>0.038170</td>\n",
       "      <td>0.007734</td>\n",
       "      <td>0.003242</td>\n",
       "      <td>0.000826</td>\n",
       "      <td>13.257110</td>\n",
       "    </tr>\n",
       "    <tr>\n",
       "      <th>50%</th>\n",
       "      <td>0.116125</td>\n",
       "      <td>0.000733</td>\n",
       "      <td>0.100577</td>\n",
       "      <td>0.230889</td>\n",
       "      <td>0.160282</td>\n",
       "      <td>0.049017</td>\n",
       "      <td>0.264769</td>\n",
       "      <td>30.120045</td>\n",
       "      <td>0.181323</td>\n",
       "      <td>26.042041</td>\n",
       "      <td>30.788312</td>\n",
       "      <td>34.756255</td>\n",
       "      <td>7.256103</td>\n",
       "      <td>191.038700</td>\n",
       "      <td>121.237201</td>\n",
       "      <td>84.651131</td>\n",
       "      <td>66.224636</td>\n",
       "      <td>1.274109</td>\n",
       "      <td>0.511113</td>\n",
       "      <td>0.723903</td>\n",
       "      <td>1.169489</td>\n",
       "      <td>1.811545</td>\n",
       "      <td>1.104123</td>\n",
       "      <td>14.209138</td>\n",
       "      <td>7.000010</td>\n",
       "      <td>8.649546</td>\n",
       "      <td>5.228734</td>\n",
       "      <td>0.978733</td>\n",
       "      <td>0.707926</td>\n",
       "      <td>23.999345</td>\n",
       "      <td>0.483944</td>\n",
       "      <td>-2.014050</td>\n",
       "      <td>-0.142451</td>\n",
       "      <td>9.379387</td>\n",
       "      <td>0.964330</td>\n",
       "      <td>-5.668220</td>\n",
       "      <td>-0.681901</td>\n",
       "      <td>0.052234</td>\n",
       "      <td>1.411492</td>\n",
       "      <td>1.316381</td>\n",
       "      <td>...</td>\n",
       "      <td>19284.811268</td>\n",
       "      <td>0.015126</td>\n",
       "      <td>962.492747</td>\n",
       "      <td>0.329988</td>\n",
       "      <td>18449.039731</td>\n",
       "      <td>0.000591</td>\n",
       "      <td>20361.463401</td>\n",
       "      <td>0.016887</td>\n",
       "      <td>876.183253</td>\n",
       "      <td>0.160520</td>\n",
       "      <td>18.094622</td>\n",
       "      <td>1.796147</td>\n",
       "      <td>25.787569</td>\n",
       "      <td>0.038278</td>\n",
       "      <td>0.000758</td>\n",
       "      <td>1.910289e+02</td>\n",
       "      <td>0.000058</td>\n",
       "      <td>4.349606</td>\n",
       "      <td>0.204289</td>\n",
       "      <td>0.040448</td>\n",
       "      <td>33.101137</td>\n",
       "      <td>0.057829</td>\n",
       "      <td>66.802165</td>\n",
       "      <td>1005.095439</td>\n",
       "      <td>78.516364</td>\n",
       "      <td>4.283316e+02</td>\n",
       "      <td>71.481427</td>\n",
       "      <td>361.925207</td>\n",
       "      <td>35.186588</td>\n",
       "      <td>58.628837</td>\n",
       "      <td>0.000806</td>\n",
       "      <td>0.000080</td>\n",
       "      <td>0.170979</td>\n",
       "      <td>2.477139</td>\n",
       "      <td>1.711180</td>\n",
       "      <td>0.054753</td>\n",
       "      <td>0.008944</td>\n",
       "      <td>0.006360</td>\n",
       "      <td>0.001332</td>\n",
       "      <td>22.937633</td>\n",
       "    </tr>\n",
       "    <tr>\n",
       "      <th>75%</th>\n",
       "      <td>0.163162</td>\n",
       "      <td>0.001303</td>\n",
       "      <td>0.148461</td>\n",
       "      <td>0.316030</td>\n",
       "      <td>0.224153</td>\n",
       "      <td>0.081327</td>\n",
       "      <td>0.364580</td>\n",
       "      <td>32.532925</td>\n",
       "      <td>0.210572</td>\n",
       "      <td>28.855670</td>\n",
       "      <td>33.434494</td>\n",
       "      <td>36.694822</td>\n",
       "      <td>9.628968</td>\n",
       "      <td>233.287918</td>\n",
       "      <td>150.028514</td>\n",
       "      <td>98.333043</td>\n",
       "      <td>75.246464</td>\n",
       "      <td>1.665507</td>\n",
       "      <td>0.572385</td>\n",
       "      <td>0.939981</td>\n",
       "      <td>1.502608</td>\n",
       "      <td>2.381452</td>\n",
       "      <td>1.497969</td>\n",
       "      <td>19.314100</td>\n",
       "      <td>9.710451</td>\n",
       "      <td>11.855533</td>\n",
       "      <td>6.901405</td>\n",
       "      <td>1.329909</td>\n",
       "      <td>0.787258</td>\n",
       "      <td>26.622465</td>\n",
       "      <td>0.679088</td>\n",
       "      <td>4.826734</td>\n",
       "      <td>1.309457</td>\n",
       "      <td>13.148292</td>\n",
       "      <td>2.230034</td>\n",
       "      <td>-1.389842</td>\n",
       "      <td>0.967381</td>\n",
       "      <td>0.060410</td>\n",
       "      <td>1.485353</td>\n",
       "      <td>1.394745</td>\n",
       "      <td>...</td>\n",
       "      <td>28463.026245</td>\n",
       "      <td>0.020392</td>\n",
       "      <td>1808.108253</td>\n",
       "      <td>3.625860</td>\n",
       "      <td>64013.341493</td>\n",
       "      <td>0.000786</td>\n",
       "      <td>27710.489410</td>\n",
       "      <td>0.019201</td>\n",
       "      <td>1701.664882</td>\n",
       "      <td>0.536066</td>\n",
       "      <td>24.285126</td>\n",
       "      <td>59.138228</td>\n",
       "      <td>34.877220</td>\n",
       "      <td>0.197285</td>\n",
       "      <td>0.001437</td>\n",
       "      <td>1.580595e+03</td>\n",
       "      <td>0.000073</td>\n",
       "      <td>35.159532</td>\n",
       "      <td>0.402719</td>\n",
       "      <td>0.054586</td>\n",
       "      <td>52.688036</td>\n",
       "      <td>0.364512</td>\n",
       "      <td>94.040380</td>\n",
       "      <td>3566.809082</td>\n",
       "      <td>96.730388</td>\n",
       "      <td>1.724136e+03</td>\n",
       "      <td>95.447275</td>\n",
       "      <td>2184.904601</td>\n",
       "      <td>51.195133</td>\n",
       "      <td>87.534340</td>\n",
       "      <td>0.001343</td>\n",
       "      <td>0.000106</td>\n",
       "      <td>0.477312</td>\n",
       "      <td>3.196650</td>\n",
       "      <td>2.095406</td>\n",
       "      <td>0.069567</td>\n",
       "      <td>0.010798</td>\n",
       "      <td>0.024965</td>\n",
       "      <td>0.002841</td>\n",
       "      <td>40.301839</td>\n",
       "    </tr>\n",
       "    <tr>\n",
       "      <th>max</th>\n",
       "      <td>0.340458</td>\n",
       "      <td>0.012207</td>\n",
       "      <td>0.490000</td>\n",
       "      <td>0.607383</td>\n",
       "      <td>0.458816</td>\n",
       "      <td>0.339825</td>\n",
       "      <td>0.685939</td>\n",
       "      <td>38.681717</td>\n",
       "      <td>0.322052</td>\n",
       "      <td>35.478288</td>\n",
       "      <td>38.306035</td>\n",
       "      <td>42.796028</td>\n",
       "      <td>15.496961</td>\n",
       "      <td>379.925367</td>\n",
       "      <td>217.893388</td>\n",
       "      <td>341.737640</td>\n",
       "      <td>220.313830</td>\n",
       "      <td>2.570987</td>\n",
       "      <td>0.942308</td>\n",
       "      <td>1.651166</td>\n",
       "      <td>2.409043</td>\n",
       "      <td>3.506493</td>\n",
       "      <td>2.082094</td>\n",
       "      <td>30.239823</td>\n",
       "      <td>15.262584</td>\n",
       "      <td>20.540285</td>\n",
       "      <td>11.261940</td>\n",
       "      <td>2.131652</td>\n",
       "      <td>1.118683</td>\n",
       "      <td>34.731486</td>\n",
       "      <td>2.139954</td>\n",
       "      <td>14.995232</td>\n",
       "      <td>725.332590</td>\n",
       "      <td>28.473952</td>\n",
       "      <td>59.230023</td>\n",
       "      <td>8.542043</td>\n",
       "      <td>479.133878</td>\n",
       "      <td>0.086634</td>\n",
       "      <td>2.407327</td>\n",
       "      <td>1.771313</td>\n",
       "      <td>...</td>\n",
       "      <td>100521.931461</td>\n",
       "      <td>0.043041</td>\n",
       "      <td>3447.074831</td>\n",
       "      <td>16933.244205</td>\n",
       "      <td>876076.145533</td>\n",
       "      <td>0.001831</td>\n",
       "      <td>100156.329966</td>\n",
       "      <td>0.050493</td>\n",
       "      <td>3267.817122</td>\n",
       "      <td>16566.479420</td>\n",
       "      <td>64.621726</td>\n",
       "      <td>20060.855626</td>\n",
       "      <td>96.195712</td>\n",
       "      <td>311.650505</td>\n",
       "      <td>0.002816</td>\n",
       "      <td>3.617468e+06</td>\n",
       "      <td>0.000142</td>\n",
       "      <td>114281.437450</td>\n",
       "      <td>2.367904</td>\n",
       "      <td>0.137351</td>\n",
       "      <td>158.730969</td>\n",
       "      <td>1783.717083</td>\n",
       "      <td>241.216196</td>\n",
       "      <td>407709.108129</td>\n",
       "      <td>228.649593</td>\n",
       "      <td>5.201348e+06</td>\n",
       "      <td>154.063782</td>\n",
       "      <td>621270.427393</td>\n",
       "      <td>103.534403</td>\n",
       "      <td>165.924183</td>\n",
       "      <td>0.002513</td>\n",
       "      <td>0.000187</td>\n",
       "      <td>2.720863</td>\n",
       "      <td>11.886883</td>\n",
       "      <td>3.835555</td>\n",
       "      <td>0.110369</td>\n",
       "      <td>0.015266</td>\n",
       "      <td>0.081765</td>\n",
       "      <td>0.007420</td>\n",
       "      <td>130.559079</td>\n",
       "    </tr>\n",
       "  </tbody>\n",
       "</table>\n",
       "<p>8 rows × 383 columns</p>\n",
       "</div>"
      ],
      "text/plain": [
       "       emotion_angry_mean  ...  equivalentSoundLevel_dBp_max\n",
       "count          100.000000  ...                    100.000000\n",
       "mean             0.130530  ...                     29.681350\n",
       "std              0.064397  ...                     23.810725\n",
       "min              0.034938  ...                      0.000000\n",
       "25%              0.084595  ...                     13.257110\n",
       "50%              0.116125  ...                     22.937633\n",
       "75%              0.163162  ...                     40.301839\n",
       "max              0.340458  ...                    130.559079\n",
       "\n",
       "[8 rows x 383 columns]"
      ]
     },
     "execution_count": 118,
     "metadata": {
      "tags": []
     },
     "output_type": "execute_result"
    }
   ],
   "source": [
    "test.describe()"
   ]
  },
  {
   "cell_type": "markdown",
   "metadata": {
    "id": "MZxOWyDqALEQ"
   },
   "source": [
    "- 결측값 확인"
   ]
  },
  {
   "cell_type": "code",
   "execution_count": 119,
   "metadata": {
    "colab": {
     "base_uri": "https://localhost:8080/"
    },
    "id": "Wl-SJG2eAGhk",
    "outputId": "5508ca70-2691-4d9e-c09c-efb04ff997db"
   },
   "outputs": [
    {
     "name": "stdout",
     "output_type": "stream",
     "text": [
      "train 데이터의 결측값 개수: 0\n",
      "test 데이터의 결측값 개수: 0\n"
     ]
    }
   ],
   "source": [
    "# train, test 데이터셋에 대해 결측값 확인\n",
    "\n",
    "print('train 데이터의 결측값 개수:',train.isnull().sum().sum())\n",
    "print('test 데이터의 결측값 개수:',test.isnull().sum().sum())"
   ]
  },
  {
   "cell_type": "markdown",
   "metadata": {
    "id": "uUxTknL2ATy-"
   },
   "source": [
    "- 데이터 균형 확인"
   ]
  },
  {
   "cell_type": "code",
   "execution_count": 120,
   "metadata": {
    "colab": {
     "base_uri": "https://localhost:8080/"
    },
    "id": "qz3aZBvyAQG3",
    "outputId": "dd9e038f-94c1-46db-f2e1-5ddae25e6c97"
   },
   "outputs": [
    {
     "name": "stdout",
     "output_type": "stream",
     "text": [
      "0    0.538272\n",
      "1    0.461728\n",
      "Name: label, dtype: float64\n"
     ]
    }
   ],
   "source": [
    "print(train.label.value_counts() / len(train.label))"
   ]
  },
  {
   "cell_type": "markdown",
   "metadata": {
    "id": "nMFvGq_BAbun"
   },
   "source": [
    "> 해당 데이터는 결측값이 없으며, 라벨이 balanced 된 데이터다."
   ]
  },
  {
   "cell_type": "markdown",
   "metadata": {
    "id": "2BKwGFC7AyN-"
   },
   "source": [
    "- 하나의 유니크값으로 이루어진 칼럼 제거"
   ]
  },
  {
   "cell_type": "code",
   "execution_count": 121,
   "metadata": {
    "id": "7Db1tGQsAYDq"
   },
   "outputs": [],
   "source": [
    "one_uniq = [col for col in list(train) if train[col].nunique() <= 1]"
   ]
  },
  {
   "cell_type": "code",
   "execution_count": 122,
   "metadata": {
    "colab": {
     "base_uri": "https://localhost:8080/",
     "height": 0
    },
    "id": "NakiVtDGA6bp",
    "outputId": "e060bba4-ff77-492d-aab6-401bfa1bd817"
   },
   "outputs": [
    {
     "data": {
      "text/html": [
       "<div>\n",
       "<style scoped>\n",
       "    .dataframe tbody tr th:only-of-type {\n",
       "        vertical-align: middle;\n",
       "    }\n",
       "\n",
       "    .dataframe tbody tr th {\n",
       "        vertical-align: top;\n",
       "    }\n",
       "\n",
       "    .dataframe thead th {\n",
       "        text-align: right;\n",
       "    }\n",
       "</style>\n",
       "<table border=\"1\" class=\"dataframe\">\n",
       "  <thead>\n",
       "    <tr style=\"text-align: right;\">\n",
       "      <th></th>\n",
       "      <th>number_faces_var</th>\n",
       "      <th>number_faces_min</th>\n",
       "      <th>emotion_disgust_min</th>\n",
       "      <th>F0semitoneFrom27.5Hz_sma3nz_stddevRisingSlope_min</th>\n",
       "      <th>StddevVoicedSegmentLengthSec_min</th>\n",
       "      <th>StddevUnvoicedSegmentLength_min</th>\n",
       "      <th>number_faces_max</th>\n",
       "    </tr>\n",
       "  </thead>\n",
       "  <tbody>\n",
       "    <tr>\n",
       "      <th>0</th>\n",
       "      <td>0.0</td>\n",
       "      <td>1.0</td>\n",
       "      <td>0.0</td>\n",
       "      <td>0.0</td>\n",
       "      <td>0.0</td>\n",
       "      <td>0.0</td>\n",
       "      <td>0.0</td>\n",
       "    </tr>\n",
       "    <tr>\n",
       "      <th>1</th>\n",
       "      <td>0.0</td>\n",
       "      <td>1.0</td>\n",
       "      <td>0.0</td>\n",
       "      <td>0.0</td>\n",
       "      <td>0.0</td>\n",
       "      <td>0.0</td>\n",
       "      <td>0.0</td>\n",
       "    </tr>\n",
       "    <tr>\n",
       "      <th>2</th>\n",
       "      <td>0.0</td>\n",
       "      <td>1.0</td>\n",
       "      <td>0.0</td>\n",
       "      <td>0.0</td>\n",
       "      <td>0.0</td>\n",
       "      <td>0.0</td>\n",
       "      <td>0.0</td>\n",
       "    </tr>\n",
       "    <tr>\n",
       "      <th>3</th>\n",
       "      <td>0.0</td>\n",
       "      <td>1.0</td>\n",
       "      <td>0.0</td>\n",
       "      <td>0.0</td>\n",
       "      <td>0.0</td>\n",
       "      <td>0.0</td>\n",
       "      <td>0.0</td>\n",
       "    </tr>\n",
       "    <tr>\n",
       "      <th>4</th>\n",
       "      <td>0.0</td>\n",
       "      <td>1.0</td>\n",
       "      <td>0.0</td>\n",
       "      <td>0.0</td>\n",
       "      <td>0.0</td>\n",
       "      <td>0.0</td>\n",
       "      <td>0.0</td>\n",
       "    </tr>\n",
       "    <tr>\n",
       "      <th>...</th>\n",
       "      <td>...</td>\n",
       "      <td>...</td>\n",
       "      <td>...</td>\n",
       "      <td>...</td>\n",
       "      <td>...</td>\n",
       "      <td>...</td>\n",
       "      <td>...</td>\n",
       "    </tr>\n",
       "    <tr>\n",
       "      <th>400</th>\n",
       "      <td>0.0</td>\n",
       "      <td>1.0</td>\n",
       "      <td>0.0</td>\n",
       "      <td>0.0</td>\n",
       "      <td>0.0</td>\n",
       "      <td>0.0</td>\n",
       "      <td>0.0</td>\n",
       "    </tr>\n",
       "    <tr>\n",
       "      <th>401</th>\n",
       "      <td>0.0</td>\n",
       "      <td>1.0</td>\n",
       "      <td>0.0</td>\n",
       "      <td>0.0</td>\n",
       "      <td>0.0</td>\n",
       "      <td>0.0</td>\n",
       "      <td>0.0</td>\n",
       "    </tr>\n",
       "    <tr>\n",
       "      <th>402</th>\n",
       "      <td>0.0</td>\n",
       "      <td>1.0</td>\n",
       "      <td>0.0</td>\n",
       "      <td>0.0</td>\n",
       "      <td>0.0</td>\n",
       "      <td>0.0</td>\n",
       "      <td>0.0</td>\n",
       "    </tr>\n",
       "    <tr>\n",
       "      <th>403</th>\n",
       "      <td>0.0</td>\n",
       "      <td>1.0</td>\n",
       "      <td>0.0</td>\n",
       "      <td>0.0</td>\n",
       "      <td>0.0</td>\n",
       "      <td>0.0</td>\n",
       "      <td>0.0</td>\n",
       "    </tr>\n",
       "    <tr>\n",
       "      <th>404</th>\n",
       "      <td>0.0</td>\n",
       "      <td>1.0</td>\n",
       "      <td>0.0</td>\n",
       "      <td>0.0</td>\n",
       "      <td>0.0</td>\n",
       "      <td>0.0</td>\n",
       "      <td>0.0</td>\n",
       "    </tr>\n",
       "  </tbody>\n",
       "</table>\n",
       "<p>405 rows × 7 columns</p>\n",
       "</div>"
      ],
      "text/plain": [
       "     number_faces_var  ...  number_faces_max\n",
       "0                 0.0  ...               0.0\n",
       "1                 0.0  ...               0.0\n",
       "2                 0.0  ...               0.0\n",
       "3                 0.0  ...               0.0\n",
       "4                 0.0  ...               0.0\n",
       "..                ...  ...               ...\n",
       "400               0.0  ...               0.0\n",
       "401               0.0  ...               0.0\n",
       "402               0.0  ...               0.0\n",
       "403               0.0  ...               0.0\n",
       "404               0.0  ...               0.0\n",
       "\n",
       "[405 rows x 7 columns]"
      ]
     },
     "execution_count": 122,
     "metadata": {
      "tags": []
     },
     "output_type": "execute_result"
    }
   ],
   "source": [
    "train[one_uniq]"
   ]
  },
  {
   "cell_type": "code",
   "execution_count": 123,
   "metadata": {
    "id": "fmXSh4FEA7V4"
   },
   "outputs": [],
   "source": [
    "train = train.drop(train[one_uniq],axis = 1)\n",
    "test = test.drop(test[one_uniq],axis = 1)"
   ]
  },
  {
   "cell_type": "markdown",
   "metadata": {
    "id": "PSQMw5dpBDcf"
   },
   "source": [
    "> 하나의 유니크값으로 이루어진 피처는 예측에 도움이 되지 않는 의미없는 칼럼이므로, 해당 칼럼을 제거하였다."
   ]
  },
  {
   "cell_type": "markdown",
   "metadata": {
    "id": "tskmnq4fBRJn"
   },
   "source": [
    " - X,Y 분할"
   ]
  },
  {
   "cell_type": "code",
   "execution_count": 124,
   "metadata": {
    "id": "evIopwf2BAli"
   },
   "outputs": [],
   "source": [
    "X_train = train.drop('label',axis = 1)\n",
    "Y_train = train['label']\n",
    "X_test = test"
   ]
  },
  {
   "cell_type": "markdown",
   "metadata": {
    "id": "112KZGG8CpgA"
   },
   "source": [
    "- PCA"
   ]
  },
  {
   "cell_type": "code",
   "execution_count": 125,
   "metadata": {
    "id": "VhNQQV5oBVvn"
   },
   "outputs": [],
   "source": [
    "from sklearn.preprocessing import StandardScaler\n",
    "\n",
    "data = pd.concat([X_train,X_test]) # 전체 데이터에 대해 pca 진행해야 함\n",
    "data_std = StandardScaler().fit_transform(data)"
   ]
  },
  {
   "cell_type": "code",
   "execution_count": 126,
   "metadata": {
    "id": "GwIoZokbBit_"
   },
   "outputs": [],
   "source": [
    "from sklearn.decomposition import PCA\n",
    "pca = PCA(n_components = 20)\n",
    "data_pc = pca.fit(data_std)"
   ]
  },
  {
   "cell_type": "code",
   "execution_count": 127,
   "metadata": {
    "colab": {
     "base_uri": "https://localhost:8080/",
     "height": 0
    },
    "id": "8CwjCS7RyX1u",
    "outputId": "4a21402e-6d62-4ba8-ac31-fe4d2d586c08"
   },
   "outputs": [
    {
     "data": {
      "text/plain": [
       "<matplotlib.axes._subplots.AxesSubplot at 0x7f3c24f11050>"
      ]
     },
     "execution_count": 127,
     "metadata": {
      "tags": []
     },
     "output_type": "execute_result"
    },
    {
     "data": {
      "image/png": "[encoded data removed]",
      "text/plain": [
       "<Figure size 842.4x595.44 with 1 Axes>"
      ]
     },
     "metadata": {
      "tags": []
     },
     "output_type": "display_data"
    }
   ],
   "source": [
    "import seaborn as sns\n",
    "\n",
    "df = pd.DataFrame({'var':pca.explained_variance_ratio_,\n",
    "             'PC':['PC1','PC2','PC3','PC4','PC5','PC6','PC7','PC8','PC9','PC10','PC11','PC12','PC13','PC14','PC15','PC16','PC17','PC18','PC19','PC20']})\n",
    "sns.set(rc={'figure.figsize':(11.7,8.27)})\n",
    "sns.barplot(x = 'PC', y = \"var\", data = df, color = \"c\")"
   ]
  },
  {
   "cell_type": "markdown",
   "metadata": {
    "id": "cGmhD1geCWlI"
   },
   "source": [
    "> Elbow point가 2이므로, 2개의 주성분만 추가"
   ]
  },
  {
   "cell_type": "code",
   "execution_count": 128,
   "metadata": {
    "id": "TdsUN3BBCdww"
   },
   "outputs": [],
   "source": [
    "pca = PCA(n_components = 2)\n",
    "data_pc = pca.fit_transform(data_std)\n",
    "data_pc = pca.fit_transform(data_std)\n",
    "data_pc = pd.DataFrame(data = data_pc,columns = ['PC1','PC2'])"
   ]
  },
  {
   "cell_type": "code",
   "execution_count": 129,
   "metadata": {
    "id": "UpYFnpb0Ck0m"
   },
   "outputs": [],
   "source": [
    "# train, test 데이터셋으로 다시 분할\n",
    "X_train_pc = data_pc.iloc[:405,:]\n",
    "X_test_pc = data_pc.iloc[405:,:]\n",
    "X_test_pc = X_test_pc.reset_index(drop = True)"
   ]
  },
  {
   "cell_type": "markdown",
   "metadata": {
    "id": "GRm674iCCvig"
   },
   "source": [
    "- 피처간 상관관계 확인"
   ]
  },
  {
   "cell_type": "code",
   "execution_count": 130,
   "metadata": {
    "id": "nSfRozbxCtRd"
   },
   "outputs": [],
   "source": [
    "# correlation matrix (absolute value)\n",
    "r = train.drop('label',axis = 1).corr().abs()"
   ]
  },
  {
   "cell_type": "code",
   "execution_count": 131,
   "metadata": {
    "id": "VGYecSEIC3k7"
   },
   "outputs": [],
   "source": [
    "upper = r.where(np.triu(np.ones(r.shape),k = 1).astype(np.bool))"
   ]
  },
  {
   "cell_type": "code",
   "execution_count": 132,
   "metadata": {
    "id": "375dCuGSC5AV"
   },
   "outputs": [],
   "source": [
    "upper = upper.unstack().dropna()"
   ]
  },
  {
   "cell_type": "code",
   "execution_count": 133,
   "metadata": {
    "colab": {
     "base_uri": "https://localhost:8080/"
    },
    "id": "Nay-X7KyC6uW",
    "outputId": "7200370b-47ed-4bc3-b485-bfb9f05b0b26"
   },
   "outputs": [
    {
     "data": {
      "text/plain": [
       "F0semitoneFrom27.5Hz_sma3nz_percentile20.0_mean  F0semitoneFrom27.5Hz_sma3nz_amean_mean             0.949581\n",
       "F0semitoneFrom27.5Hz_sma3nz_percentile50.0_mean  F0semitoneFrom27.5Hz_sma3nz_amean_mean             0.987436\n",
       "                                                 F0semitoneFrom27.5Hz_sma3nz_percentile20.0_mean    0.924907\n",
       "F0semitoneFrom27.5Hz_sma3nz_percentile80.0_mean  F0semitoneFrom27.5Hz_sma3nz_amean_mean             0.943665\n",
       "                                                 F0semitoneFrom27.5Hz_sma3nz_percentile50.0_mean    0.945024\n",
       "                                                                                                      ...   \n",
       "StddevUnvoicedSegmentLength_max                  F3amplitudeLogRelF0_sma3nz_amean_mean              0.901240\n",
       "                                                 MeanUnvoicedSegmentLength_mean                     0.930148\n",
       "                                                 StddevUnvoicedSegmentLength_mean                   0.910208\n",
       "                                                 StddevUnvoicedSegmentLength_var                    1.000000\n",
       "equivalentSoundLevel_dBp_max                     equivalentSoundLevel_dBp_var                       1.000000\n",
       "Length: 449, dtype: float64"
      ]
     },
     "execution_count": 133,
     "metadata": {
      "tags": []
     },
     "output_type": "execute_result"
    }
   ],
   "source": [
    "# corrleation coefficient >= 0.9\n",
    "high_pairs = upper[upper >= 0.9]\n",
    "high_pairs"
   ]
  },
  {
   "cell_type": "code",
   "execution_count": 134,
   "metadata": {
    "id": "uNwTgb_vC70K"
   },
   "outputs": [],
   "source": [
    "df_pairs = pd.DataFrame(high_pairs)\n",
    "df_pairs = df_pairs.reset_index()\n",
    "df_pairs.columns = ['var1','var2','corr']"
   ]
  },
  {
   "cell_type": "code",
   "execution_count": 135,
   "metadata": {
    "id": "L9zNSiS6DDDZ"
   },
   "outputs": [],
   "source": [
    "def find_remove_var(var_pairs,data):\n",
    "  remove_list = []\n",
    "  for i in range(len(var_pairs)):\n",
    "    var1 = var_pairs.loc[i,'var1']\n",
    "    var2 = var_pairs.loc[i,'var2']\n",
    "    corr1 = np.corrcoef(data[var1],data['label'])[1,0]\n",
    "    corr2 = np.corrcoef(data[var2],data['label'])[1,0]\n",
    "    if corr1 >= corr2:\n",
    "      remove_list.append(var2)\n",
    "    else:\n",
    "      remove_list.append(var1)\n",
    "  return remove_list"
   ]
  },
  {
   "cell_type": "code",
   "execution_count": 136,
   "metadata": {
    "id": "EHJXyDTQDLTb"
   },
   "outputs": [],
   "source": [
    "remove_var = find_remove_var(df_pairs,train)\n",
    "remove_var = set(remove_var)\n",
    "remove_var = list(remove_var)"
   ]
  },
  {
   "cell_type": "code",
   "execution_count": 137,
   "metadata": {
    "id": "HiqoetZ7DOOq"
   },
   "outputs": [],
   "source": [
    "train = train.drop(remove_var,axis = 1)\n",
    "test = test.drop(remove_var,axis = 1)\n",
    "X_train = X_train.drop(remove_var,axis = 1)\n",
    "X_test = X_test.drop(remove_var,axis = 1)"
   ]
  },
  {
   "cell_type": "markdown",
   "metadata": {
    "id": "tYSnAcJlDUWa"
   },
   "source": [
    "> Highly correlated 한 피처가 있으면 다중공선성 문제가 발생할 수 있으며 현재 피처의 개수가 지나치게 많기 때문에,\n",
    "상관계수가 0.9보다 큰 변수쌍에 대해 Y와 상관계수가 더 낮은 피처를 제거하였다. "
   ]
  },
  {
   "cell_type": "markdown",
   "metadata": {
    "id": "iO8SGENRDdBZ"
   },
   "source": [
    "# 3. Analysis"
   ]
  },
  {
   "cell_type": "markdown",
   "metadata": {
    "id": "EvY8fdALDgsI"
   },
   "source": [
    "### 1. Feature Engineering - PCA"
   ]
  },
  {
   "cell_type": "code",
   "execution_count": 138,
   "metadata": {
    "id": "ShtZSVYZDSc1"
   },
   "outputs": [],
   "source": [
    "train['PC1'] = X_train_pc['PC1']\n",
    "train['PC2'] = X_train_pc['PC2']\n",
    "X_train['PC1'] = X_train_pc['PC1']\n",
    "X_train['PC2'] = X_train_pc['PC2']\n",
    "\n",
    "test['PC1'] = X_test_pc['PC1']\n",
    "test['PC2'] = X_test_pc['PC2']\n",
    "X_test['PC1'] = X_test_pc['PC1']\n",
    "X_test['PC2'] = X_test_pc['PC2']"
   ]
  },
  {
   "cell_type": "markdown",
   "metadata": {
    "id": "UHddIA_qDzto"
   },
   "source": [
    "> 2개의 주성분이 데이터의 27% 정도를 설명하고 있으므로, 예측 성능을 높이기 위해 PC 성분을 기존 데이터셋에 추가하였다."
   ]
  },
  {
   "cell_type": "markdown",
   "metadata": {
    "id": "uM2nks3XFArh"
   },
   "source": [
    "### 2. Clustering"
   ]
  },
  {
   "cell_type": "markdown",
   "metadata": {
    "id": "u0_qpf13-kdE"
   },
   "source": [
    "- Kmeans"
   ]
  },
  {
   "cell_type": "code",
   "execution_count": 139,
   "metadata": {
    "id": "5P9_s_mKE7iK"
   },
   "outputs": [],
   "source": [
    "from sklearn.cluster import KMeans"
   ]
  },
  {
   "cell_type": "code",
   "execution_count": 140,
   "metadata": {
    "id": "NtMMKFVmFC2p"
   },
   "outputs": [],
   "source": [
    "# 클러스터링 할 때 피처의 영향력을 동등하게 하기 위해, 사용할 피처 정규화\n",
    "train_std = X_train[['PC1','PC2']]\n",
    "train_std = StandardScaler().fit_transform(train_std)\n",
    "train_std = pd.DataFrame(train_std)\n",
    "train_std.columns = ['PC1','PC2']\n",
    "kmeans = KMeans(n_clusters = 2,random_state = 42).fit(train_std[['PC1','PC2']])"
   ]
  },
  {
   "cell_type": "code",
   "execution_count": 141,
   "metadata": {
    "colab": {
     "base_uri": "https://localhost:8080/",
     "height": 0
    },
    "id": "Px_gsSGcFL6p",
    "outputId": "17a8a806-8a02-42c8-b1e3-45aacb22945a"
   },
   "outputs": [
    {
     "data": {
      "image/png": "[encoded data removed]",
      "text/plain": [
       "<Figure size 640x480 with 1 Axes>"
      ]
     },
     "metadata": {
      "tags": []
     },
     "output_type": "display_data"
    },
    {
     "data": {
      "text/plain": [
       "<ggplot: (8743518461713)>"
      ]
     },
     "execution_count": 141,
     "metadata": {
      "tags": []
     },
     "output_type": "execute_result"
    }
   ],
   "source": [
    "from plotnine import *\n",
    "ggplot(train_std,aes(x = 'PC1',y = 'PC2',color = train['label'])) + geom_point()"
   ]
  },
  {
   "cell_type": "code",
   "execution_count": 142,
   "metadata": {
    "colab": {
     "base_uri": "https://localhost:8080/",
     "height": 0
    },
    "id": "5HlNsV6RFTpK",
    "outputId": "d49e3959-01d4-4da7-f7d8-57a59b3371fb"
   },
   "outputs": [
    {
     "data": {
      "image/png": "[encoded data removed]",
      "text/plain": [
       "<Figure size 640x480 with 1 Axes>"
      ]
     },
     "metadata": {
      "tags": []
     },
     "output_type": "display_data"
    },
    {
     "data": {
      "text/plain": [
       "<ggplot: (8743518405969)>"
      ]
     },
     "execution_count": 142,
     "metadata": {
      "tags": []
     },
     "output_type": "execute_result"
    }
   ],
   "source": [
    "ggplot(train_std,aes(x = 'PC1',y = 'PC2',color = kmeans.labels_)) + geom_point()"
   ]
  },
  {
   "cell_type": "code",
   "execution_count": 143,
   "metadata": {
    "id": "twOXos_uFWit"
   },
   "outputs": [],
   "source": [
    "data = pd.concat([X_train,X_test]) # 전체 데이터에 대해 pca 진행해야 함\n",
    "data_std = data[['PC1','PC2']]\n",
    "data_std = StandardScaler().fit_transform(data_std)\n",
    "kmeans = KMeans(n_clusters = 2,random_state = 42).fit(data_std)\n",
    "data['clus'] = kmeans.labels_\n",
    "X_train = data.iloc[:405,:]\n",
    "X_test = data.iloc[405:,:]\n",
    "X_test = X_test.reset_index(drop = True)"
   ]
  },
  {
   "cell_type": "code",
   "execution_count": 144,
   "metadata": {
    "colab": {
     "base_uri": "https://localhost:8080/"
    },
    "id": "izqiCVaKF47x",
    "outputId": "aa03638c-84a6-4a2b-ce2e-3bac83c60b5f"
   },
   "outputs": [
    {
     "data": {
      "text/plain": [
       "0.7209876543209877"
      ]
     },
     "execution_count": 144,
     "metadata": {
      "tags": []
     },
     "output_type": "execute_result"
    }
   ],
   "source": [
    "sum(X_train.clus == train.label) / len(train.label)"
   ]
  },
  {
   "cell_type": "markdown",
   "metadata": {
    "id": "_HsYgSbNFoZT"
   },
   "source": [
    "> 데이터가 overlapped 되어 있기 때문에 클러스터링 결과와 다른 부분들도 존재하지만, 예측에 도움이 될 것이라 판단하여 데이터셋에 추가하였습니다."
   ]
  },
  {
   "cell_type": "markdown",
   "metadata": {
    "id": "BI6MbiMbEAnQ"
   },
   "source": [
    "### 3. Feature Engineering - Variable Transformation"
   ]
  },
  {
   "cell_type": "code",
   "execution_count": 145,
   "metadata": {
    "id": "UNvEF4AUDyRN"
   },
   "outputs": [],
   "source": [
    "train2 = train.copy()"
   ]
  },
  {
   "cell_type": "code",
   "execution_count": 146,
   "metadata": {
    "id": "8ZLMoGdBEM4r"
   },
   "outputs": [],
   "source": [
    "train2['label'] = train2['label'].astype('object')\n",
    "train2['slope2'] = train2['slopeUV0-500_sma3nz_amean_min'] ** 2"
   ]
  },
  {
   "cell_type": "code",
   "execution_count": 147,
   "metadata": {
    "colab": {
     "base_uri": "https://localhost:8080/",
     "height": 502
    },
    "id": "lxcjp_OtEtuN",
    "outputId": "ec225131-1683-48e0-a0b9-87d865e48803"
   },
   "outputs": [
    {
     "name": "stderr",
     "output_type": "stream",
     "text": [
      "/usr/local/lib/python3.7/dist-packages/plotnine/utils.py:1246: FutureWarning: is_categorical is deprecated and will be removed in a future version.  Use is_categorical_dtype instead\n",
      "  if pdtypes.is_categorical(arr):\n"
     ]
    },
    {
     "data": {
      "image/png": "[encoded data removed]",
      "text/plain": [
       "<Figure size 640x480 with 1 Axes>"
      ]
     },
     "metadata": {
      "tags": []
     },
     "output_type": "display_data"
    },
    {
     "data": {
      "text/plain": [
       "<ggplot: (8743518042321)>"
      ]
     },
     "execution_count": 147,
     "metadata": {
      "tags": []
     },
     "output_type": "execute_result"
    }
   ],
   "source": [
    "from plotnine import *\n",
    "ggplot(train2,aes(x = 'slopeUV0-500_sma3nz_amean_min',color = 'label')) + geom_density()"
   ]
  },
  {
   "cell_type": "code",
   "execution_count": 148,
   "metadata": {
    "colab": {
     "base_uri": "https://localhost:8080/",
     "height": 501
    },
    "id": "gJzwisRFEvrF",
    "outputId": "2bfc5c02-3357-44e7-e2df-19d34d4c2f18"
   },
   "outputs": [
    {
     "name": "stderr",
     "output_type": "stream",
     "text": [
      "/usr/local/lib/python3.7/dist-packages/plotnine/utils.py:1246: FutureWarning: is_categorical is deprecated and will be removed in a future version.  Use is_categorical_dtype instead\n",
      "  if pdtypes.is_categorical(arr):\n"
     ]
    },
    {
     "data": {
      "image/png": "[encoded data removed]",
      "text/plain": [
       "<Figure size 640x480 with 1 Axes>"
      ]
     },
     "metadata": {
      "tags": []
     },
     "output_type": "display_data"
    },
    {
     "data": {
      "text/plain": [
       "<ggplot: (8743518468041)>"
      ]
     },
     "execution_count": 148,
     "metadata": {
      "tags": []
     },
     "output_type": "execute_result"
    }
   ],
   "source": [
    "ggplot(train2,aes(x = 'slope2',color = 'label')) + geom_density()"
   ]
  },
  {
   "cell_type": "code",
   "execution_count": 149,
   "metadata": {
    "colab": {
     "base_uri": "https://localhost:8080/"
    },
    "id": "gZuM8LgAExhK",
    "outputId": "79a12e5f-74a3-43ba-ce77-aba28a5f0c30"
   },
   "outputs": [
    {
     "name": "stderr",
     "output_type": "stream",
     "text": [
      "/usr/local/lib/python3.7/dist-packages/ipykernel_launcher.py:1: SettingWithCopyWarning: \n",
      "A value is trying to be set on a copy of a slice from a DataFrame.\n",
      "Try using .loc[row_indexer,col_indexer] = value instead\n",
      "\n",
      "See the caveats in the documentation: https://pandas.pydata.org/pandas-docs/stable/user_guide/indexing.html#returning-a-view-versus-a-copy\n",
      "  \"\"\"Entry point for launching an IPython kernel.\n"
     ]
    }
   ],
   "source": [
    "X_train['slope2'] = X_train['slopeUV0-500_sma3nz_amean_min'] ** 2\n",
    "X_test['slope2'] = X_test['slopeUV0-500_sma3nz_amean_min'] ** 2"
   ]
  },
  {
   "cell_type": "markdown",
   "metadata": {
    "id": "Gf7QjnzTE8Vy"
   },
   "source": [
    "> 시각화 결과, 'slopeUV0-500_sma3nz_amean_min'의 제곱은 라벨 분류에 효과적이라고 판단되어, 해당 변수를 추가하였다."
   ]
  },
  {
   "cell_type": "code",
   "execution_count": 150,
   "metadata": {
    "colab": {
     "base_uri": "https://localhost:8080/",
     "height": 502
    },
    "id": "HM2WQjiHxUez",
    "outputId": "46b95754-86f5-4cde-94b4-d77b79564ff3"
   },
   "outputs": [
    {
     "name": "stderr",
     "output_type": "stream",
     "text": [
      "/usr/local/lib/python3.7/dist-packages/plotnine/utils.py:1246: FutureWarning: is_categorical is deprecated and will be removed in a future version.  Use is_categorical_dtype instead\n",
      "  if pdtypes.is_categorical(arr):\n"
     ]
    },
    {
     "data": {
      "image/png": "[encoded data removed]",
      "text/plain": [
       "<Figure size 640x480 with 1 Axes>"
      ]
     },
     "metadata": {
      "tags": []
     },
     "output_type": "display_data"
    },
    {
     "data": {
      "text/plain": [
       "<ggplot: (8743518538769)>"
      ]
     },
     "execution_count": 150,
     "metadata": {
      "tags": []
     },
     "output_type": "execute_result"
    }
   ],
   "source": [
    "ggplot(train2,aes(x = 'emotion_happy_max',color = 'label')) + geom_density()"
   ]
  },
  {
   "cell_type": "code",
   "execution_count": 151,
   "metadata": {
    "colab": {
     "base_uri": "https://localhost:8080/",
     "height": 502
    },
    "id": "C8ca8YfrxF03",
    "outputId": "3e85e625-76fa-4d02-f3f4-9533f3a6d331"
   },
   "outputs": [
    {
     "name": "stderr",
     "output_type": "stream",
     "text": [
      "/usr/local/lib/python3.7/dist-packages/plotnine/utils.py:1246: FutureWarning: is_categorical is deprecated and will be removed in a future version.  Use is_categorical_dtype instead\n",
      "  if pdtypes.is_categorical(arr):\n"
     ]
    },
    {
     "data": {
      "image/png": "[encoded data removed]",
      "text/plain": [
       "<Figure size 640x480 with 1 Axes>"
      ]
     },
     "metadata": {
      "tags": []
     },
     "output_type": "display_data"
    },
    {
     "data": {
      "text/plain": [
       "<ggplot: (8743518590317)>"
      ]
     },
     "execution_count": 151,
     "metadata": {
      "tags": []
     },
     "output_type": "execute_result"
    }
   ],
   "source": [
    "ggplot(train2,aes(x = 'emotion_neutral_mean',color = 'label')) + geom_density()"
   ]
  },
  {
   "cell_type": "code",
   "execution_count": 152,
   "metadata": {
    "id": "4JmnhpSp2mf7"
   },
   "outputs": [],
   "source": [
    "train2['happiness'] = np.log((train2['emotion_happy_max'] + 10**(-9) ) / train2['emotion_neutral_mean'])"
   ]
  },
  {
   "cell_type": "code",
   "execution_count": 153,
   "metadata": {
    "colab": {
     "base_uri": "https://localhost:8080/",
     "height": 501
    },
    "id": "GjyBJ2XQzMr2",
    "outputId": "79e984fb-cccd-4c0b-85fc-6b0f25295eeb"
   },
   "outputs": [
    {
     "name": "stderr",
     "output_type": "stream",
     "text": [
      "/usr/local/lib/python3.7/dist-packages/plotnine/utils.py:1246: FutureWarning: is_categorical is deprecated and will be removed in a future version.  Use is_categorical_dtype instead\n",
      "  if pdtypes.is_categorical(arr):\n"
     ]
    },
    {
     "data": {
      "image/png": "[encoded data removed]",
      "text/plain": [
       "<Figure size 640x480 with 1 Axes>"
      ]
     },
     "metadata": {
      "tags": []
     },
     "output_type": "display_data"
    },
    {
     "data": {
      "text/plain": [
       "<ggplot: (8743518378745)>"
      ]
     },
     "execution_count": 153,
     "metadata": {
      "tags": []
     },
     "output_type": "execute_result"
    }
   ],
   "source": [
    "ggplot(train2,aes(x = 'happiness',color = 'label')) + geom_density()"
   ]
  },
  {
   "cell_type": "markdown",
   "metadata": {
    "id": "yWG5Ct7i2OM1"
   },
   "source": [
    "> 시각화 결과, label 1은 label 0 에 비해 최대 happy 값이 작으며, 평균적인 neutral 값이 크다는 것을 확인하였다. 이를 이용하여 다음의 피처를 추가해주었다."
   ]
  },
  {
   "cell_type": "code",
   "execution_count": 154,
   "metadata": {
    "colab": {
     "base_uri": "https://localhost:8080/"
    },
    "id": "zKXMQOYOxmSM",
    "outputId": "0c184593-36cf-402f-dcae-48c75d772c9c"
   },
   "outputs": [
    {
     "name": "stderr",
     "output_type": "stream",
     "text": [
      "/usr/local/lib/python3.7/dist-packages/ipykernel_launcher.py:1: SettingWithCopyWarning: \n",
      "A value is trying to be set on a copy of a slice from a DataFrame.\n",
      "Try using .loc[row_indexer,col_indexer] = value instead\n",
      "\n",
      "See the caveats in the documentation: https://pandas.pydata.org/pandas-docs/stable/user_guide/indexing.html#returning-a-view-versus-a-copy\n",
      "  \"\"\"Entry point for launching an IPython kernel.\n"
     ]
    }
   ],
   "source": [
    "X_train['happiness'] = np.log((X_train['emotion_happy_max'] + 10**(-9) ) / X_train['emotion_neutral_mean'])\n",
    "X_test['happiness'] = np.log((X_test['emotion_happy_max'] + 10**(-9) ) / X_test['emotion_neutral_mean'])"
   ]
  },
  {
   "cell_type": "code",
   "execution_count": 155,
   "metadata": {
    "colab": {
     "base_uri": "https://localhost:8080/",
     "height": 270
    },
    "id": "1oPlWf_qFm33",
    "outputId": "736f93a3-27b7-4238-cc1f-b1560ad85e20"
   },
   "outputs": [
    {
     "data": {
      "text/html": [
       "<div>\n",
       "<style scoped>\n",
       "    .dataframe tbody tr th:only-of-type {\n",
       "        vertical-align: middle;\n",
       "    }\n",
       "\n",
       "    .dataframe tbody tr th {\n",
       "        vertical-align: top;\n",
       "    }\n",
       "\n",
       "    .dataframe thead th {\n",
       "        text-align: right;\n",
       "    }\n",
       "</style>\n",
       "<table border=\"1\" class=\"dataframe\">\n",
       "  <thead>\n",
       "    <tr style=\"text-align: right;\">\n",
       "      <th></th>\n",
       "      <th>emotion_angry_mean</th>\n",
       "      <th>emotion_disgust_mean</th>\n",
       "      <th>emotion_fear_mean</th>\n",
       "      <th>emotion_happy_mean</th>\n",
       "      <th>emotion_sad_mean</th>\n",
       "      <th>emotion_surprise_mean</th>\n",
       "      <th>emotion_neutral_mean</th>\n",
       "      <th>F0semitoneFrom27.5Hz_sma3nz_stddevNorm_mean</th>\n",
       "      <th>F0semitoneFrom27.5Hz_sma3nz_percentile20.0_mean</th>\n",
       "      <th>F0semitoneFrom27.5Hz_sma3nz_stddevRisingSlope_mean</th>\n",
       "      <th>F0semitoneFrom27.5Hz_sma3nz_meanFallingSlope_mean</th>\n",
       "      <th>loudness_sma3_stddevNorm_mean</th>\n",
       "      <th>loudness_sma3_pctlrange0-2_mean</th>\n",
       "      <th>spectralFlux_sma3_stddevNorm_mean</th>\n",
       "      <th>mfcc1_sma3_stddevNorm_mean</th>\n",
       "      <th>mfcc2_sma3_amean_mean</th>\n",
       "      <th>mfcc2_sma3_stddevNorm_mean</th>\n",
       "      <th>mfcc3_sma3_stddevNorm_mean</th>\n",
       "      <th>mfcc4_sma3_amean_mean</th>\n",
       "      <th>jitterLocal_sma3nz_amean_mean</th>\n",
       "      <th>jitterLocal_sma3nz_stddevNorm_mean</th>\n",
       "      <th>shimmerLocaldB_sma3nz_amean_mean</th>\n",
       "      <th>shimmerLocaldB_sma3nz_stddevNorm_mean</th>\n",
       "      <th>HNRdBACF_sma3nz_amean_mean</th>\n",
       "      <th>HNRdBACF_sma3nz_stddevNorm_mean</th>\n",
       "      <th>logRelF0-H1-H2_sma3nz_amean_mean</th>\n",
       "      <th>logRelF0-H1-H2_sma3nz_stddevNorm_mean</th>\n",
       "      <th>logRelF0-H1-A3_sma3nz_amean_mean</th>\n",
       "      <th>logRelF0-H1-A3_sma3nz_stddevNorm_mean</th>\n",
       "      <th>F1frequency_sma3nz_amean_mean</th>\n",
       "      <th>F1frequency_sma3nz_stddevNorm_mean</th>\n",
       "      <th>F1bandwidth_sma3nz_amean_mean</th>\n",
       "      <th>F1bandwidth_sma3nz_stddevNorm_mean</th>\n",
       "      <th>F1amplitudeLogRelF0_sma3nz_stddevNorm_mean</th>\n",
       "      <th>F2frequency_sma3nz_amean_mean</th>\n",
       "      <th>F2frequency_sma3nz_stddevNorm_mean</th>\n",
       "      <th>F2bandwidth_sma3nz_amean_mean</th>\n",
       "      <th>F2bandwidth_sma3nz_stddevNorm_mean</th>\n",
       "      <th>F2amplitudeLogRelF0_sma3nz_stddevNorm_mean</th>\n",
       "      <th>F3frequency_sma3nz_amean_mean</th>\n",
       "      <th>...</th>\n",
       "      <th>HNRdBACF_sma3nz_stddevNorm_max</th>\n",
       "      <th>logRelF0-H1-H2_sma3nz_amean_max</th>\n",
       "      <th>logRelF0-H1-H2_sma3nz_stddevNorm_max</th>\n",
       "      <th>logRelF0-H1-A3_sma3nz_amean_max</th>\n",
       "      <th>logRelF0-H1-A3_sma3nz_stddevNorm_max</th>\n",
       "      <th>F1bandwidth_sma3nz_stddevNorm_max</th>\n",
       "      <th>F1amplitudeLogRelF0_sma3nz_stddevNorm_max</th>\n",
       "      <th>F2frequency_sma3nz_stddevNorm_max</th>\n",
       "      <th>F2bandwidth_sma3nz_stddevNorm_max</th>\n",
       "      <th>F2amplitudeLogRelF0_sma3nz_stddevNorm_max</th>\n",
       "      <th>F3bandwidth_sma3nz_stddevNorm_max</th>\n",
       "      <th>F3amplitudeLogRelF0_sma3nz_amean_max</th>\n",
       "      <th>hammarbergIndexV_sma3nz_amean_max</th>\n",
       "      <th>hammarbergIndexV_sma3nz_stddevNorm_max</th>\n",
       "      <th>slopeV0-500_sma3nz_amean_max</th>\n",
       "      <th>slopeV0-500_sma3nz_stddevNorm_max</th>\n",
       "      <th>slopeV500-1500_sma3nz_amean_max</th>\n",
       "      <th>slopeV500-1500_sma3nz_stddevNorm_max</th>\n",
       "      <th>spectralFluxV_sma3nz_stddevNorm_max</th>\n",
       "      <th>mfcc1V_sma3nz_amean_max</th>\n",
       "      <th>mfcc1V_sma3nz_stddevNorm_max</th>\n",
       "      <th>mfcc2V_sma3nz_amean_max</th>\n",
       "      <th>mfcc3V_sma3nz_amean_max</th>\n",
       "      <th>mfcc3V_sma3nz_stddevNorm_max</th>\n",
       "      <th>mfcc4V_sma3nz_amean_max</th>\n",
       "      <th>mfcc4V_sma3nz_stddevNorm_max</th>\n",
       "      <th>alphaRatioUV_sma3nz_amean_max</th>\n",
       "      <th>slopeUV0-500_sma3nz_amean_max</th>\n",
       "      <th>slopeUV500-1500_sma3nz_amean_max</th>\n",
       "      <th>loudnessPeaksPerSec_max</th>\n",
       "      <th>VoicedSegmentsPerSec_max</th>\n",
       "      <th>MeanVoicedSegmentLengthSec_max</th>\n",
       "      <th>StddevVoicedSegmentLengthSec_max</th>\n",
       "      <th>MeanUnvoicedSegmentLength_max</th>\n",
       "      <th>equivalentSoundLevel_dBp_max</th>\n",
       "      <th>PC1</th>\n",
       "      <th>PC2</th>\n",
       "      <th>clus</th>\n",
       "      <th>slope2</th>\n",
       "      <th>happiness</th>\n",
       "    </tr>\n",
       "  </thead>\n",
       "  <tbody>\n",
       "    <tr>\n",
       "      <th>0</th>\n",
       "      <td>0.159302</td>\n",
       "      <td>0.001206</td>\n",
       "      <td>0.095556</td>\n",
       "      <td>0.103968</td>\n",
       "      <td>0.241841</td>\n",
       "      <td>0.015937</td>\n",
       "      <td>0.380635</td>\n",
       "      <td>0.175620</td>\n",
       "      <td>21.451660</td>\n",
       "      <td>118.805772</td>\n",
       "      <td>71.780979</td>\n",
       "      <td>0.456544</td>\n",
       "      <td>0.874988</td>\n",
       "      <td>0.695773</td>\n",
       "      <td>0.693588</td>\n",
       "      <td>-0.327011</td>\n",
       "      <td>2.948707</td>\n",
       "      <td>0.621157</td>\n",
       "      <td>-0.636670</td>\n",
       "      <td>0.041140</td>\n",
       "      <td>1.294767</td>\n",
       "      <td>1.411157</td>\n",
       "      <td>0.626918</td>\n",
       "      <td>0.877843</td>\n",
       "      <td>4.139195</td>\n",
       "      <td>-0.287642</td>\n",
       "      <td>-0.290519</td>\n",
       "      <td>15.581802</td>\n",
       "      <td>-0.273956</td>\n",
       "      <td>544.655074</td>\n",
       "      <td>0.392437</td>\n",
       "      <td>1253.904941</td>\n",
       "      <td>0.169909</td>\n",
       "      <td>-2.394409</td>\n",
       "      <td>1537.854905</td>\n",
       "      <td>0.152067</td>\n",
       "      <td>965.712732</td>\n",
       "      <td>0.254926</td>\n",
       "      <td>-1.559542</td>\n",
       "      <td>2522.978859</td>\n",
       "      <td>...</td>\n",
       "      <td>2899.301813</td>\n",
       "      <td>22.554159</td>\n",
       "      <td>884.256909</td>\n",
       "      <td>41.183660</td>\n",
       "      <td>212.056552</td>\n",
       "      <td>0.004373</td>\n",
       "      <td>310.228394</td>\n",
       "      <td>0.001517</td>\n",
       "      <td>0.013287</td>\n",
       "      <td>13.057997</td>\n",
       "      <td>0.010718</td>\n",
       "      <td>1454.616107</td>\n",
       "      <td>17.167801</td>\n",
       "      <td>0.121265</td>\n",
       "      <td>0.000749</td>\n",
       "      <td>2.103438e+01</td>\n",
       "      <td>0.000062</td>\n",
       "      <td>2.359656</td>\n",
       "      <td>0.056775</td>\n",
       "      <td>38.786267</td>\n",
       "      <td>0.067508</td>\n",
       "      <td>39.441458</td>\n",
       "      <td>76.087625</td>\n",
       "      <td>93.992936</td>\n",
       "      <td>77.820486</td>\n",
       "      <td>36532.756730</td>\n",
       "      <td>19.835802</td>\n",
       "      <td>0.001236</td>\n",
       "      <td>0.000041</td>\n",
       "      <td>3.247842</td>\n",
       "      <td>1.524696</td>\n",
       "      <td>0.038395</td>\n",
       "      <td>0.007741</td>\n",
       "      <td>0.009176</td>\n",
       "      <td>17.493596</td>\n",
       "      <td>-0.014919</td>\n",
       "      <td>-5.380425</td>\n",
       "      <td>1</td>\n",
       "      <td>0.003115</td>\n",
       "      <td>-2.623733</td>\n",
       "    </tr>\n",
       "    <tr>\n",
       "      <th>1</th>\n",
       "      <td>0.078909</td>\n",
       "      <td>0.000098</td>\n",
       "      <td>0.097341</td>\n",
       "      <td>0.111471</td>\n",
       "      <td>0.152525</td>\n",
       "      <td>0.038076</td>\n",
       "      <td>0.521042</td>\n",
       "      <td>0.180559</td>\n",
       "      <td>17.321590</td>\n",
       "      <td>87.802155</td>\n",
       "      <td>67.882583</td>\n",
       "      <td>0.416345</td>\n",
       "      <td>0.439405</td>\n",
       "      <td>0.502883</td>\n",
       "      <td>0.305130</td>\n",
       "      <td>2.699263</td>\n",
       "      <td>1.668620</td>\n",
       "      <td>1.532773</td>\n",
       "      <td>3.519948</td>\n",
       "      <td>0.065575</td>\n",
       "      <td>1.384110</td>\n",
       "      <td>1.419527</td>\n",
       "      <td>0.543701</td>\n",
       "      <td>-1.146932</td>\n",
       "      <td>0.672221</td>\n",
       "      <td>0.158461</td>\n",
       "      <td>18.794347</td>\n",
       "      <td>16.829154</td>\n",
       "      <td>0.816122</td>\n",
       "      <td>538.892465</td>\n",
       "      <td>0.373174</td>\n",
       "      <td>1256.766817</td>\n",
       "      <td>0.142594</td>\n",
       "      <td>-2.579767</td>\n",
       "      <td>1509.073255</td>\n",
       "      <td>0.163857</td>\n",
       "      <td>955.045890</td>\n",
       "      <td>0.209656</td>\n",
       "      <td>-1.470210</td>\n",
       "      <td>2522.071757</td>\n",
       "      <td>...</td>\n",
       "      <td>498.347861</td>\n",
       "      <td>35.250829</td>\n",
       "      <td>267415.174368</td>\n",
       "      <td>34.848164</td>\n",
       "      <td>69.305493</td>\n",
       "      <td>0.000972</td>\n",
       "      <td>300.911736</td>\n",
       "      <td>0.001840</td>\n",
       "      <td>0.005533</td>\n",
       "      <td>0.276725</td>\n",
       "      <td>0.008120</td>\n",
       "      <td>445.160892</td>\n",
       "      <td>8.891616</td>\n",
       "      <td>0.006371</td>\n",
       "      <td>0.000527</td>\n",
       "      <td>1.106866e+07</td>\n",
       "      <td>0.000032</td>\n",
       "      <td>212.740090</td>\n",
       "      <td>0.033280</td>\n",
       "      <td>24.012308</td>\n",
       "      <td>0.017846</td>\n",
       "      <td>21.320284</td>\n",
       "      <td>41.933796</td>\n",
       "      <td>520.846650</td>\n",
       "      <td>41.720618</td>\n",
       "      <td>388.881196</td>\n",
       "      <td>15.238695</td>\n",
       "      <td>0.000494</td>\n",
       "      <td>0.000053</td>\n",
       "      <td>3.604506</td>\n",
       "      <td>2.172738</td>\n",
       "      <td>0.061666</td>\n",
       "      <td>0.010000</td>\n",
       "      <td>0.002145</td>\n",
       "      <td>12.858519</td>\n",
       "      <td>-6.027202</td>\n",
       "      <td>-10.295450</td>\n",
       "      <td>1</td>\n",
       "      <td>0.013102</td>\n",
       "      <td>-3.430895</td>\n",
       "    </tr>\n",
       "    <tr>\n",
       "      <th>2</th>\n",
       "      <td>0.034322</td>\n",
       "      <td>0.000095</td>\n",
       "      <td>0.022808</td>\n",
       "      <td>0.137666</td>\n",
       "      <td>0.258423</td>\n",
       "      <td>0.052429</td>\n",
       "      <td>0.493060</td>\n",
       "      <td>0.189240</td>\n",
       "      <td>22.535169</td>\n",
       "      <td>162.965797</td>\n",
       "      <td>94.004018</td>\n",
       "      <td>0.596283</td>\n",
       "      <td>0.933058</td>\n",
       "      <td>0.808035</td>\n",
       "      <td>0.506988</td>\n",
       "      <td>-9.256810</td>\n",
       "      <td>-3.770722</td>\n",
       "      <td>-1.705518</td>\n",
       "      <td>-7.570416</td>\n",
       "      <td>0.054978</td>\n",
       "      <td>1.499219</td>\n",
       "      <td>1.613404</td>\n",
       "      <td>0.684666</td>\n",
       "      <td>1.035386</td>\n",
       "      <td>5.645391</td>\n",
       "      <td>0.325128</td>\n",
       "      <td>-6.660117</td>\n",
       "      <td>13.461928</td>\n",
       "      <td>0.910003</td>\n",
       "      <td>565.886659</td>\n",
       "      <td>0.413593</td>\n",
       "      <td>1286.927512</td>\n",
       "      <td>0.178061</td>\n",
       "      <td>-2.003153</td>\n",
       "      <td>1565.145326</td>\n",
       "      <td>0.169062</td>\n",
       "      <td>948.870944</td>\n",
       "      <td>0.294232</td>\n",
       "      <td>-1.658806</td>\n",
       "      <td>2584.256411</td>\n",
       "      <td>...</td>\n",
       "      <td>2721.717626</td>\n",
       "      <td>21.402943</td>\n",
       "      <td>5651.240145</td>\n",
       "      <td>22.950486</td>\n",
       "      <td>1.395330</td>\n",
       "      <td>0.003491</td>\n",
       "      <td>63.357580</td>\n",
       "      <td>0.001055</td>\n",
       "      <td>0.009161</td>\n",
       "      <td>0.529698</td>\n",
       "      <td>0.012530</td>\n",
       "      <td>493.208497</td>\n",
       "      <td>13.329468</td>\n",
       "      <td>0.033750</td>\n",
       "      <td>0.000645</td>\n",
       "      <td>1.095221e+01</td>\n",
       "      <td>0.000026</td>\n",
       "      <td>0.177499</td>\n",
       "      <td>0.050340</td>\n",
       "      <td>20.331421</td>\n",
       "      <td>0.028065</td>\n",
       "      <td>52.316003</td>\n",
       "      <td>68.600087</td>\n",
       "      <td>836.364531</td>\n",
       "      <td>33.880142</td>\n",
       "      <td>142.738082</td>\n",
       "      <td>25.227335</td>\n",
       "      <td>0.001184</td>\n",
       "      <td>0.000045</td>\n",
       "      <td>1.802816</td>\n",
       "      <td>1.662936</td>\n",
       "      <td>0.032222</td>\n",
       "      <td>0.007558</td>\n",
       "      <td>0.001987</td>\n",
       "      <td>14.715437</td>\n",
       "      <td>-8.215042</td>\n",
       "      <td>-6.379095</td>\n",
       "      <td>1</td>\n",
       "      <td>0.013203</td>\n",
       "      <td>-2.249674</td>\n",
       "    </tr>\n",
       "    <tr>\n",
       "      <th>3</th>\n",
       "      <td>0.145186</td>\n",
       "      <td>0.003081</td>\n",
       "      <td>0.062902</td>\n",
       "      <td>0.336561</td>\n",
       "      <td>0.083164</td>\n",
       "      <td>0.027579</td>\n",
       "      <td>0.340523</td>\n",
       "      <td>0.181022</td>\n",
       "      <td>21.688634</td>\n",
       "      <td>141.797581</td>\n",
       "      <td>90.891705</td>\n",
       "      <td>0.568940</td>\n",
       "      <td>1.481961</td>\n",
       "      <td>0.714956</td>\n",
       "      <td>0.484846</td>\n",
       "      <td>-9.563758</td>\n",
       "      <td>-2.734255</td>\n",
       "      <td>0.783295</td>\n",
       "      <td>1.364811</td>\n",
       "      <td>0.057045</td>\n",
       "      <td>1.325208</td>\n",
       "      <td>1.644563</td>\n",
       "      <td>0.614259</td>\n",
       "      <td>0.758929</td>\n",
       "      <td>10.484954</td>\n",
       "      <td>4.209018</td>\n",
       "      <td>2.280799</td>\n",
       "      <td>15.431750</td>\n",
       "      <td>1.934091</td>\n",
       "      <td>574.906949</td>\n",
       "      <td>0.422681</td>\n",
       "      <td>1196.605143</td>\n",
       "      <td>0.203321</td>\n",
       "      <td>-1.692598</td>\n",
       "      <td>1592.876839</td>\n",
       "      <td>0.177228</td>\n",
       "      <td>894.232642</td>\n",
       "      <td>0.311871</td>\n",
       "      <td>-1.325629</td>\n",
       "      <td>2586.252090</td>\n",
       "      <td>...</td>\n",
       "      <td>56287.954568</td>\n",
       "      <td>15.951400</td>\n",
       "      <td>508.845244</td>\n",
       "      <td>21.748080</td>\n",
       "      <td>1066.634253</td>\n",
       "      <td>0.005486</td>\n",
       "      <td>16.175430</td>\n",
       "      <td>0.001340</td>\n",
       "      <td>0.013392</td>\n",
       "      <td>0.201236</td>\n",
       "      <td>0.011962</td>\n",
       "      <td>776.204296</td>\n",
       "      <td>14.332504</td>\n",
       "      <td>0.028576</td>\n",
       "      <td>0.000859</td>\n",
       "      <td>5.063962e+02</td>\n",
       "      <td>0.000041</td>\n",
       "      <td>1.960178</td>\n",
       "      <td>0.030376</td>\n",
       "      <td>21.134078</td>\n",
       "      <td>0.024300</td>\n",
       "      <td>70.658536</td>\n",
       "      <td>81.070854</td>\n",
       "      <td>4.981059</td>\n",
       "      <td>90.241472</td>\n",
       "      <td>11894.613080</td>\n",
       "      <td>25.832471</td>\n",
       "      <td>0.000976</td>\n",
       "      <td>0.000071</td>\n",
       "      <td>2.300070</td>\n",
       "      <td>1.707928</td>\n",
       "      <td>0.024220</td>\n",
       "      <td>0.005290</td>\n",
       "      <td>0.005230</td>\n",
       "      <td>9.385141</td>\n",
       "      <td>-5.093493</td>\n",
       "      <td>-1.935552</td>\n",
       "      <td>1</td>\n",
       "      <td>0.009182</td>\n",
       "      <td>-1.171519</td>\n",
       "    </tr>\n",
       "    <tr>\n",
       "      <th>4</th>\n",
       "      <td>0.095809</td>\n",
       "      <td>0.000637</td>\n",
       "      <td>0.127135</td>\n",
       "      <td>0.201353</td>\n",
       "      <td>0.149867</td>\n",
       "      <td>0.104164</td>\n",
       "      <td>0.320769</td>\n",
       "      <td>0.083505</td>\n",
       "      <td>28.839600</td>\n",
       "      <td>82.642770</td>\n",
       "      <td>42.664046</td>\n",
       "      <td>0.532330</td>\n",
       "      <td>0.396684</td>\n",
       "      <td>0.915803</td>\n",
       "      <td>1.088757</td>\n",
       "      <td>6.070446</td>\n",
       "      <td>0.666237</td>\n",
       "      <td>-0.101911</td>\n",
       "      <td>-7.143915</td>\n",
       "      <td>0.029639</td>\n",
       "      <td>1.097350</td>\n",
       "      <td>0.964215</td>\n",
       "      <td>0.671750</td>\n",
       "      <td>6.071170</td>\n",
       "      <td>0.599792</td>\n",
       "      <td>4.690652</td>\n",
       "      <td>1.544186</td>\n",
       "      <td>23.805195</td>\n",
       "      <td>0.399768</td>\n",
       "      <td>527.820314</td>\n",
       "      <td>0.291506</td>\n",
       "      <td>1195.224412</td>\n",
       "      <td>0.151622</td>\n",
       "      <td>-1.169244</td>\n",
       "      <td>1478.527268</td>\n",
       "      <td>0.150558</td>\n",
       "      <td>962.788834</td>\n",
       "      <td>0.338022</td>\n",
       "      <td>-0.856013</td>\n",
       "      <td>2450.030429</td>\n",
       "      <td>...</td>\n",
       "      <td>16.618196</td>\n",
       "      <td>82.958152</td>\n",
       "      <td>71.382725</td>\n",
       "      <td>152.778785</td>\n",
       "      <td>0.695762</td>\n",
       "      <td>0.005125</td>\n",
       "      <td>3.264269</td>\n",
       "      <td>0.003619</td>\n",
       "      <td>0.027795</td>\n",
       "      <td>0.182160</td>\n",
       "      <td>0.042303</td>\n",
       "      <td>2665.746927</td>\n",
       "      <td>73.557673</td>\n",
       "      <td>0.021437</td>\n",
       "      <td>0.001145</td>\n",
       "      <td>4.659648e-03</td>\n",
       "      <td>0.000129</td>\n",
       "      <td>104.653496</td>\n",
       "      <td>0.069270</td>\n",
       "      <td>91.228826</td>\n",
       "      <td>0.092175</td>\n",
       "      <td>78.982456</td>\n",
       "      <td>72.988948</td>\n",
       "      <td>2891.609583</td>\n",
       "      <td>69.336666</td>\n",
       "      <td>38.107488</td>\n",
       "      <td>16.618918</td>\n",
       "      <td>0.000318</td>\n",
       "      <td>0.000035</td>\n",
       "      <td>4.608594</td>\n",
       "      <td>1.361078</td>\n",
       "      <td>0.045438</td>\n",
       "      <td>0.007732</td>\n",
       "      <td>0.077567</td>\n",
       "      <td>81.380548</td>\n",
       "      <td>19.395535</td>\n",
       "      <td>-6.268999</td>\n",
       "      <td>1</td>\n",
       "      <td>0.000000</td>\n",
       "      <td>-1.819896</td>\n",
       "    </tr>\n",
       "  </tbody>\n",
       "</table>\n",
       "<p>5 rows × 197 columns</p>\n",
       "</div>"
      ],
      "text/plain": [
       "   emotion_angry_mean  emotion_disgust_mean  ...    slope2  happiness\n",
       "0            0.159302              0.001206  ...  0.003115  -2.623733\n",
       "1            0.078909              0.000098  ...  0.013102  -3.430895\n",
       "2            0.034322              0.000095  ...  0.013203  -2.249674\n",
       "3            0.145186              0.003081  ...  0.009182  -1.171519\n",
       "4            0.095809              0.000637  ...  0.000000  -1.819896\n",
       "\n",
       "[5 rows x 197 columns]"
      ]
     },
     "execution_count": 155,
     "metadata": {
      "tags": []
     },
     "output_type": "execute_result"
    }
   ],
   "source": [
    "X_train.head(5)"
   ]
  },
  {
   "cell_type": "code",
   "execution_count": 156,
   "metadata": {
    "colab": {
     "base_uri": "https://localhost:8080/",
     "height": 270
    },
    "id": "Vketw1g0Fsrx",
    "outputId": "d799f44c-cde3-41d4-f312-5ac56324f044"
   },
   "outputs": [
    {
     "data": {
      "text/html": [
       "<div>\n",
       "<style scoped>\n",
       "    .dataframe tbody tr th:only-of-type {\n",
       "        vertical-align: middle;\n",
       "    }\n",
       "\n",
       "    .dataframe tbody tr th {\n",
       "        vertical-align: top;\n",
       "    }\n",
       "\n",
       "    .dataframe thead th {\n",
       "        text-align: right;\n",
       "    }\n",
       "</style>\n",
       "<table border=\"1\" class=\"dataframe\">\n",
       "  <thead>\n",
       "    <tr style=\"text-align: right;\">\n",
       "      <th></th>\n",
       "      <th>emotion_angry_mean</th>\n",
       "      <th>emotion_disgust_mean</th>\n",
       "      <th>emotion_fear_mean</th>\n",
       "      <th>emotion_happy_mean</th>\n",
       "      <th>emotion_sad_mean</th>\n",
       "      <th>emotion_surprise_mean</th>\n",
       "      <th>emotion_neutral_mean</th>\n",
       "      <th>F0semitoneFrom27.5Hz_sma3nz_stddevNorm_mean</th>\n",
       "      <th>F0semitoneFrom27.5Hz_sma3nz_percentile20.0_mean</th>\n",
       "      <th>F0semitoneFrom27.5Hz_sma3nz_stddevRisingSlope_mean</th>\n",
       "      <th>F0semitoneFrom27.5Hz_sma3nz_meanFallingSlope_mean</th>\n",
       "      <th>loudness_sma3_stddevNorm_mean</th>\n",
       "      <th>loudness_sma3_pctlrange0-2_mean</th>\n",
       "      <th>spectralFlux_sma3_stddevNorm_mean</th>\n",
       "      <th>mfcc1_sma3_stddevNorm_mean</th>\n",
       "      <th>mfcc2_sma3_amean_mean</th>\n",
       "      <th>mfcc2_sma3_stddevNorm_mean</th>\n",
       "      <th>mfcc3_sma3_stddevNorm_mean</th>\n",
       "      <th>mfcc4_sma3_amean_mean</th>\n",
       "      <th>jitterLocal_sma3nz_amean_mean</th>\n",
       "      <th>jitterLocal_sma3nz_stddevNorm_mean</th>\n",
       "      <th>shimmerLocaldB_sma3nz_amean_mean</th>\n",
       "      <th>shimmerLocaldB_sma3nz_stddevNorm_mean</th>\n",
       "      <th>HNRdBACF_sma3nz_amean_mean</th>\n",
       "      <th>HNRdBACF_sma3nz_stddevNorm_mean</th>\n",
       "      <th>logRelF0-H1-H2_sma3nz_amean_mean</th>\n",
       "      <th>logRelF0-H1-H2_sma3nz_stddevNorm_mean</th>\n",
       "      <th>logRelF0-H1-A3_sma3nz_amean_mean</th>\n",
       "      <th>logRelF0-H1-A3_sma3nz_stddevNorm_mean</th>\n",
       "      <th>F1frequency_sma3nz_amean_mean</th>\n",
       "      <th>F1frequency_sma3nz_stddevNorm_mean</th>\n",
       "      <th>F1bandwidth_sma3nz_amean_mean</th>\n",
       "      <th>F1bandwidth_sma3nz_stddevNorm_mean</th>\n",
       "      <th>F1amplitudeLogRelF0_sma3nz_stddevNorm_mean</th>\n",
       "      <th>F2frequency_sma3nz_amean_mean</th>\n",
       "      <th>F2frequency_sma3nz_stddevNorm_mean</th>\n",
       "      <th>F2bandwidth_sma3nz_amean_mean</th>\n",
       "      <th>F2bandwidth_sma3nz_stddevNorm_mean</th>\n",
       "      <th>F2amplitudeLogRelF0_sma3nz_stddevNorm_mean</th>\n",
       "      <th>F3frequency_sma3nz_amean_mean</th>\n",
       "      <th>...</th>\n",
       "      <th>HNRdBACF_sma3nz_stddevNorm_max</th>\n",
       "      <th>logRelF0-H1-H2_sma3nz_amean_max</th>\n",
       "      <th>logRelF0-H1-H2_sma3nz_stddevNorm_max</th>\n",
       "      <th>logRelF0-H1-A3_sma3nz_amean_max</th>\n",
       "      <th>logRelF0-H1-A3_sma3nz_stddevNorm_max</th>\n",
       "      <th>F1bandwidth_sma3nz_stddevNorm_max</th>\n",
       "      <th>F1amplitudeLogRelF0_sma3nz_stddevNorm_max</th>\n",
       "      <th>F2frequency_sma3nz_stddevNorm_max</th>\n",
       "      <th>F2bandwidth_sma3nz_stddevNorm_max</th>\n",
       "      <th>F2amplitudeLogRelF0_sma3nz_stddevNorm_max</th>\n",
       "      <th>F3bandwidth_sma3nz_stddevNorm_max</th>\n",
       "      <th>F3amplitudeLogRelF0_sma3nz_amean_max</th>\n",
       "      <th>hammarbergIndexV_sma3nz_amean_max</th>\n",
       "      <th>hammarbergIndexV_sma3nz_stddevNorm_max</th>\n",
       "      <th>slopeV0-500_sma3nz_amean_max</th>\n",
       "      <th>slopeV0-500_sma3nz_stddevNorm_max</th>\n",
       "      <th>slopeV500-1500_sma3nz_amean_max</th>\n",
       "      <th>slopeV500-1500_sma3nz_stddevNorm_max</th>\n",
       "      <th>spectralFluxV_sma3nz_stddevNorm_max</th>\n",
       "      <th>mfcc1V_sma3nz_amean_max</th>\n",
       "      <th>mfcc1V_sma3nz_stddevNorm_max</th>\n",
       "      <th>mfcc2V_sma3nz_amean_max</th>\n",
       "      <th>mfcc3V_sma3nz_amean_max</th>\n",
       "      <th>mfcc3V_sma3nz_stddevNorm_max</th>\n",
       "      <th>mfcc4V_sma3nz_amean_max</th>\n",
       "      <th>mfcc4V_sma3nz_stddevNorm_max</th>\n",
       "      <th>alphaRatioUV_sma3nz_amean_max</th>\n",
       "      <th>slopeUV0-500_sma3nz_amean_max</th>\n",
       "      <th>slopeUV500-1500_sma3nz_amean_max</th>\n",
       "      <th>loudnessPeaksPerSec_max</th>\n",
       "      <th>VoicedSegmentsPerSec_max</th>\n",
       "      <th>MeanVoicedSegmentLengthSec_max</th>\n",
       "      <th>StddevVoicedSegmentLengthSec_max</th>\n",
       "      <th>MeanUnvoicedSegmentLength_max</th>\n",
       "      <th>equivalentSoundLevel_dBp_max</th>\n",
       "      <th>PC1</th>\n",
       "      <th>PC2</th>\n",
       "      <th>clus</th>\n",
       "      <th>slope2</th>\n",
       "      <th>happiness</th>\n",
       "    </tr>\n",
       "  </thead>\n",
       "  <tbody>\n",
       "    <tr>\n",
       "      <th>0</th>\n",
       "      <td>0.155693</td>\n",
       "      <td>0.000225</td>\n",
       "      <td>0.077640</td>\n",
       "      <td>0.226517</td>\n",
       "      <td>0.208652</td>\n",
       "      <td>0.044869</td>\n",
       "      <td>0.285805</td>\n",
       "      <td>0.204727</td>\n",
       "      <td>18.768689</td>\n",
       "      <td>120.644116</td>\n",
       "      <td>98.211368</td>\n",
       "      <td>0.517132</td>\n",
       "      <td>0.864454</td>\n",
       "      <td>0.816384</td>\n",
       "      <td>0.527930</td>\n",
       "      <td>1.689141</td>\n",
       "      <td>-3.422121</td>\n",
       "      <td>0.737629</td>\n",
       "      <td>3.275405</td>\n",
       "      <td>0.076818</td>\n",
       "      <td>1.205838</td>\n",
       "      <td>1.659669</td>\n",
       "      <td>0.564678</td>\n",
       "      <td>-0.045818</td>\n",
       "      <td>-1.300836</td>\n",
       "      <td>2.728719</td>\n",
       "      <td>-0.394607</td>\n",
       "      <td>13.197454</td>\n",
       "      <td>2.309000</td>\n",
       "      <td>466.018209</td>\n",
       "      <td>0.311096</td>\n",
       "      <td>1208.817200</td>\n",
       "      <td>0.170271</td>\n",
       "      <td>-1.495334</td>\n",
       "      <td>1481.746006</td>\n",
       "      <td>0.129748</td>\n",
       "      <td>885.219095</td>\n",
       "      <td>0.327115</td>\n",
       "      <td>-1.105450</td>\n",
       "      <td>2469.040134</td>\n",
       "      <td>...</td>\n",
       "      <td>314.939318</td>\n",
       "      <td>35.531743</td>\n",
       "      <td>673.608950</td>\n",
       "      <td>23.844690</td>\n",
       "      <td>647.327806</td>\n",
       "      <td>0.002534</td>\n",
       "      <td>0.312737</td>\n",
       "      <td>0.001761</td>\n",
       "      <td>0.012680</td>\n",
       "      <td>0.061312</td>\n",
       "      <td>0.012500</td>\n",
       "      <td>591.961803</td>\n",
       "      <td>14.797768</td>\n",
       "      <td>0.013479</td>\n",
       "      <td>0.000349</td>\n",
       "      <td>4330.337793</td>\n",
       "      <td>0.000049</td>\n",
       "      <td>0.019668</td>\n",
       "      <td>0.069729</td>\n",
       "      <td>21.824390</td>\n",
       "      <td>0.018730</td>\n",
       "      <td>30.531802</td>\n",
       "      <td>66.268935</td>\n",
       "      <td>268.242701</td>\n",
       "      <td>50.879484</td>\n",
       "      <td>667.047326</td>\n",
       "      <td>22.063426</td>\n",
       "      <td>0.000287</td>\n",
       "      <td>0.000038</td>\n",
       "      <td>2.445959</td>\n",
       "      <td>2.175879</td>\n",
       "      <td>0.027020</td>\n",
       "      <td>0.005952</td>\n",
       "      <td>0.003459</td>\n",
       "      <td>15.198562</td>\n",
       "      <td>-5.607462</td>\n",
       "      <td>-7.435839</td>\n",
       "      <td>1</td>\n",
       "      <td>0.005729</td>\n",
       "      <td>-1.333544</td>\n",
       "    </tr>\n",
       "    <tr>\n",
       "      <th>1</th>\n",
       "      <td>0.177189</td>\n",
       "      <td>0.000472</td>\n",
       "      <td>0.095150</td>\n",
       "      <td>0.250708</td>\n",
       "      <td>0.331609</td>\n",
       "      <td>0.024785</td>\n",
       "      <td>0.118970</td>\n",
       "      <td>0.124259</td>\n",
       "      <td>29.709912</td>\n",
       "      <td>83.734519</td>\n",
       "      <td>74.981479</td>\n",
       "      <td>0.456558</td>\n",
       "      <td>1.495853</td>\n",
       "      <td>0.712600</td>\n",
       "      <td>0.830010</td>\n",
       "      <td>-17.246966</td>\n",
       "      <td>-0.134327</td>\n",
       "      <td>1.108757</td>\n",
       "      <td>-15.705268</td>\n",
       "      <td>0.036286</td>\n",
       "      <td>1.259429</td>\n",
       "      <td>1.129771</td>\n",
       "      <td>0.611353</td>\n",
       "      <td>3.541452</td>\n",
       "      <td>1.525943</td>\n",
       "      <td>3.298607</td>\n",
       "      <td>7.724861</td>\n",
       "      <td>12.541421</td>\n",
       "      <td>0.904145</td>\n",
       "      <td>630.279075</td>\n",
       "      <td>0.397053</td>\n",
       "      <td>1145.179231</td>\n",
       "      <td>0.194081</td>\n",
       "      <td>-1.563537</td>\n",
       "      <td>1642.592616</td>\n",
       "      <td>0.154431</td>\n",
       "      <td>890.112660</td>\n",
       "      <td>0.310175</td>\n",
       "      <td>-1.351307</td>\n",
       "      <td>2603.947617</td>\n",
       "      <td>...</td>\n",
       "      <td>116.194420</td>\n",
       "      <td>27.737827</td>\n",
       "      <td>19514.142836</td>\n",
       "      <td>45.050133</td>\n",
       "      <td>6.150408</td>\n",
       "      <td>0.006607</td>\n",
       "      <td>9.016917</td>\n",
       "      <td>0.002131</td>\n",
       "      <td>0.019419</td>\n",
       "      <td>34.576160</td>\n",
       "      <td>0.015091</td>\n",
       "      <td>1995.585941</td>\n",
       "      <td>27.573449</td>\n",
       "      <td>4.331645</td>\n",
       "      <td>0.001032</td>\n",
       "      <td>4.839315</td>\n",
       "      <td>0.000077</td>\n",
       "      <td>7.919872</td>\n",
       "      <td>0.040509</td>\n",
       "      <td>71.631249</td>\n",
       "      <td>0.293790</td>\n",
       "      <td>94.483504</td>\n",
       "      <td>88.068110</td>\n",
       "      <td>106.725353</td>\n",
       "      <td>114.730813</td>\n",
       "      <td>317.448196</td>\n",
       "      <td>27.561844</td>\n",
       "      <td>0.000710</td>\n",
       "      <td>0.000046</td>\n",
       "      <td>2.845289</td>\n",
       "      <td>1.989588</td>\n",
       "      <td>0.034542</td>\n",
       "      <td>0.007503</td>\n",
       "      <td>0.028266</td>\n",
       "      <td>45.247296</td>\n",
       "      <td>7.410730</td>\n",
       "      <td>3.790181</td>\n",
       "      <td>0</td>\n",
       "      <td>0.009220</td>\n",
       "      <td>-0.094888</td>\n",
       "    </tr>\n",
       "    <tr>\n",
       "      <th>2</th>\n",
       "      <td>0.115742</td>\n",
       "      <td>0.000000</td>\n",
       "      <td>0.137801</td>\n",
       "      <td>0.263019</td>\n",
       "      <td>0.037417</td>\n",
       "      <td>0.339825</td>\n",
       "      <td>0.106073</td>\n",
       "      <td>0.275752</td>\n",
       "      <td>18.481840</td>\n",
       "      <td>181.559340</td>\n",
       "      <td>72.631308</td>\n",
       "      <td>0.540517</td>\n",
       "      <td>0.458841</td>\n",
       "      <td>0.643848</td>\n",
       "      <td>0.935575</td>\n",
       "      <td>-1.649969</td>\n",
       "      <td>-2.258346</td>\n",
       "      <td>0.845352</td>\n",
       "      <td>6.366086</td>\n",
       "      <td>0.063259</td>\n",
       "      <td>1.465828</td>\n",
       "      <td>1.239499</td>\n",
       "      <td>0.697362</td>\n",
       "      <td>2.130906</td>\n",
       "      <td>0.841210</td>\n",
       "      <td>4.815265</td>\n",
       "      <td>3.375334</td>\n",
       "      <td>5.940468</td>\n",
       "      <td>0.730225</td>\n",
       "      <td>516.164432</td>\n",
       "      <td>0.338164</td>\n",
       "      <td>1216.933926</td>\n",
       "      <td>0.183373</td>\n",
       "      <td>-1.239015</td>\n",
       "      <td>1501.733059</td>\n",
       "      <td>0.130719</td>\n",
       "      <td>945.695680</td>\n",
       "      <td>0.372223</td>\n",
       "      <td>-1.079919</td>\n",
       "      <td>2483.643807</td>\n",
       "      <td>...</td>\n",
       "      <td>134.146180</td>\n",
       "      <td>79.061814</td>\n",
       "      <td>1004.521971</td>\n",
       "      <td>64.941061</td>\n",
       "      <td>2338.039777</td>\n",
       "      <td>0.004255</td>\n",
       "      <td>0.119758</td>\n",
       "      <td>0.001619</td>\n",
       "      <td>0.027050</td>\n",
       "      <td>0.062130</td>\n",
       "      <td>0.018597</td>\n",
       "      <td>593.528991</td>\n",
       "      <td>10.604264</td>\n",
       "      <td>0.029514</td>\n",
       "      <td>0.000448</td>\n",
       "      <td>538.120013</td>\n",
       "      <td>0.000015</td>\n",
       "      <td>101.545886</td>\n",
       "      <td>0.072020</td>\n",
       "      <td>17.307621</td>\n",
       "      <td>0.065429</td>\n",
       "      <td>27.194236</td>\n",
       "      <td>61.025339</td>\n",
       "      <td>3.357796</td>\n",
       "      <td>38.976827</td>\n",
       "      <td>24405.887573</td>\n",
       "      <td>24.433860</td>\n",
       "      <td>0.000327</td>\n",
       "      <td>0.000026</td>\n",
       "      <td>6.070183</td>\n",
       "      <td>2.498411</td>\n",
       "      <td>0.035397</td>\n",
       "      <td>0.007867</td>\n",
       "      <td>0.002465</td>\n",
       "      <td>35.774421</td>\n",
       "      <td>-0.510246</td>\n",
       "      <td>-5.735194</td>\n",
       "      <td>1</td>\n",
       "      <td>0.008193</td>\n",
       "      <td>-0.576806</td>\n",
       "    </tr>\n",
       "    <tr>\n",
       "      <th>3</th>\n",
       "      <td>0.177156</td>\n",
       "      <td>0.006881</td>\n",
       "      <td>0.109358</td>\n",
       "      <td>0.168853</td>\n",
       "      <td>0.232248</td>\n",
       "      <td>0.029725</td>\n",
       "      <td>0.274174</td>\n",
       "      <td>0.192860</td>\n",
       "      <td>26.638773</td>\n",
       "      <td>145.344093</td>\n",
       "      <td>95.990228</td>\n",
       "      <td>0.532370</td>\n",
       "      <td>0.988789</td>\n",
       "      <td>0.779298</td>\n",
       "      <td>0.428023</td>\n",
       "      <td>3.616044</td>\n",
       "      <td>0.601966</td>\n",
       "      <td>1.709691</td>\n",
       "      <td>-5.684554</td>\n",
       "      <td>0.059627</td>\n",
       "      <td>1.557857</td>\n",
       "      <td>1.286238</td>\n",
       "      <td>0.782582</td>\n",
       "      <td>4.823934</td>\n",
       "      <td>0.731528</td>\n",
       "      <td>2.336640</td>\n",
       "      <td>6.374024</td>\n",
       "      <td>22.416657</td>\n",
       "      <td>0.891678</td>\n",
       "      <td>634.714553</td>\n",
       "      <td>0.297676</td>\n",
       "      <td>1349.401862</td>\n",
       "      <td>0.167645</td>\n",
       "      <td>-2.152143</td>\n",
       "      <td>1651.481471</td>\n",
       "      <td>0.156071</td>\n",
       "      <td>1023.068404</td>\n",
       "      <td>0.304145</td>\n",
       "      <td>-1.243855</td>\n",
       "      <td>2654.670475</td>\n",
       "      <td>...</td>\n",
       "      <td>19.644871</td>\n",
       "      <td>45.341497</td>\n",
       "      <td>1489.683142</td>\n",
       "      <td>82.807454</td>\n",
       "      <td>11.284526</td>\n",
       "      <td>0.001772</td>\n",
       "      <td>3.498454</td>\n",
       "      <td>0.001056</td>\n",
       "      <td>0.007874</td>\n",
       "      <td>0.133547</td>\n",
       "      <td>0.011344</td>\n",
       "      <td>696.710070</td>\n",
       "      <td>19.157211</td>\n",
       "      <td>0.005736</td>\n",
       "      <td>0.001479</td>\n",
       "      <td>39.506592</td>\n",
       "      <td>0.000084</td>\n",
       "      <td>3.924954</td>\n",
       "      <td>0.039720</td>\n",
       "      <td>30.749190</td>\n",
       "      <td>0.012537</td>\n",
       "      <td>52.456809</td>\n",
       "      <td>93.016479</td>\n",
       "      <td>10369.125230</td>\n",
       "      <td>53.160967</td>\n",
       "      <td>91.814299</td>\n",
       "      <td>29.058963</td>\n",
       "      <td>0.001489</td>\n",
       "      <td>0.000106</td>\n",
       "      <td>1.901166</td>\n",
       "      <td>1.225588</td>\n",
       "      <td>0.050491</td>\n",
       "      <td>0.009857</td>\n",
       "      <td>0.006159</td>\n",
       "      <td>29.074474</td>\n",
       "      <td>-2.888440</td>\n",
       "      <td>-2.934767</td>\n",
       "      <td>1</td>\n",
       "      <td>0.007728</td>\n",
       "      <td>-2.053368</td>\n",
       "    </tr>\n",
       "    <tr>\n",
       "      <th>4</th>\n",
       "      <td>0.158447</td>\n",
       "      <td>0.000590</td>\n",
       "      <td>0.020714</td>\n",
       "      <td>0.365590</td>\n",
       "      <td>0.038323</td>\n",
       "      <td>0.030652</td>\n",
       "      <td>0.383696</td>\n",
       "      <td>0.137911</td>\n",
       "      <td>23.118855</td>\n",
       "      <td>121.341167</td>\n",
       "      <td>66.729726</td>\n",
       "      <td>0.673899</td>\n",
       "      <td>0.759174</td>\n",
       "      <td>0.864382</td>\n",
       "      <td>1.423386</td>\n",
       "      <td>8.445526</td>\n",
       "      <td>2.653195</td>\n",
       "      <td>1.757676</td>\n",
       "      <td>8.542043</td>\n",
       "      <td>0.048158</td>\n",
       "      <td>1.222966</td>\n",
       "      <td>1.475107</td>\n",
       "      <td>0.686861</td>\n",
       "      <td>2.545809</td>\n",
       "      <td>2.824291</td>\n",
       "      <td>3.358369</td>\n",
       "      <td>-0.075260</td>\n",
       "      <td>22.860112</td>\n",
       "      <td>0.585967</td>\n",
       "      <td>468.216530</td>\n",
       "      <td>0.334487</td>\n",
       "      <td>1189.495644</td>\n",
       "      <td>0.182739</td>\n",
       "      <td>-1.841310</td>\n",
       "      <td>1446.412363</td>\n",
       "      <td>0.155694</td>\n",
       "      <td>916.795392</td>\n",
       "      <td>0.296355</td>\n",
       "      <td>-1.091468</td>\n",
       "      <td>2414.358288</td>\n",
       "      <td>...</td>\n",
       "      <td>390.007969</td>\n",
       "      <td>32.354067</td>\n",
       "      <td>11834.109301</td>\n",
       "      <td>92.718242</td>\n",
       "      <td>1.278245</td>\n",
       "      <td>0.005407</td>\n",
       "      <td>9.183439</td>\n",
       "      <td>0.002187</td>\n",
       "      <td>0.017096</td>\n",
       "      <td>0.186428</td>\n",
       "      <td>0.015823</td>\n",
       "      <td>1892.995069</td>\n",
       "      <td>34.604239</td>\n",
       "      <td>0.086613</td>\n",
       "      <td>0.000398</td>\n",
       "      <td>1.621524</td>\n",
       "      <td>0.000069</td>\n",
       "      <td>2.654020</td>\n",
       "      <td>0.036859</td>\n",
       "      <td>69.977262</td>\n",
       "      <td>0.322486</td>\n",
       "      <td>65.670479</td>\n",
       "      <td>124.016950</td>\n",
       "      <td>974.769019</td>\n",
       "      <td>86.327839</td>\n",
       "      <td>3755.481462</td>\n",
       "      <td>50.564212</td>\n",
       "      <td>0.000399</td>\n",
       "      <td>0.000069</td>\n",
       "      <td>2.504805</td>\n",
       "      <td>1.520078</td>\n",
       "      <td>0.040294</td>\n",
       "      <td>0.009421</td>\n",
       "      <td>0.035145</td>\n",
       "      <td>58.733451</td>\n",
       "      <td>7.362895</td>\n",
       "      <td>-5.830452</td>\n",
       "      <td>1</td>\n",
       "      <td>0.003698</td>\n",
       "      <td>-1.316782</td>\n",
       "    </tr>\n",
       "  </tbody>\n",
       "</table>\n",
       "<p>5 rows × 197 columns</p>\n",
       "</div>"
      ],
      "text/plain": [
       "   emotion_angry_mean  emotion_disgust_mean  ...    slope2  happiness\n",
       "0            0.155693              0.000225  ...  0.005729  -1.333544\n",
       "1            0.177189              0.000472  ...  0.009220  -0.094888\n",
       "2            0.115742              0.000000  ...  0.008193  -0.576806\n",
       "3            0.177156              0.006881  ...  0.007728  -2.053368\n",
       "4            0.158447              0.000590  ...  0.003698  -1.316782\n",
       "\n",
       "[5 rows x 197 columns]"
      ]
     },
     "execution_count": 156,
     "metadata": {
      "tags": []
     },
     "output_type": "execute_result"
    }
   ],
   "source": [
    "X_test.head(5)"
   ]
  },
  {
   "cell_type": "markdown",
   "metadata": {
    "id": "inlN8O-k_t3E"
   },
   "source": [
    "- Yeo-johnson Transformation"
   ]
  },
  {
   "cell_type": "code",
   "execution_count": 157,
   "metadata": {
    "id": "PgIUm3czAUEr"
   },
   "outputs": [],
   "source": [
    "from sklearn.preprocessing import MinMaxScaler\n",
    "from sklearn.preprocessing import PowerTransformer\n",
    "from sklearn.pipeline import Pipeline"
   ]
  },
  {
   "cell_type": "code",
   "execution_count": 158,
   "metadata": {
    "id": "Q07s9Ac1Aswn"
   },
   "outputs": [],
   "source": [
    "data = pd.concat([X_train,X_test])\n",
    "pt = PowerTransformer()\n",
    "data_s = pt.fit_transform(data)\n",
    "data_s = pd.DataFrame(data_s)"
   ]
  },
  {
   "cell_type": "code",
   "execution_count": 159,
   "metadata": {
    "id": "hFVHsHJCBxCc"
   },
   "outputs": [],
   "source": [
    "data_s.columns = data.columns\n",
    "Xs_train = data_s.iloc[:405,:]\n",
    "Xs_test = data_s.iloc[405:,:]\n",
    "Xs_test = Xs_test.reset_index(drop = True)"
   ]
  },
  {
   "cell_type": "code",
   "execution_count": 160,
   "metadata": {
    "colab": {
     "base_uri": "https://localhost:8080/",
     "height": 363
    },
    "id": "oi6BEbuUE7y-",
    "outputId": "1d411baa-7811-4b53-8987-457883b403ae"
   },
   "outputs": [
    {
     "data": {
      "text/html": [
       "<div>\n",
       "<style scoped>\n",
       "    .dataframe tbody tr th:only-of-type {\n",
       "        vertical-align: middle;\n",
       "    }\n",
       "\n",
       "    .dataframe tbody tr th {\n",
       "        vertical-align: top;\n",
       "    }\n",
       "\n",
       "    .dataframe thead th {\n",
       "        text-align: right;\n",
       "    }\n",
       "</style>\n",
       "<table border=\"1\" class=\"dataframe\">\n",
       "  <thead>\n",
       "    <tr style=\"text-align: right;\">\n",
       "      <th></th>\n",
       "      <th>emotion_angry_mean</th>\n",
       "      <th>emotion_disgust_mean</th>\n",
       "      <th>emotion_fear_mean</th>\n",
       "      <th>emotion_happy_mean</th>\n",
       "      <th>emotion_sad_mean</th>\n",
       "      <th>emotion_surprise_mean</th>\n",
       "      <th>emotion_neutral_mean</th>\n",
       "      <th>F0semitoneFrom27.5Hz_sma3nz_stddevNorm_mean</th>\n",
       "      <th>F0semitoneFrom27.5Hz_sma3nz_percentile20.0_mean</th>\n",
       "      <th>F0semitoneFrom27.5Hz_sma3nz_stddevRisingSlope_mean</th>\n",
       "      <th>F0semitoneFrom27.5Hz_sma3nz_meanFallingSlope_mean</th>\n",
       "      <th>loudness_sma3_stddevNorm_mean</th>\n",
       "      <th>loudness_sma3_pctlrange0-2_mean</th>\n",
       "      <th>spectralFlux_sma3_stddevNorm_mean</th>\n",
       "      <th>mfcc1_sma3_stddevNorm_mean</th>\n",
       "      <th>mfcc2_sma3_amean_mean</th>\n",
       "      <th>mfcc2_sma3_stddevNorm_mean</th>\n",
       "      <th>mfcc3_sma3_stddevNorm_mean</th>\n",
       "      <th>mfcc4_sma3_amean_mean</th>\n",
       "      <th>jitterLocal_sma3nz_amean_mean</th>\n",
       "      <th>jitterLocal_sma3nz_stddevNorm_mean</th>\n",
       "      <th>shimmerLocaldB_sma3nz_amean_mean</th>\n",
       "      <th>shimmerLocaldB_sma3nz_stddevNorm_mean</th>\n",
       "      <th>HNRdBACF_sma3nz_amean_mean</th>\n",
       "      <th>HNRdBACF_sma3nz_stddevNorm_mean</th>\n",
       "      <th>logRelF0-H1-H2_sma3nz_amean_mean</th>\n",
       "      <th>logRelF0-H1-H2_sma3nz_stddevNorm_mean</th>\n",
       "      <th>logRelF0-H1-A3_sma3nz_amean_mean</th>\n",
       "      <th>logRelF0-H1-A3_sma3nz_stddevNorm_mean</th>\n",
       "      <th>F1frequency_sma3nz_amean_mean</th>\n",
       "      <th>F1frequency_sma3nz_stddevNorm_mean</th>\n",
       "      <th>F1bandwidth_sma3nz_amean_mean</th>\n",
       "      <th>F1bandwidth_sma3nz_stddevNorm_mean</th>\n",
       "      <th>F1amplitudeLogRelF0_sma3nz_stddevNorm_mean</th>\n",
       "      <th>F2frequency_sma3nz_amean_mean</th>\n",
       "      <th>F2frequency_sma3nz_stddevNorm_mean</th>\n",
       "      <th>F2bandwidth_sma3nz_amean_mean</th>\n",
       "      <th>F2bandwidth_sma3nz_stddevNorm_mean</th>\n",
       "      <th>F2amplitudeLogRelF0_sma3nz_stddevNorm_mean</th>\n",
       "      <th>F3frequency_sma3nz_amean_mean</th>\n",
       "      <th>...</th>\n",
       "      <th>HNRdBACF_sma3nz_amean_max</th>\n",
       "      <th>HNRdBACF_sma3nz_stddevNorm_max</th>\n",
       "      <th>logRelF0-H1-H2_sma3nz_amean_max</th>\n",
       "      <th>logRelF0-H1-H2_sma3nz_stddevNorm_max</th>\n",
       "      <th>logRelF0-H1-A3_sma3nz_amean_max</th>\n",
       "      <th>logRelF0-H1-A3_sma3nz_stddevNorm_max</th>\n",
       "      <th>F1bandwidth_sma3nz_stddevNorm_max</th>\n",
       "      <th>F1amplitudeLogRelF0_sma3nz_stddevNorm_max</th>\n",
       "      <th>F2frequency_sma3nz_stddevNorm_max</th>\n",
       "      <th>F2bandwidth_sma3nz_stddevNorm_max</th>\n",
       "      <th>F2amplitudeLogRelF0_sma3nz_stddevNorm_max</th>\n",
       "      <th>F3bandwidth_sma3nz_stddevNorm_max</th>\n",
       "      <th>F3amplitudeLogRelF0_sma3nz_amean_max</th>\n",
       "      <th>hammarbergIndexV_sma3nz_amean_max</th>\n",
       "      <th>hammarbergIndexV_sma3nz_stddevNorm_max</th>\n",
       "      <th>slopeV0-500_sma3nz_amean_max</th>\n",
       "      <th>slopeV0-500_sma3nz_stddevNorm_max</th>\n",
       "      <th>slopeV500-1500_sma3nz_amean_max</th>\n",
       "      <th>slopeV500-1500_sma3nz_stddevNorm_max</th>\n",
       "      <th>spectralFluxV_sma3nz_stddevNorm_max</th>\n",
       "      <th>mfcc1V_sma3nz_amean_max</th>\n",
       "      <th>mfcc1V_sma3nz_stddevNorm_max</th>\n",
       "      <th>mfcc2V_sma3nz_amean_max</th>\n",
       "      <th>mfcc3V_sma3nz_amean_max</th>\n",
       "      <th>mfcc3V_sma3nz_stddevNorm_max</th>\n",
       "      <th>mfcc4V_sma3nz_amean_max</th>\n",
       "      <th>mfcc4V_sma3nz_stddevNorm_max</th>\n",
       "      <th>alphaRatioUV_sma3nz_amean_max</th>\n",
       "      <th>slopeUV0-500_sma3nz_amean_max</th>\n",
       "      <th>slopeUV500-1500_sma3nz_amean_max</th>\n",
       "      <th>loudnessPeaksPerSec_max</th>\n",
       "      <th>VoicedSegmentsPerSec_max</th>\n",
       "      <th>MeanVoicedSegmentLengthSec_max</th>\n",
       "      <th>StddevVoicedSegmentLengthSec_max</th>\n",
       "      <th>MeanUnvoicedSegmentLength_max</th>\n",
       "      <th>equivalentSoundLevel_dBp_max</th>\n",
       "      <th>PC1</th>\n",
       "      <th>PC2</th>\n",
       "      <th>slope2</th>\n",
       "      <th>happiness</th>\n",
       "    </tr>\n",
       "  </thead>\n",
       "  <tbody>\n",
       "    <tr>\n",
       "      <th>count</th>\n",
       "      <td>405.000000</td>\n",
       "      <td>405.000000</td>\n",
       "      <td>405.000000</td>\n",
       "      <td>405.000000</td>\n",
       "      <td>405.000000</td>\n",
       "      <td>405.000000</td>\n",
       "      <td>405.000000</td>\n",
       "      <td>405.000000</td>\n",
       "      <td>405.000000</td>\n",
       "      <td>405.000000</td>\n",
       "      <td>405.000000</td>\n",
       "      <td>405.000000</td>\n",
       "      <td>405.000000</td>\n",
       "      <td>405.000000</td>\n",
       "      <td>405.000000</td>\n",
       "      <td>405.000000</td>\n",
       "      <td>405.000000</td>\n",
       "      <td>405.000000</td>\n",
       "      <td>405.000000</td>\n",
       "      <td>405.000000</td>\n",
       "      <td>405.000000</td>\n",
       "      <td>405.000000</td>\n",
       "      <td>405.000000</td>\n",
       "      <td>405.000000</td>\n",
       "      <td>405.000000</td>\n",
       "      <td>405.000000</td>\n",
       "      <td>405.000000</td>\n",
       "      <td>405.000000</td>\n",
       "      <td>405.000000</td>\n",
       "      <td>405.000000</td>\n",
       "      <td>405.000000</td>\n",
       "      <td>405.000000</td>\n",
       "      <td>405.000000</td>\n",
       "      <td>405.000000</td>\n",
       "      <td>405.000000</td>\n",
       "      <td>405.000000</td>\n",
       "      <td>405.000000</td>\n",
       "      <td>405.000000</td>\n",
       "      <td>405.000000</td>\n",
       "      <td>405.000000</td>\n",
       "      <td>...</td>\n",
       "      <td>405.000000</td>\n",
       "      <td>4.050000e+02</td>\n",
       "      <td>405.000000</td>\n",
       "      <td>4.050000e+02</td>\n",
       "      <td>405.000000</td>\n",
       "      <td>4.050000e+02</td>\n",
       "      <td>405.000000</td>\n",
       "      <td>405.000000</td>\n",
       "      <td>405.000000</td>\n",
       "      <td>405.000000</td>\n",
       "      <td>405.000000</td>\n",
       "      <td>405.000000</td>\n",
       "      <td>405.000000</td>\n",
       "      <td>405.000000</td>\n",
       "      <td>405.000000</td>\n",
       "      <td>405.000000</td>\n",
       "      <td>4.050000e+02</td>\n",
       "      <td>405.000000</td>\n",
       "      <td>4.050000e+02</td>\n",
       "      <td>405.000000</td>\n",
       "      <td>405.000000</td>\n",
       "      <td>405.000000</td>\n",
       "      <td>405.000000</td>\n",
       "      <td>405.000000</td>\n",
       "      <td>4.050000e+02</td>\n",
       "      <td>405.000000</td>\n",
       "      <td>4.050000e+02</td>\n",
       "      <td>405.000000</td>\n",
       "      <td>405.000000</td>\n",
       "      <td>405.000000</td>\n",
       "      <td>405.000000</td>\n",
       "      <td>405.000000</td>\n",
       "      <td>405.000000</td>\n",
       "      <td>405.000000</td>\n",
       "      <td>405.000000</td>\n",
       "      <td>405.000000</td>\n",
       "      <td>405.000000</td>\n",
       "      <td>405.000000</td>\n",
       "      <td>405.000000</td>\n",
       "      <td>405.000000</td>\n",
       "    </tr>\n",
       "    <tr>\n",
       "      <th>mean</th>\n",
       "      <td>0.128547</td>\n",
       "      <td>0.001497</td>\n",
       "      <td>0.103264</td>\n",
       "      <td>0.254882</td>\n",
       "      <td>0.168895</td>\n",
       "      <td>0.049551</td>\n",
       "      <td>0.292277</td>\n",
       "      <td>0.198189</td>\n",
       "      <td>25.019881</td>\n",
       "      <td>132.711805</td>\n",
       "      <td>90.526609</td>\n",
       "      <td>0.515119</td>\n",
       "      <td>1.075586</td>\n",
       "      <td>0.695642</td>\n",
       "      <td>0.179616</td>\n",
       "      <td>-1.317826</td>\n",
       "      <td>-1.443551</td>\n",
       "      <td>6.442474</td>\n",
       "      <td>-4.798155</td>\n",
       "      <td>0.056249</td>\n",
       "      <td>1.386572</td>\n",
       "      <td>1.333257</td>\n",
       "      <td>0.607500</td>\n",
       "      <td>2.699270</td>\n",
       "      <td>0.822490</td>\n",
       "      <td>4.339187</td>\n",
       "      <td>1.164703</td>\n",
       "      <td>16.052198</td>\n",
       "      <td>0.996093</td>\n",
       "      <td>576.778291</td>\n",
       "      <td>0.353279</td>\n",
       "      <td>1228.934690</td>\n",
       "      <td>0.183030</td>\n",
       "      <td>-1.768927</td>\n",
       "      <td>1587.112441</td>\n",
       "      <td>0.149352</td>\n",
       "      <td>955.193157</td>\n",
       "      <td>0.332588</td>\n",
       "      <td>-1.229521</td>\n",
       "      <td>2591.719025</td>\n",
       "      <td>...</td>\n",
       "      <td>9.877021</td>\n",
       "      <td>2.650099e+04</td>\n",
       "      <td>52.985414</td>\n",
       "      <td>2.269868e+06</td>\n",
       "      <td>54.671036</td>\n",
       "      <td>1.920576e+04</td>\n",
       "      <td>0.004130</td>\n",
       "      <td>2466.998489</td>\n",
       "      <td>0.001562</td>\n",
       "      <td>0.016716</td>\n",
       "      <td>56.391881</td>\n",
       "      <td>0.017861</td>\n",
       "      <td>1097.405498</td>\n",
       "      <td>30.638778</td>\n",
       "      <td>117.956872</td>\n",
       "      <td>0.001032</td>\n",
       "      <td>1.116691e+05</td>\n",
       "      <td>0.000064</td>\n",
       "      <td>3.497660e+05</td>\n",
       "      <td>0.048210</td>\n",
       "      <td>44.106745</td>\n",
       "      <td>34.954580</td>\n",
       "      <td>78.426519</td>\n",
       "      <td>81.701834</td>\n",
       "      <td>1.250298e+07</td>\n",
       "      <td>80.449147</td>\n",
       "      <td>6.912109e+06</td>\n",
       "      <td>40.260267</td>\n",
       "      <td>0.001047</td>\n",
       "      <td>0.000085</td>\n",
       "      <td>2.904168</td>\n",
       "      <td>1.808104</td>\n",
       "      <td>0.056687</td>\n",
       "      <td>0.009502</td>\n",
       "      <td>0.014898</td>\n",
       "      <td>33.312747</td>\n",
       "      <td>0.103547</td>\n",
       "      <td>0.158017</td>\n",
       "      <td>0.010704</td>\n",
       "      <td>-1.583779</td>\n",
       "    </tr>\n",
       "    <tr>\n",
       "      <th>std</th>\n",
       "      <td>0.076677</td>\n",
       "      <td>0.003867</td>\n",
       "      <td>0.062884</td>\n",
       "      <td>0.158745</td>\n",
       "      <td>0.086977</td>\n",
       "      <td>0.039873</td>\n",
       "      <td>0.140812</td>\n",
       "      <td>0.055253</td>\n",
       "      <td>4.775517</td>\n",
       "      <td>39.985235</td>\n",
       "      <td>24.290539</td>\n",
       "      <td>0.110603</td>\n",
       "      <td>0.476578</td>\n",
       "      <td>0.140892</td>\n",
       "      <td>5.327236</td>\n",
       "      <td>7.018372</td>\n",
       "      <td>38.201007</td>\n",
       "      <td>101.258312</td>\n",
       "      <td>7.033655</td>\n",
       "      <td>0.015620</td>\n",
       "      <td>0.174292</td>\n",
       "      <td>0.131909</td>\n",
       "      <td>0.073875</td>\n",
       "      <td>1.937088</td>\n",
       "      <td>6.813599</td>\n",
       "      <td>2.766100</td>\n",
       "      <td>49.323964</td>\n",
       "      <td>4.599787</td>\n",
       "      <td>5.590764</td>\n",
       "      <td>58.903524</td>\n",
       "      <td>0.043901</td>\n",
       "      <td>89.025804</td>\n",
       "      <td>0.027474</td>\n",
       "      <td>2.382971</td>\n",
       "      <td>72.252093</td>\n",
       "      <td>0.014250</td>\n",
       "      <td>84.852094</td>\n",
       "      <td>0.055323</td>\n",
       "      <td>0.404445</td>\n",
       "      <td>95.330852</td>\n",
       "      <td>...</td>\n",
       "      <td>5.025860</td>\n",
       "      <td>1.843341e+05</td>\n",
       "      <td>42.427851</td>\n",
       "      <td>4.186051e+07</td>\n",
       "      <td>36.816845</td>\n",
       "      <td>1.868606e+05</td>\n",
       "      <td>0.003391</td>\n",
       "      <td>25420.414173</td>\n",
       "      <td>0.000872</td>\n",
       "      <td>0.006711</td>\n",
       "      <td>421.204301</td>\n",
       "      <td>0.006122</td>\n",
       "      <td>737.167116</td>\n",
       "      <td>19.462891</td>\n",
       "      <td>2182.840358</td>\n",
       "      <td>0.000772</td>\n",
       "      <td>1.306937e+06</td>\n",
       "      <td>0.000031</td>\n",
       "      <td>4.346590e+06</td>\n",
       "      <td>0.026581</td>\n",
       "      <td>30.909059</td>\n",
       "      <td>334.885206</td>\n",
       "      <td>38.512178</td>\n",
       "      <td>28.551729</td>\n",
       "      <td>2.392653e+08</td>\n",
       "      <td>35.293076</td>\n",
       "      <td>1.342187e+08</td>\n",
       "      <td>21.798274</td>\n",
       "      <td>0.000659</td>\n",
       "      <td>0.000041</td>\n",
       "      <td>1.509635</td>\n",
       "      <td>0.544651</td>\n",
       "      <td>0.019853</td>\n",
       "      <td>0.002324</td>\n",
       "      <td>0.020822</td>\n",
       "      <td>43.882495</td>\n",
       "      <td>8.378131</td>\n",
       "      <td>5.833025</td>\n",
       "      <td>0.007478</td>\n",
       "      <td>1.287467</td>\n",
       "    </tr>\n",
       "    <tr>\n",
       "      <th>min</th>\n",
       "      <td>0.016640</td>\n",
       "      <td>0.000000</td>\n",
       "      <td>0.006478</td>\n",
       "      <td>0.004862</td>\n",
       "      <td>0.013841</td>\n",
       "      <td>0.000071</td>\n",
       "      <td>0.030691</td>\n",
       "      <td>0.069653</td>\n",
       "      <td>13.466307</td>\n",
       "      <td>42.137875</td>\n",
       "      <td>29.690461</td>\n",
       "      <td>0.197779</td>\n",
       "      <td>0.142941</td>\n",
       "      <td>0.391141</td>\n",
       "      <td>-97.272838</td>\n",
       "      <td>-32.282238</td>\n",
       "      <td>-697.784912</td>\n",
       "      <td>-80.022273</td>\n",
       "      <td>-25.499121</td>\n",
       "      <td>0.020608</td>\n",
       "      <td>0.388237</td>\n",
       "      <td>0.816814</td>\n",
       "      <td>0.297441</td>\n",
       "      <td>-2.620791</td>\n",
       "      <td>-58.793780</td>\n",
       "      <td>-12.209143</td>\n",
       "      <td>-258.899473</td>\n",
       "      <td>-9.167773</td>\n",
       "      <td>-69.947299</td>\n",
       "      <td>405.770429</td>\n",
       "      <td>0.213198</td>\n",
       "      <td>790.595708</td>\n",
       "      <td>0.121981</td>\n",
       "      <td>-32.297664</td>\n",
       "      <td>1190.050448</td>\n",
       "      <td>0.084982</td>\n",
       "      <td>660.255577</td>\n",
       "      <td>0.144468</td>\n",
       "      <td>-5.579901</td>\n",
       "      <td>1922.325196</td>\n",
       "      <td>...</td>\n",
       "      <td>1.145684</td>\n",
       "      <td>1.163313e-01</td>\n",
       "      <td>7.959506</td>\n",
       "      <td>8.247988e+00</td>\n",
       "      <td>13.996812</td>\n",
       "      <td>1.227730e-02</td>\n",
       "      <td>0.000938</td>\n",
       "      <td>0.039906</td>\n",
       "      <td>0.000556</td>\n",
       "      <td>0.004695</td>\n",
       "      <td>0.031240</td>\n",
       "      <td>0.007144</td>\n",
       "      <td>33.841625</td>\n",
       "      <td>6.992652</td>\n",
       "      <td>0.003859</td>\n",
       "      <td>0.000124</td>\n",
       "      <td>1.840529e-03</td>\n",
       "      <td>0.000011</td>\n",
       "      <td>5.852706e-03</td>\n",
       "      <td>0.010409</td>\n",
       "      <td>7.652279</td>\n",
       "      <td>0.003210</td>\n",
       "      <td>10.752462</td>\n",
       "      <td>24.707503</td>\n",
       "      <td>1.911515e-02</td>\n",
       "      <td>20.239515</td>\n",
       "      <td>8.053068e-02</td>\n",
       "      <td>4.960084</td>\n",
       "      <td>0.000101</td>\n",
       "      <td>0.000017</td>\n",
       "      <td>1.295885</td>\n",
       "      <td>0.279132</td>\n",
       "      <td>0.009075</td>\n",
       "      <td>0.002254</td>\n",
       "      <td>0.000186</td>\n",
       "      <td>2.464138</td>\n",
       "      <td>-13.523465</td>\n",
       "      <td>-10.996418</td>\n",
       "      <td>0.000000</td>\n",
       "      <td>-6.684968</td>\n",
       "    </tr>\n",
       "    <tr>\n",
       "      <th>25%</th>\n",
       "      <td>0.075787</td>\n",
       "      <td>0.000274</td>\n",
       "      <td>0.060436</td>\n",
       "      <td>0.129078</td>\n",
       "      <td>0.109232</td>\n",
       "      <td>0.021841</td>\n",
       "      <td>0.191642</td>\n",
       "      <td>0.160546</td>\n",
       "      <td>21.451660</td>\n",
       "      <td>102.541023</td>\n",
       "      <td>74.543215</td>\n",
       "      <td>0.445072</td>\n",
       "      <td>0.717872</td>\n",
       "      <td>0.599501</td>\n",
       "      <td>0.359802</td>\n",
       "      <td>-5.835649</td>\n",
       "      <td>-1.834861</td>\n",
       "      <td>0.293985</td>\n",
       "      <td>-9.349500</td>\n",
       "      <td>0.045064</td>\n",
       "      <td>1.303172</td>\n",
       "      <td>1.257504</td>\n",
       "      <td>0.562940</td>\n",
       "      <td>1.620964</td>\n",
       "      <td>-0.179840</td>\n",
       "      <td>2.909263</td>\n",
       "      <td>-0.606453</td>\n",
       "      <td>13.607188</td>\n",
       "      <td>0.548128</td>\n",
       "      <td>539.497289</td>\n",
       "      <td>0.328147</td>\n",
       "      <td>1189.662240</td>\n",
       "      <td>0.164296</td>\n",
       "      <td>-1.858983</td>\n",
       "      <td>1548.349735</td>\n",
       "      <td>0.140704</td>\n",
       "      <td>907.910425</td>\n",
       "      <td>0.294165</td>\n",
       "      <td>-1.348271</td>\n",
       "      <td>2557.153202</td>\n",
       "      <td>...</td>\n",
       "      <td>6.254211</td>\n",
       "      <td>1.166230e+02</td>\n",
       "      <td>30.279127</td>\n",
       "      <td>5.932005e+02</td>\n",
       "      <td>33.269996</td>\n",
       "      <td>4.248360e+00</td>\n",
       "      <td>0.002213</td>\n",
       "      <td>1.359950</td>\n",
       "      <td>0.001091</td>\n",
       "      <td>0.012287</td>\n",
       "      <td>0.148983</td>\n",
       "      <td>0.013841</td>\n",
       "      <td>609.190351</td>\n",
       "      <td>17.811556</td>\n",
       "      <td>0.014742</td>\n",
       "      <td>0.000448</td>\n",
       "      <td>6.141625e+00</td>\n",
       "      <td>0.000043</td>\n",
       "      <td>4.532142e-01</td>\n",
       "      <td>0.032006</td>\n",
       "      <td>24.179080</td>\n",
       "      <td>0.017949</td>\n",
       "      <td>51.026698</td>\n",
       "      <td>62.936456</td>\n",
       "      <td>7.773590e+01</td>\n",
       "      <td>54.621434</td>\n",
       "      <td>1.187571e+02</td>\n",
       "      <td>24.614069</td>\n",
       "      <td>0.000571</td>\n",
       "      <td>0.000058</td>\n",
       "      <td>2.124013</td>\n",
       "      <td>1.462158</td>\n",
       "      <td>0.042776</td>\n",
       "      <td>0.007832</td>\n",
       "      <td>0.003147</td>\n",
       "      <td>12.861749</td>\n",
       "      <td>-5.187605</td>\n",
       "      <td>-4.209582</td>\n",
       "      <td>0.004274</td>\n",
       "      <td>-2.215440</td>\n",
       "    </tr>\n",
       "    <tr>\n",
       "      <th>50%</th>\n",
       "      <td>0.107647</td>\n",
       "      <td>0.000730</td>\n",
       "      <td>0.093147</td>\n",
       "      <td>0.218791</td>\n",
       "      <td>0.156738</td>\n",
       "      <td>0.040356</td>\n",
       "      <td>0.258004</td>\n",
       "      <td>0.195586</td>\n",
       "      <td>24.918786</td>\n",
       "      <td>131.421016</td>\n",
       "      <td>88.818755</td>\n",
       "      <td>0.501577</td>\n",
       "      <td>1.066757</td>\n",
       "      <td>0.682408</td>\n",
       "      <td>0.444431</td>\n",
       "      <td>-1.033634</td>\n",
       "      <td>-0.372658</td>\n",
       "      <td>0.942835</td>\n",
       "      <td>-5.067417</td>\n",
       "      <td>0.054858</td>\n",
       "      <td>1.405576</td>\n",
       "      <td>1.322286</td>\n",
       "      <td>0.602778</td>\n",
       "      <td>2.730740</td>\n",
       "      <td>0.854364</td>\n",
       "      <td>4.496309</td>\n",
       "      <td>1.036012</td>\n",
       "      <td>16.097804</td>\n",
       "      <td>0.776286</td>\n",
       "      <td>574.351794</td>\n",
       "      <td>0.352366</td>\n",
       "      <td>1246.633750</td>\n",
       "      <td>0.177711</td>\n",
       "      <td>-1.511144</td>\n",
       "      <td>1587.105815</td>\n",
       "      <td>0.148716</td>\n",
       "      <td>965.712732</td>\n",
       "      <td>0.331666</td>\n",
       "      <td>-1.187901</td>\n",
       "      <td>2596.888207</td>\n",
       "      <td>...</td>\n",
       "      <td>9.015646</td>\n",
       "      <td>5.816170e+02</td>\n",
       "      <td>41.888598</td>\n",
       "      <td>1.861915e+03</td>\n",
       "      <td>44.433077</td>\n",
       "      <td>2.298835e+01</td>\n",
       "      <td>0.003174</td>\n",
       "      <td>8.195596</td>\n",
       "      <td>0.001332</td>\n",
       "      <td>0.015902</td>\n",
       "      <td>0.295730</td>\n",
       "      <td>0.016783</td>\n",
       "      <td>895.583604</td>\n",
       "      <td>25.411433</td>\n",
       "      <td>0.028196</td>\n",
       "      <td>0.000829</td>\n",
       "      <td>1.027773e+02</td>\n",
       "      <td>0.000056</td>\n",
       "      <td>7.112611e+00</td>\n",
       "      <td>0.042990</td>\n",
       "      <td>35.524960</td>\n",
       "      <td>0.045976</td>\n",
       "      <td>69.257007</td>\n",
       "      <td>78.732409</td>\n",
       "      <td>4.338688e+02</td>\n",
       "      <td>73.695404</td>\n",
       "      <td>5.956219e+02</td>\n",
       "      <td>34.765068</td>\n",
       "      <td>0.000924</td>\n",
       "      <td>0.000077</td>\n",
       "      <td>2.546136</td>\n",
       "      <td>1.731777</td>\n",
       "      <td>0.055857</td>\n",
       "      <td>0.009412</td>\n",
       "      <td>0.006410</td>\n",
       "      <td>22.113732</td>\n",
       "      <td>-1.112148</td>\n",
       "      <td>-0.786349</td>\n",
       "      <td>0.010555</td>\n",
       "      <td>-1.322156</td>\n",
       "    </tr>\n",
       "    <tr>\n",
       "      <th>75%</th>\n",
       "      <td>0.156998</td>\n",
       "      <td>0.001495</td>\n",
       "      <td>0.131392</td>\n",
       "      <td>0.366490</td>\n",
       "      <td>0.205958</td>\n",
       "      <td>0.065098</td>\n",
       "      <td>0.373710</td>\n",
       "      <td>0.236212</td>\n",
       "      <td>28.494555</td>\n",
       "      <td>159.050950</td>\n",
       "      <td>104.949380</td>\n",
       "      <td>0.574277</td>\n",
       "      <td>1.413690</td>\n",
       "      <td>0.778361</td>\n",
       "      <td>0.594927</td>\n",
       "      <td>3.441300</td>\n",
       "      <td>1.462789</td>\n",
       "      <td>1.563530</td>\n",
       "      <td>-0.397938</td>\n",
       "      <td>0.064881</td>\n",
       "      <td>1.507142</td>\n",
       "      <td>1.408995</td>\n",
       "      <td>0.649507</td>\n",
       "      <td>4.073995</td>\n",
       "      <td>1.642747</td>\n",
       "      <td>5.961943</td>\n",
       "      <td>2.834580</td>\n",
       "      <td>18.538083</td>\n",
       "      <td>1.085349</td>\n",
       "      <td>599.472039</td>\n",
       "      <td>0.385335</td>\n",
       "      <td>1283.020984</td>\n",
       "      <td>0.195630</td>\n",
       "      <td>-1.228397</td>\n",
       "      <td>1626.289245</td>\n",
       "      <td>0.157261</td>\n",
       "      <td>1008.938552</td>\n",
       "      <td>0.369633</td>\n",
       "      <td>-1.072395</td>\n",
       "      <td>2639.904230</td>\n",
       "      <td>...</td>\n",
       "      <td>12.468416</td>\n",
       "      <td>2.716632e+03</td>\n",
       "      <td>61.086915</td>\n",
       "      <td>7.976858e+03</td>\n",
       "      <td>61.207604</td>\n",
       "      <td>1.737287e+02</td>\n",
       "      <td>0.004508</td>\n",
       "      <td>82.590184</td>\n",
       "      <td>0.001670</td>\n",
       "      <td>0.019926</td>\n",
       "      <td>1.207156</td>\n",
       "      <td>0.020447</td>\n",
       "      <td>1440.106757</td>\n",
       "      <td>37.290235</td>\n",
       "      <td>0.124474</td>\n",
       "      <td>0.001346</td>\n",
       "      <td>8.132067e+02</td>\n",
       "      <td>0.000077</td>\n",
       "      <td>6.960419e+01</td>\n",
       "      <td>0.058609</td>\n",
       "      <td>52.145934</td>\n",
       "      <td>0.417582</td>\n",
       "      <td>98.225357</td>\n",
       "      <td>95.529292</td>\n",
       "      <td>2.526064e+03</td>\n",
       "      <td>99.045955</td>\n",
       "      <td>3.492153e+03</td>\n",
       "      <td>52.002467</td>\n",
       "      <td>0.001333</td>\n",
       "      <td>0.000102</td>\n",
       "      <td>3.130875</td>\n",
       "      <td>2.118498</td>\n",
       "      <td>0.071533</td>\n",
       "      <td>0.011019</td>\n",
       "      <td>0.017861</td>\n",
       "      <td>35.912709</td>\n",
       "      <td>3.024420</td>\n",
       "      <td>4.052987</td>\n",
       "      <td>0.016416</td>\n",
       "      <td>-0.620340</td>\n",
       "    </tr>\n",
       "    <tr>\n",
       "      <th>max</th>\n",
       "      <td>0.633676</td>\n",
       "      <td>0.065586</td>\n",
       "      <td>0.537772</td>\n",
       "      <td>0.772197</td>\n",
       "      <td>0.644095</td>\n",
       "      <td>0.271421</td>\n",
       "      <td>0.839916</td>\n",
       "      <td>0.352617</td>\n",
       "      <td>43.443398</td>\n",
       "      <td>287.225084</td>\n",
       "      <td>181.218321</td>\n",
       "      <td>1.024139</td>\n",
       "      <td>2.395136</td>\n",
       "      <td>1.125268</td>\n",
       "      <td>12.004388</td>\n",
       "      <td>19.226346</td>\n",
       "      <td>182.836982</td>\n",
       "      <td>2027.216139</td>\n",
       "      <td>20.036168</td>\n",
       "      <td>0.117230</td>\n",
       "      <td>1.749353</td>\n",
       "      <td>1.941764</td>\n",
       "      <td>0.862707</td>\n",
       "      <td>9.078306</td>\n",
       "      <td>65.028264</td>\n",
       "      <td>15.414059</td>\n",
       "      <td>892.518784</td>\n",
       "      <td>30.417106</td>\n",
       "      <td>51.690283</td>\n",
       "      <td>889.237144</td>\n",
       "      <td>0.493057</td>\n",
       "      <td>1430.506844</td>\n",
       "      <td>0.281684</td>\n",
       "      <td>5.585633</td>\n",
       "      <td>1899.727498</td>\n",
       "      <td>0.192165</td>\n",
       "      <td>1148.609328</td>\n",
       "      <td>0.499089</td>\n",
       "      <td>1.425054</td>\n",
       "      <td>2843.160760</td>\n",
       "      <td>...</td>\n",
       "      <td>29.242598</td>\n",
       "      <td>2.406416e+06</td>\n",
       "      <td>362.917841</td>\n",
       "      <td>8.419347e+08</td>\n",
       "      <td>287.128590</td>\n",
       "      <td>2.714214e+06</td>\n",
       "      <td>0.036207</td>\n",
       "      <td>438601.547740</td>\n",
       "      <td>0.007454</td>\n",
       "      <td>0.049989</td>\n",
       "      <td>6543.011968</td>\n",
       "      <td>0.049134</td>\n",
       "      <td>4490.212592</td>\n",
       "      <td>147.895212</td>\n",
       "      <td>43903.394805</td>\n",
       "      <td>0.004411</td>\n",
       "      <td>2.362488e+07</td>\n",
       "      <td>0.000223</td>\n",
       "      <td>6.097497e+07</td>\n",
       "      <td>0.329539</td>\n",
       "      <td>215.016275</td>\n",
       "      <td>6038.944950</td>\n",
       "      <td>274.055268</td>\n",
       "      <td>232.696569</td>\n",
       "      <td>4.811558e+09</td>\n",
       "      <td>230.071627</td>\n",
       "      <td>2.699819e+09</td>\n",
       "      <td>149.260306</td>\n",
       "      <td>0.004872</td>\n",
       "      <td>0.000287</td>\n",
       "      <td>14.659670</td>\n",
       "      <td>4.665172</td>\n",
       "      <td>0.114081</td>\n",
       "      <td>0.016405</td>\n",
       "      <td>0.135903</td>\n",
       "      <td>389.701756</td>\n",
       "      <td>39.962016</td>\n",
       "      <td>38.765969</td>\n",
       "      <td>0.030819</td>\n",
       "      <td>1.323100</td>\n",
       "    </tr>\n",
       "  </tbody>\n",
       "</table>\n",
       "<p>8 rows × 196 columns</p>\n",
       "</div>"
      ],
      "text/plain": [
       "       emotion_angry_mean  emotion_disgust_mean  ...      slope2   happiness\n",
       "count          405.000000            405.000000  ...  405.000000  405.000000\n",
       "mean             0.128547              0.001497  ...    0.010704   -1.583779\n",
       "std              0.076677              0.003867  ...    0.007478    1.287467\n",
       "min              0.016640              0.000000  ...    0.000000   -6.684968\n",
       "25%              0.075787              0.000274  ...    0.004274   -2.215440\n",
       "50%              0.107647              0.000730  ...    0.010555   -1.322156\n",
       "75%              0.156998              0.001495  ...    0.016416   -0.620340\n",
       "max              0.633676              0.065586  ...    0.030819    1.323100\n",
       "\n",
       "[8 rows x 196 columns]"
      ]
     },
     "execution_count": 160,
     "metadata": {
      "tags": []
     },
     "output_type": "execute_result"
    }
   ],
   "source": [
    "train2.describe()"
   ]
  },
  {
   "cell_type": "code",
   "execution_count": 161,
   "metadata": {
    "colab": {
     "base_uri": "https://localhost:8080/",
     "height": 466
    },
    "id": "KpKv4rrXEy5A",
    "outputId": "0c99352c-55fb-444b-900e-bc28ddd65466"
   },
   "outputs": [
    {
     "data": {
      "image/png": "[encoded data removed]",
      "text/plain": [
       "<Figure size 640x480 with 1 Axes>"
      ]
     },
     "metadata": {
      "tags": []
     },
     "output_type": "display_data"
    },
    {
     "data": {
      "text/plain": [
       "<ggplot: (8743518075525)>"
      ]
     },
     "execution_count": 161,
     "metadata": {
      "tags": []
     },
     "output_type": "execute_result"
    }
   ],
   "source": [
    "ggplot(train2,aes(x = 'F1amplitudeLogRelF0_sma3nz_stddevNorm_max')) + geom_density()"
   ]
  },
  {
   "cell_type": "code",
   "execution_count": 162,
   "metadata": {
    "colab": {
     "base_uri": "https://localhost:8080/",
     "height": 466
    },
    "id": "P6opmX2DEjXO",
    "outputId": "025a6a2a-402e-4848-d79e-db955c77672e"
   },
   "outputs": [
    {
     "data": {
      "image/png": "[encoded data removed]",
      "text/plain": [
       "<Figure size 640x480 with 1 Axes>"
      ]
     },
     "metadata": {
      "tags": []
     },
     "output_type": "display_data"
    },
    {
     "data": {
      "text/plain": [
       "<ggplot: (8743518559125)>"
      ]
     },
     "execution_count": 162,
     "metadata": {
      "tags": []
     },
     "output_type": "execute_result"
    }
   ],
   "source": [
    "ggplot(data_s,aes(x = 'F1amplitudeLogRelF0_sma3nz_stddevNorm_max')) + geom_density()"
   ]
  },
  {
   "cell_type": "markdown",
   "metadata": {
    "id": "wzazRcuCF_5Y"
   },
   "source": [
    "# 4. Modeling"
   ]
  },
  {
   "cell_type": "code",
   "execution_count": 75,
   "metadata": {
    "colab": {
     "base_uri": "https://localhost:8080/"
    },
    "id": "HpyIsflMI1lz",
    "outputId": "55e45a79-4604-4780-e23e-956f66f0df2e"
   },
   "outputs": [
    {
     "name": "stderr",
     "output_type": "stream",
     "text": [
      "/usr/local/lib/python3.7/dist-packages/sklearn/externals/joblib/__init__.py:15: FutureWarning: sklearn.externals.joblib is deprecated in 0.21 and will be removed in 0.23. Please import this functionality directly from joblib, which can be installed with: pip install joblib. If this warning is raised when loading pickled models, you may need to re-serialize those models with scikit-learn 0.21+.\n",
      "  warnings.warn(msg, category=FutureWarning)\n"
     ]
    }
   ],
   "source": [
    "from sklearn.model_selection import train_test_split\n",
    "from sklearn.metrics import classification_report\n",
    "from sklearn.metrics import accuracy_score\n",
    "from sklearn.model_selection import cross_val_score\n",
    "from sklearn.model_selection import RandomizedSearchCV\n",
    "from sklearn.model_selection import GridSearchCV\n",
    "from sklearn.feature_selection import RFE\n",
    "from mlxtend.feature_selection import SequentialFeatureSelector as sfs\n",
    "from sklearn.model_selection import KFold,StratifiedKFold"
   ]
  },
  {
   "cell_type": "code",
   "execution_count": null,
   "metadata": {
    "id": "EFtJAYYp8CRv"
   },
   "outputs": [],
   "source": [
    "# Importing core libraries\n",
    "import pprint\n",
    "import joblib\n",
    "\n",
    "# Suppressing warnings because of skopt verbosity\n",
    "import warnings\n",
    "warnings.filterwarnings(\"ignore\")"
   ]
  },
  {
   "cell_type": "code",
   "execution_count": null,
   "metadata": {
    "colab": {
     "base_uri": "https://localhost:8080/"
    },
    "id": "KHZauump8E4d",
    "outputId": "62e6d37b-c81a-4e3e-95dd-778ba5d64dca"
   },
   "outputs": [
    {
     "name": "stdout",
     "output_type": "stream",
     "text": [
      "Collecting git+https://github.com/scikit-optimize/scikit-optimize.git\n",
      "  Cloning https://github.com/scikit-optimize/scikit-optimize.git to /tmp/pip-req-build-qopnczje\n",
      "  Running command git clone -q https://github.com/scikit-optimize/scikit-optimize.git /tmp/pip-req-build-qopnczje\n",
      "  Installing build dependencies ... \u001b[?25l\u001b[?25hdone\n",
      "  Getting requirements to build wheel ... \u001b[?25l\u001b[?25hdone\n",
      "    Preparing wheel metadata ... \u001b[?25l\u001b[?25hdone\n",
      "Requirement already satisfied: scikit-learn>=0.20.0 in /usr/local/lib/python3.7/dist-packages (from scikit-optimize==0.9.dev0) (0.22.2.post1)\n",
      "Requirement already satisfied: scipy>=0.19.1 in /usr/local/lib/python3.7/dist-packages (from scikit-optimize==0.9.dev0) (1.4.1)\n",
      "Requirement already satisfied: joblib>=0.11 in /usr/local/lib/python3.7/dist-packages (from scikit-optimize==0.9.dev0) (1.0.1)\n",
      "Requirement already satisfied: numpy>=1.13.3 in /usr/local/lib/python3.7/dist-packages (from scikit-optimize==0.9.dev0) (1.19.5)\n",
      "Collecting pyaml>=16.9\n",
      "  Using cached https://files.pythonhosted.org/packages/15/c4/1310a054d33abc318426a956e7d6df0df76a6ddfa9c66f6310274fb75d42/pyaml-20.4.0-py2.py3-none-any.whl\n",
      "Requirement already satisfied: PyYAML in /usr/local/lib/python3.7/dist-packages (from pyaml>=16.9->scikit-optimize==0.9.dev0) (3.13)\n",
      "Building wheels for collected packages: scikit-optimize\n",
      "  Building wheel for scikit-optimize (PEP 517) ... \u001b[?25l\u001b[?25hdone\n",
      "  Created wheel for scikit-optimize: filename=scikit_optimize-0.9.dev0-cp37-none-any.whl size=100282 sha256=f9ce2f12325d370c63669762dc0517b17c494225ae9758bba65c795139631696\n",
      "  Stored in directory: /tmp/pip-ephem-wheel-cache-dj_iwcx4/wheels/11/6f/86/2b772172db85ad0b4487d67e325e535ee8e7782b2a1dfcadf5\n",
      "Successfully built scikit-optimize\n",
      "Installing collected packages: pyaml, scikit-optimize\n",
      "Successfully installed pyaml-20.4.0 scikit-optimize-0.9.dev0\n"
     ]
    }
   ],
   "source": [
    "!pip install git+https://github.com/scikit-optimize/scikit-optimize.git"
   ]
  },
  {
   "cell_type": "code",
   "execution_count": null,
   "metadata": {
    "id": "dUCCqYMK8ILQ"
   },
   "outputs": [],
   "source": [
    "# Skopt functions\n",
    "from skopt import BayesSearchCV\n",
    "from skopt import gp_minimize # Bayesian optimization using Gaussian Processes\n",
    "from skopt.space import Real, Categorical, Integer\n",
    "from skopt.utils import use_named_args # decorator to convert a list of parameters to named arguments\n",
    "from sklearn.metrics import make_scorer"
   ]
  },
  {
   "cell_type": "code",
   "execution_count": null,
   "metadata": {
    "id": "xEHILKPNI8P7"
   },
   "outputs": [],
   "source": [
    "X_tr, X_val, Y_tr, Y_val = train_test_split(X_train, Y_train, test_size = 0.3, \n",
    "                                            shuffle = True,stratify = Y_train,random_state = 123)"
   ]
  },
  {
   "cell_type": "code",
   "execution_count": 163,
   "metadata": {
    "id": "fs_bGL3SEAYl"
   },
   "outputs": [],
   "source": [
    "Xs_tr, Xs_val, Y_tr, Y_val = train_test_split(Xs_train, Y_train, test_size = 0.3, \n",
    "                                            shuffle = True,stratify = Y_train,random_state = 123)"
   ]
  },
  {
   "cell_type": "markdown",
   "metadata": {
    "id": "-8Tg5eCsNyVM"
   },
   "source": [
    "### 1. Random Forest"
   ]
  },
  {
   "cell_type": "code",
   "execution_count": 67,
   "metadata": {
    "id": "WtOMZgQDOOC1"
   },
   "outputs": [],
   "source": [
    "from sklearn.ensemble import RandomForestClassifier as RFC"
   ]
  },
  {
   "cell_type": "markdown",
   "metadata": {
    "id": "20s_tu9AdoXa"
   },
   "source": [
    "#### 1. Parameter Tuning - Grid Search"
   ]
  },
  {
   "cell_type": "code",
   "execution_count": null,
   "metadata": {
    "id": "7uwVxzNLSzQP"
   },
   "outputs": [],
   "source": [
    "param_grid = {\n",
    "    'n_estimators':[200,400,600,800,1000],\n",
    "    'max_depth':[2,3,4,5,6],\n",
    "    'criterion':['gini','entropy'],\n",
    "    'max_features':['sqrt','log2'],\n",
    "    'min_samples_split':[4,8,12,16,20],\n",
    "    'min_samples_leaf':[2,4,6,8,10]\n",
    "}"
   ]
  },
  {
   "cell_type": "code",
   "execution_count": null,
   "metadata": {
    "colab": {
     "base_uri": "https://localhost:8080/"
    },
    "id": "AQjvxiLvTPI9",
    "outputId": "0be59e21-7513-4ad1-e644-7582f69fe077"
   },
   "outputs": [
    {
     "name": "stdout",
     "output_type": "stream",
     "text": [
      "Fitting 5 folds for each of 3000 candidates, totalling 15000 fits\n"
     ]
    },
    {
     "name": "stderr",
     "output_type": "stream",
     "text": [
      "/usr/local/lib/python3.7/dist-packages/sklearn/model_selection/_split.py:296: FutureWarning: Setting a random_state has no effect since shuffle is False. This will raise an error in 0.24. You should leave random_state to its default (None), or set shuffle=True.\n",
      "  FutureWarning\n",
      "[Parallel(n_jobs=-1)]: Using backend LokyBackend with 2 concurrent workers.\n",
      "[Parallel(n_jobs=-1)]: Done  37 tasks      | elapsed:   27.8s\n",
      "[Parallel(n_jobs=-1)]: Done 158 tasks      | elapsed:  2.1min\n",
      "[Parallel(n_jobs=-1)]: Done 361 tasks      | elapsed:  4.9min\n",
      "[Parallel(n_jobs=-1)]: Done 644 tasks      | elapsed:  8.7min\n",
      "[Parallel(n_jobs=-1)]: Done 1009 tasks      | elapsed: 13.3min\n",
      "[Parallel(n_jobs=-1)]: Done 1454 tasks      | elapsed: 19.5min\n",
      "[Parallel(n_jobs=-1)]: Done 1981 tasks      | elapsed: 27.4min\n",
      "[Parallel(n_jobs=-1)]: Done 2588 tasks      | elapsed: 35.9min\n",
      "[Parallel(n_jobs=-1)]: Done 3277 tasks      | elapsed: 47.3min\n",
      "[Parallel(n_jobs=-1)]: Done 4046 tasks      | elapsed: 59.5min\n",
      "[Parallel(n_jobs=-1)]: Done 4897 tasks      | elapsed: 73.2min\n"
     ]
    }
   ],
   "source": [
    "rf_grid = GridSearchCV(estimator = RFC(random_state = 123), param_grid = param_grid,\n",
    "                       cv = KFold(n_splits = 5, random_state = 42), \n",
    "                       n_jobs = -1, verbose = 2)\n",
    "rf_grid.fit(Xs_train, Y_train)"
   ]
  },
  {
   "cell_type": "code",
   "execution_count": null,
   "metadata": {
    "colab": {
     "base_uri": "https://localhost:8080/"
    },
    "id": "a0BdOfrxTXqd",
    "outputId": "280249e3-9e9a-49fe-c938-32ee0a5f9e35"
   },
   "outputs": [
    {
     "data": {
      "text/plain": [
       "{'criterion': 'gini',\n",
       " 'max_depth': 5,\n",
       " 'max_features': 'sqrt',\n",
       " 'min_samples_leaf': 2,\n",
       " 'min_samples_split': 4,\n",
       " 'n_estimators': 800}"
      ]
     },
     "execution_count": 61,
     "metadata": {
      "tags": []
     },
     "output_type": "execute_result"
    }
   ],
   "source": [
    "rf_grid.best_params_"
   ]
  },
  {
   "cell_type": "code",
   "execution_count": null,
   "metadata": {
    "colab": {
     "base_uri": "https://localhost:8080/"
    },
    "id": "Mje61ZBETlOH",
    "outputId": "d2888211-6d73-4878-a27d-90cc9257316d"
   },
   "outputs": [
    {
     "data": {
      "text/plain": [
       "0.8271604938271604"
      ]
     },
     "execution_count": 62,
     "metadata": {
      "tags": []
     },
     "output_type": "execute_result"
    }
   ],
   "source": [
    "rf_grid.best_score_"
   ]
  },
  {
   "cell_type": "code",
   "execution_count": null,
   "metadata": {
    "id": "22r1B5sFTEWu"
   },
   "outputs": [],
   "source": [
    "best_rf = rf_grid.best_estimator_"
   ]
  },
  {
   "cell_type": "code",
   "execution_count": 73,
   "metadata": {
    "id": "mpFiIG2EXbcl"
   },
   "outputs": [],
   "source": [
    "best_rf = RFC(random_state = 123,\n",
    "              criterion = 'gini',\n",
    "              max_depth = 5,\n",
    "              max_features = 'sqrt',\n",
    "              min_samples_leaf = 2,\n",
    "              min_samples_split = 4,\n",
    "              n_estimators = 800)"
   ]
  },
  {
   "cell_type": "markdown",
   "metadata": {
    "id": "7p8mYLgaq2th"
   },
   "source": [
    "#### 2. Feature Selection"
   ]
  },
  {
   "cell_type": "markdown",
   "metadata": {
    "id": "AxqKJpTKczVZ"
   },
   "source": [
    "- RFE"
   ]
  },
  {
   "cell_type": "code",
   "execution_count": 71,
   "metadata": {
    "id": "gPu5Pynfcnki"
   },
   "outputs": [],
   "source": [
    "from sklearn.feature_selection import RFE"
   ]
  },
  {
   "cell_type": "code",
   "execution_count": null,
   "metadata": {
    "colab": {
     "base_uri": "https://localhost:8080/"
    },
    "id": "qGavhwMt7Nv2",
    "outputId": "2406b1be-b5da-4310-da36-b1e6d663eb39"
   },
   "outputs": [
    {
     "data": {
      "text/plain": [
       "RFE(estimator=RandomForestClassifier(bootstrap=True, ccp_alpha=0.0,\n",
       "                                     class_weight=None, criterion='gini',\n",
       "                                     max_depth=5, max_features='sqrt',\n",
       "                                     max_leaf_nodes=None, max_samples=None,\n",
       "                                     min_impurity_decrease=0.0,\n",
       "                                     min_impurity_split=None,\n",
       "                                     min_samples_leaf=2, min_samples_split=4,\n",
       "                                     min_weight_fraction_leaf=0.0,\n",
       "                                     n_estimators=800, n_jobs=None,\n",
       "                                     oob_score=False, random_state=123,\n",
       "                                     verbose=0, warm_start=False),\n",
       "    n_features_to_select=20, step=1, verbose=-1)"
      ]
     },
     "execution_count": 66,
     "metadata": {
      "tags": []
     },
     "output_type": "execute_result"
    }
   ],
   "source": [
    "rfe20 = RFE(estimator = best_rf,\n",
    "            n_features_to_select = 20,verbose = -1)\n",
    "rfe20.fit(Xs_train,Y_train)"
   ]
  },
  {
   "cell_type": "code",
   "execution_count": null,
   "metadata": {
    "colab": {
     "base_uri": "https://localhost:8080/"
    },
    "id": "UyjOjDUT3h6U",
    "outputId": "efc0e547-e6ff-401f-a3de-73ab21f6843a"
   },
   "outputs": [
    {
     "name": "stdout",
     "output_type": "stream",
     "text": [
      "Index(['emotion_happy_mean', 'loudness_sma3_stddevNorm_mean',\n",
      "       'mfcc1_sma3_stddevNorm_mean', 'spectralFluxV_sma3nz_amean_mean',\n",
      "       'loudnessPeaksPerSec_mean', 'loudness_sma3_pctlrange0-2_min',\n",
      "       'slopeV0-500_sma3nz_amean_min', 'slopeUV0-500_sma3nz_amean_min',\n",
      "       'emotion_happy_max', 'F0semitoneFrom27.5Hz_sma3nz_pctlrange0-2_max',\n",
      "       'loudness_sma3_stddevNorm_max', 'loudness_sma3_percentile20.0_max',\n",
      "       'loudness_sma3_meanRisingSlope_max',\n",
      "       'loudness_sma3_stddevRisingSlope_max', 'slopeV0-500_sma3nz_amean_max',\n",
      "       'slopeUV0-500_sma3nz_amean_max', 'MeanUnvoicedSegmentLength_max', 'PC2',\n",
      "       'slope2', 'happiness'],\n",
      "      dtype='object')\n"
     ]
    }
   ],
   "source": [
    "mask = rfe20.support_\n",
    "Xs_tr_20 = Xs_tr.loc[:, mask]\n",
    "Xs_val_20 = Xs_val.loc[:,mask]\n",
    "Xs_train_20 = Xs_train.loc[:,mask]\n",
    "Xs_test_20 = Xs_test.loc[:,mask]\n",
    "print(Xs_train_20.columns)"
   ]
  },
  {
   "cell_type": "code",
   "execution_count": null,
   "metadata": {
    "colab": {
     "base_uri": "https://localhost:8080/"
    },
    "id": "m3mA6-4C91-m",
    "outputId": "37d70b98-f535-4b4b-f34c-e24bff9f39ec"
   },
   "outputs": [
    {
     "data": {
      "text/plain": [
       "RFE(estimator=RandomForestClassifier(bootstrap=True, ccp_alpha=0.0,\n",
       "                                     class_weight=None, criterion='gini',\n",
       "                                     max_depth=5, max_features='sqrt',\n",
       "                                     max_leaf_nodes=None, max_samples=None,\n",
       "                                     min_impurity_decrease=0.0,\n",
       "                                     min_impurity_split=None,\n",
       "                                     min_samples_leaf=2, min_samples_split=4,\n",
       "                                     min_weight_fraction_leaf=0.0,\n",
       "                                     n_estimators=800, n_jobs=None,\n",
       "                                     oob_score=False, random_state=123,\n",
       "                                     verbose=0, warm_start=False),\n",
       "    n_features_to_select=40, step=1, verbose=-1)"
      ]
     },
     "execution_count": 71,
     "metadata": {
      "tags": []
     },
     "output_type": "execute_result"
    }
   ],
   "source": [
    "rfe40 = RFE(estimator = best_rf,\n",
    "            n_features_to_select = 40,verbose = -1)\n",
    "rfe40.fit(Xs_train,Y_train)"
   ]
  },
  {
   "cell_type": "code",
   "execution_count": null,
   "metadata": {
    "colab": {
     "base_uri": "https://localhost:8080/"
    },
    "id": "2UKXvQdP958F",
    "outputId": "81ff5089-6d33-4174-ccdc-3e67925c58dc"
   },
   "outputs": [
    {
     "name": "stdout",
     "output_type": "stream",
     "text": [
      "Index(['emotion_happy_mean', 'emotion_neutral_mean',\n",
      "       'F0semitoneFrom27.5Hz_sma3nz_stddevRisingSlope_mean',\n",
      "       'loudness_sma3_stddevNorm_mean', 'spectralFlux_sma3_stddevNorm_mean',\n",
      "       'mfcc1_sma3_stddevNorm_mean', 'mfcc4_sma3_amean_mean',\n",
      "       'logRelF0-H1-H2_sma3nz_amean_mean', 'spectralFluxV_sma3nz_amean_mean',\n",
      "       'slopeUV0-500_sma3nz_amean_mean', 'slopeUV500-1500_sma3nz_amean_mean',\n",
      "       'loudnessPeaksPerSec_mean', 'StddevVoicedSegmentLengthSec_mean',\n",
      "       'loudness_sma3_pctlrange0-2_min', 'mfcc2_sma3_amean_min',\n",
      "       'slopeV0-500_sma3nz_amean_min', 'slopeV0-500_sma3nz_stddevNorm_min',\n",
      "       'slopeUV0-500_sma3nz_amean_min', 'equivalentSoundLevel_dBp_min',\n",
      "       'emotion_happy_max', 'F0semitoneFrom27.5Hz_sma3nz_pctlrange0-2_max',\n",
      "       'F0semitoneFrom27.5Hz_sma3nz_meanRisingSlope_max',\n",
      "       'loudness_sma3_stddevNorm_max', 'loudness_sma3_percentile20.0_max',\n",
      "       'loudness_sma3_meanRisingSlope_max',\n",
      "       'loudness_sma3_stddevRisingSlope_max', 'HNRdBACF_sma3nz_amean_max',\n",
      "       'F1amplitudeLogRelF0_sma3nz_stddevNorm_max',\n",
      "       'slopeV0-500_sma3nz_amean_max', 'slopeV0-500_sma3nz_stddevNorm_max',\n",
      "       'mfcc2V_sma3nz_amean_max', 'mfcc4V_sma3nz_amean_max',\n",
      "       'slopeUV0-500_sma3nz_amean_max', 'VoicedSegmentsPerSec_max',\n",
      "       'MeanUnvoicedSegmentLength_max', 'PC1', 'PC2', 'clus', 'slope2',\n",
      "       'happiness'],\n",
      "      dtype='object')\n"
     ]
    }
   ],
   "source": [
    "mask = rfe40.support_\n",
    "Xs_tr_40 = Xs_tr.loc[:, mask]\n",
    "Xs_val_40 = Xs_val.loc[:,mask]\n",
    "Xs_train_40 = Xs_train.loc[:,mask]\n",
    "Xs_test_40 = Xs_test.loc[:,mask]\n",
    "print(Xs_train_40.columns)"
   ]
  },
  {
   "cell_type": "code",
   "execution_count": 164,
   "metadata": {
    "colab": {
     "base_uri": "https://localhost:8080/"
    },
    "id": "L_bQ4XV58r_B",
    "outputId": "fcc1781d-3561-4cb5-b8c0-c12543a156e2"
   },
   "outputs": [
    {
     "data": {
      "text/plain": [
       "RFE(estimator=RandomForestClassifier(bootstrap=True, ccp_alpha=0.0,\n",
       "                                     class_weight=None, criterion='gini',\n",
       "                                     max_depth=5, max_features='sqrt',\n",
       "                                     max_leaf_nodes=None, max_samples=None,\n",
       "                                     min_impurity_decrease=0.0,\n",
       "                                     min_impurity_split=None,\n",
       "                                     min_samples_leaf=2, min_samples_split=4,\n",
       "                                     min_weight_fraction_leaf=0.0,\n",
       "                                     n_estimators=800, n_jobs=None,\n",
       "                                     oob_score=False, random_state=123,\n",
       "                                     verbose=0, warm_start=False),\n",
       "    n_features_to_select=60, step=1, verbose=-1)"
      ]
     },
     "execution_count": 164,
     "metadata": {
      "tags": []
     },
     "output_type": "execute_result"
    }
   ],
   "source": [
    "rfe60 = RFE(estimator = best_rf,\n",
    "            n_features_to_select = 60,verbose = -1)\n",
    "rfe60.fit(Xs_train,Y_train)"
   ]
  },
  {
   "cell_type": "code",
   "execution_count": 165,
   "metadata": {
    "colab": {
     "base_uri": "https://localhost:8080/"
    },
    "id": "tkX9GJYl6Y7y",
    "outputId": "f7f13739-0c5f-45f1-d96c-eed6ae0ea79e"
   },
   "outputs": [
    {
     "name": "stdout",
     "output_type": "stream",
     "text": [
      "Index(['emotion_happy_mean', 'emotion_sad_mean', 'emotion_neutral_mean',\n",
      "       'F0semitoneFrom27.5Hz_sma3nz_stddevRisingSlope_mean',\n",
      "       'loudness_sma3_stddevNorm_mean', 'spectralFlux_sma3_stddevNorm_mean',\n",
      "       'mfcc1_sma3_stddevNorm_mean', 'mfcc4_sma3_amean_mean',\n",
      "       'logRelF0-H1-H2_sma3nz_amean_mean', 'F2bandwidth_sma3nz_amean_mean',\n",
      "       'spectralFluxV_sma3nz_amean_mean',\n",
      "       'spectralFluxV_sma3nz_stddevNorm_mean',\n",
      "       'slopeUV0-500_sma3nz_amean_mean', 'slopeUV500-1500_sma3nz_amean_mean',\n",
      "       'loudnessPeaksPerSec_mean', 'VoicedSegmentsPerSec_mean',\n",
      "       'StddevVoicedSegmentLengthSec_mean', 'loudness_sma3_percentile80.0_min',\n",
      "       'loudness_sma3_pctlrange0-2_min', 'loudness_sma3_meanRisingSlope_min',\n",
      "       'spectralFlux_sma3_amean_min', 'mfcc2_sma3_amean_min',\n",
      "       'mfcc4_sma3_amean_min', 'slopeV0-500_sma3nz_amean_min',\n",
      "       'slopeV0-500_sma3nz_stddevNorm_min', 'slopeUV0-500_sma3nz_amean_min',\n",
      "       'equivalentSoundLevel_dBp_min', 'emotion_angry_max', 'emotion_fear_max',\n",
      "       'emotion_happy_max', 'emotion_sad_max',\n",
      "       'F0semitoneFrom27.5Hz_sma3nz_stddevNorm_max',\n",
      "       'F0semitoneFrom27.5Hz_sma3nz_percentile80.0_max',\n",
      "       'F0semitoneFrom27.5Hz_sma3nz_pctlrange0-2_max',\n",
      "       'F0semitoneFrom27.5Hz_sma3nz_meanRisingSlope_max',\n",
      "       'F0semitoneFrom27.5Hz_sma3nz_stddevFallingSlope_max',\n",
      "       'loudness_sma3_stddevNorm_max', 'loudness_sma3_percentile20.0_max',\n",
      "       'loudness_sma3_pctlrange0-2_max', 'loudness_sma3_meanRisingSlope_max',\n",
      "       'loudness_sma3_stddevRisingSlope_max',\n",
      "       'shimmerLocaldB_sma3nz_amean_max', 'HNRdBACF_sma3nz_amean_max',\n",
      "       'logRelF0-H1-H2_sma3nz_amean_max',\n",
      "       'F1amplitudeLogRelF0_sma3nz_stddevNorm_max',\n",
      "       'F3amplitudeLogRelF0_sma3nz_amean_max', 'slopeV0-500_sma3nz_amean_max',\n",
      "       'slopeV0-500_sma3nz_stddevNorm_max', 'mfcc2V_sma3nz_amean_max',\n",
      "       'mfcc4V_sma3nz_amean_max', 'slopeUV0-500_sma3nz_amean_max',\n",
      "       'loudnessPeaksPerSec_max', 'VoicedSegmentsPerSec_max',\n",
      "       'MeanUnvoicedSegmentLength_max', 'equivalentSoundLevel_dBp_max', 'PC1',\n",
      "       'PC2', 'clus', 'slope2', 'happiness'],\n",
      "      dtype='object')\n"
     ]
    }
   ],
   "source": [
    "mask = rfe60.support_\n",
    "Xs_tr_60 = Xs_tr.loc[:, mask]\n",
    "Xs_val_60 = Xs_val.loc[:,mask]\n",
    "Xs_train_60 = Xs_train.loc[:,mask]\n",
    "Xs_test_60 = Xs_test.loc[:,mask]\n",
    "print(Xs_train_60.columns)"
   ]
  },
  {
   "cell_type": "code",
   "execution_count": null,
   "metadata": {
    "colab": {
     "base_uri": "https://localhost:8080/"
    },
    "id": "xTVDVGIHEoa6",
    "outputId": "5286c046-a645-45f6-e658-625f58afc853"
   },
   "outputs": [
    {
     "data": {
      "text/plain": [
       "RFE(estimator=RandomForestClassifier(bootstrap=True, ccp_alpha=0.0,\n",
       "                                     class_weight=None, criterion='gini',\n",
       "                                     max_depth=5, max_features='sqrt',\n",
       "                                     max_leaf_nodes=None, max_samples=None,\n",
       "                                     min_impurity_decrease=0.0,\n",
       "                                     min_impurity_split=None,\n",
       "                                     min_samples_leaf=2, min_samples_split=4,\n",
       "                                     min_weight_fraction_leaf=0.0,\n",
       "                                     n_estimators=800, n_jobs=None,\n",
       "                                     oob_score=False, random_state=123,\n",
       "                                     verbose=0, warm_start=False),\n",
       "    n_features_to_select=80, step=1, verbose=-1)"
      ]
     },
     "execution_count": 77,
     "metadata": {
      "tags": []
     },
     "output_type": "execute_result"
    }
   ],
   "source": [
    "rfe80 = RFE(estimator = best_rf,\n",
    "            n_features_to_select = 80,verbose = -1)\n",
    "rfe80.fit(Xs_train,Y_train)"
   ]
  },
  {
   "cell_type": "code",
   "execution_count": null,
   "metadata": {
    "colab": {
     "base_uri": "https://localhost:8080/"
    },
    "id": "JS0DFHfjEr9X",
    "outputId": "4db594ff-3477-4a3c-ce0c-2787b78f45b8"
   },
   "outputs": [
    {
     "name": "stdout",
     "output_type": "stream",
     "text": [
      "Index(['emotion_angry_mean', 'emotion_disgust_mean', 'emotion_happy_mean',\n",
      "       'emotion_sad_mean', 'emotion_neutral_mean',\n",
      "       'F0semitoneFrom27.5Hz_sma3nz_stddevNorm_mean',\n",
      "       'F0semitoneFrom27.5Hz_sma3nz_stddevRisingSlope_mean',\n",
      "       'F0semitoneFrom27.5Hz_sma3nz_meanFallingSlope_mean',\n",
      "       'loudness_sma3_stddevNorm_mean', 'spectralFlux_sma3_stddevNorm_mean',\n",
      "       'mfcc1_sma3_stddevNorm_mean', 'mfcc2_sma3_amean_mean',\n",
      "       'mfcc4_sma3_amean_mean', 'HNRdBACF_sma3nz_amean_mean',\n",
      "       'logRelF0-H1-H2_sma3nz_amean_mean',\n",
      "       'logRelF0-H1-A3_sma3nz_stddevNorm_mean',\n",
      "       'F2frequency_sma3nz_stddevNorm_mean', 'F2bandwidth_sma3nz_amean_mean',\n",
      "       'spectralFluxV_sma3nz_amean_mean',\n",
      "       'spectralFluxV_sma3nz_stddevNorm_mean', 'mfcc1V_sma3nz_stddevNorm_mean',\n",
      "       'alphaRatioUV_sma3nz_amean_mean', 'slopeUV0-500_sma3nz_amean_mean',\n",
      "       'slopeUV500-1500_sma3nz_amean_mean', 'loudnessPeaksPerSec_mean',\n",
      "       'VoicedSegmentsPerSec_mean', 'StddevVoicedSegmentLengthSec_mean',\n",
      "       'F0semitoneFrom27.5Hz_sma3nz_meanRisingSlope_min',\n",
      "       'loudness_sma3_percentile80.0_min', 'loudness_sma3_pctlrange0-2_min',\n",
      "       'loudness_sma3_meanRisingSlope_min',\n",
      "       'loudness_sma3_meanFallingSlope_min', 'spectralFlux_sma3_amean_min',\n",
      "       'mfcc2_sma3_amean_min', 'mfcc4_sma3_amean_min',\n",
      "       'slopeV0-500_sma3nz_amean_min', 'slopeV0-500_sma3nz_stddevNorm_min',\n",
      "       'mfcc4V_sma3nz_stddevNorm_min', 'slopeUV0-500_sma3nz_amean_min',\n",
      "       'equivalentSoundLevel_dBp_min', 'emotion_angry_max', 'emotion_fear_max',\n",
      "       'emotion_happy_max', 'emotion_sad_max',\n",
      "       'F0semitoneFrom27.5Hz_sma3nz_stddevNorm_max',\n",
      "       'F0semitoneFrom27.5Hz_sma3nz_percentile20.0_max',\n",
      "       'F0semitoneFrom27.5Hz_sma3nz_percentile80.0_max',\n",
      "       'F0semitoneFrom27.5Hz_sma3nz_pctlrange0-2_max',\n",
      "       'F0semitoneFrom27.5Hz_sma3nz_meanRisingSlope_max',\n",
      "       'F0semitoneFrom27.5Hz_sma3nz_stddevRisingSlope_max',\n",
      "       'F0semitoneFrom27.5Hz_sma3nz_stddevFallingSlope_max',\n",
      "       'loudness_sma3_stddevNorm_max', 'loudness_sma3_percentile20.0_max',\n",
      "       'loudness_sma3_pctlrange0-2_max', 'loudness_sma3_meanRisingSlope_max',\n",
      "       'loudness_sma3_stddevRisingSlope_max',\n",
      "       'loudness_sma3_meanFallingSlope_max', 'jitterLocal_sma3nz_amean_max',\n",
      "       'shimmerLocaldB_sma3nz_amean_max', 'HNRdBACF_sma3nz_amean_max',\n",
      "       'logRelF0-H1-H2_sma3nz_amean_max',\n",
      "       'logRelF0-H1-A3_sma3nz_stddevNorm_max',\n",
      "       'F1amplitudeLogRelF0_sma3nz_stddevNorm_max',\n",
      "       'F2frequency_sma3nz_stddevNorm_max',\n",
      "       'F3amplitudeLogRelF0_sma3nz_amean_max', 'slopeV0-500_sma3nz_amean_max',\n",
      "       'slopeV0-500_sma3nz_stddevNorm_max',\n",
      "       'slopeV500-1500_sma3nz_stddevNorm_max', 'mfcc2V_sma3nz_amean_max',\n",
      "       'mfcc4V_sma3nz_amean_max', 'slopeUV0-500_sma3nz_amean_max',\n",
      "       'loudnessPeaksPerSec_max', 'VoicedSegmentsPerSec_max',\n",
      "       'MeanUnvoicedSegmentLength_max', 'equivalentSoundLevel_dBp_max', 'PC1',\n",
      "       'PC2', 'clus', 'slope2', 'happiness'],\n",
      "      dtype='object')\n"
     ]
    }
   ],
   "source": [
    "mask = rfe80.support_\n",
    "Xs_tr_80 = Xs_tr.loc[:, mask]\n",
    "Xs_val_80 = Xs_val.loc[:,mask]\n",
    "Xs_train_80 = Xs_train.loc[:,mask]\n",
    "Xs_test_80 = Xs_test.loc[:,mask]\n",
    "print(Xs_train_80.columns)"
   ]
  },
  {
   "cell_type": "code",
   "execution_count": null,
   "metadata": {
    "colab": {
     "base_uri": "https://localhost:8080/"
    },
    "id": "MbKZ6JRVKBG3",
    "outputId": "d1e23c01-5d9b-4a9d-b20f-a7240e1b191d"
   },
   "outputs": [
    {
     "data": {
      "text/plain": [
       "RFE(estimator=RandomForestClassifier(bootstrap=True, ccp_alpha=0.0,\n",
       "                                     class_weight=None, criterion='gini',\n",
       "                                     max_depth=5, max_features='sqrt',\n",
       "                                     max_leaf_nodes=None, max_samples=None,\n",
       "                                     min_impurity_decrease=0.0,\n",
       "                                     min_impurity_split=None,\n",
       "                                     min_samples_leaf=2, min_samples_split=4,\n",
       "                                     min_weight_fraction_leaf=0.0,\n",
       "                                     n_estimators=800, n_jobs=None,\n",
       "                                     oob_score=False, random_state=123,\n",
       "                                     verbose=0, warm_start=False),\n",
       "    n_features_to_select=100, step=1, verbose=-1)"
      ]
     },
     "execution_count": 80,
     "metadata": {
      "tags": []
     },
     "output_type": "execute_result"
    }
   ],
   "source": [
    "rfe100 = RFE(estimator = best_rf,\n",
    "            n_features_to_select = 100,verbose = -1)\n",
    "rfe100.fit(Xs_train,Y_train)"
   ]
  },
  {
   "cell_type": "code",
   "execution_count": null,
   "metadata": {
    "colab": {
     "base_uri": "https://localhost:8080/"
    },
    "id": "yMjp_JEtKC2F",
    "outputId": "b3482bd2-2926-4e7f-e3e9-e24bf98caaf3"
   },
   "outputs": [
    {
     "name": "stdout",
     "output_type": "stream",
     "text": [
      "Index(['emotion_angry_mean', 'emotion_disgust_mean', 'emotion_happy_mean',\n",
      "       'emotion_sad_mean', 'emotion_surprise_mean', 'emotion_neutral_mean',\n",
      "       'F0semitoneFrom27.5Hz_sma3nz_stddevNorm_mean',\n",
      "       'F0semitoneFrom27.5Hz_sma3nz_stddevRisingSlope_mean',\n",
      "       'F0semitoneFrom27.5Hz_sma3nz_meanFallingSlope_mean',\n",
      "       'loudness_sma3_stddevNorm_mean', 'loudness_sma3_pctlrange0-2_mean',\n",
      "       'spectralFlux_sma3_stddevNorm_mean', 'mfcc1_sma3_stddevNorm_mean',\n",
      "       'mfcc2_sma3_amean_mean', 'mfcc4_sma3_amean_mean',\n",
      "       'HNRdBACF_sma3nz_amean_mean', 'logRelF0-H1-H2_sma3nz_amean_mean',\n",
      "       'logRelF0-H1-A3_sma3nz_stddevNorm_mean',\n",
      "       'F2frequency_sma3nz_stddevNorm_mean', 'F2bandwidth_sma3nz_amean_mean',\n",
      "       'F2amplitudeLogRelF0_sma3nz_stddevNorm_mean',\n",
      "       'slopeV0-500_sma3nz_stddevNorm_mean', 'spectralFluxV_sma3nz_amean_mean',\n",
      "       'spectralFluxV_sma3nz_stddevNorm_mean', 'mfcc1V_sma3nz_stddevNorm_mean',\n",
      "       'alphaRatioUV_sma3nz_amean_mean', 'slopeUV0-500_sma3nz_amean_mean',\n",
      "       'slopeUV500-1500_sma3nz_amean_mean', 'loudnessPeaksPerSec_mean',\n",
      "       'VoicedSegmentsPerSec_mean', 'StddevVoicedSegmentLengthSec_mean',\n",
      "       'F0semitoneFrom27.5Hz_sma3nz_meanRisingSlope_min',\n",
      "       'loudness_sma3_percentile80.0_min', 'loudness_sma3_pctlrange0-2_min',\n",
      "       'loudness_sma3_meanRisingSlope_min',\n",
      "       'loudness_sma3_meanFallingSlope_min', 'spectralFlux_sma3_amean_min',\n",
      "       'mfcc2_sma3_amean_min', 'mfcc3_sma3_amean_min', 'mfcc4_sma3_amean_min',\n",
      "       'HNRdBACF_sma3nz_amean_min', 'logRelF0-H1-A3_sma3nz_stddevNorm_min',\n",
      "       'F2amplitudeLogRelF0_sma3nz_stddevNorm_min',\n",
      "       'F3amplitudeLogRelF0_sma3nz_stddevNorm_min',\n",
      "       'slopeV0-500_sma3nz_amean_min', 'slopeV0-500_sma3nz_stddevNorm_min',\n",
      "       'mfcc4V_sma3nz_amean_min', 'mfcc4V_sma3nz_stddevNorm_min',\n",
      "       'alphaRatioUV_sma3nz_amean_min', 'hammarbergIndexUV_sma3nz_amean_min',\n",
      "       'slopeUV0-500_sma3nz_amean_min', 'equivalentSoundLevel_dBp_min',\n",
      "       'emotion_angry_max', 'emotion_fear_max', 'emotion_happy_max',\n",
      "       'emotion_sad_max', 'emotion_neutral_max',\n",
      "       'F0semitoneFrom27.5Hz_sma3nz_stddevNorm_max',\n",
      "       'F0semitoneFrom27.5Hz_sma3nz_percentile20.0_max',\n",
      "       'F0semitoneFrom27.5Hz_sma3nz_percentile80.0_max',\n",
      "       'F0semitoneFrom27.5Hz_sma3nz_pctlrange0-2_max',\n",
      "       'F0semitoneFrom27.5Hz_sma3nz_meanRisingSlope_max',\n",
      "       'F0semitoneFrom27.5Hz_sma3nz_stddevRisingSlope_max',\n",
      "       'F0semitoneFrom27.5Hz_sma3nz_stddevFallingSlope_max',\n",
      "       'loudness_sma3_stddevNorm_max', 'loudness_sma3_percentile20.0_max',\n",
      "       'loudness_sma3_pctlrange0-2_max', 'loudness_sma3_meanRisingSlope_max',\n",
      "       'loudness_sma3_stddevRisingSlope_max',\n",
      "       'loudness_sma3_meanFallingSlope_max', 'mfcc1_sma3_amean_max',\n",
      "       'jitterLocal_sma3nz_amean_max', 'shimmerLocaldB_sma3nz_amean_max',\n",
      "       'HNRdBACF_sma3nz_amean_max', 'logRelF0-H1-H2_sma3nz_amean_max',\n",
      "       'logRelF0-H1-A3_sma3nz_amean_max',\n",
      "       'logRelF0-H1-A3_sma3nz_stddevNorm_max',\n",
      "       'F1bandwidth_sma3nz_stddevNorm_max',\n",
      "       'F1amplitudeLogRelF0_sma3nz_stddevNorm_max',\n",
      "       'F2frequency_sma3nz_stddevNorm_max',\n",
      "       'F2bandwidth_sma3nz_stddevNorm_max',\n",
      "       'F2amplitudeLogRelF0_sma3nz_stddevNorm_max',\n",
      "       'F3amplitudeLogRelF0_sma3nz_amean_max',\n",
      "       'hammarbergIndexV_sma3nz_amean_max', 'slopeV0-500_sma3nz_amean_max',\n",
      "       'slopeV0-500_sma3nz_stddevNorm_max',\n",
      "       'slopeV500-1500_sma3nz_stddevNorm_max', 'mfcc2V_sma3nz_amean_max',\n",
      "       'mfcc3V_sma3nz_stddevNorm_max', 'mfcc4V_sma3nz_amean_max',\n",
      "       'slopeUV0-500_sma3nz_amean_max', 'loudnessPeaksPerSec_max',\n",
      "       'VoicedSegmentsPerSec_max', 'MeanUnvoicedSegmentLength_max',\n",
      "       'equivalentSoundLevel_dBp_max', 'PC1', 'PC2', 'clus', 'slope2',\n",
      "       'happiness'],\n",
      "      dtype='object')\n"
     ]
    }
   ],
   "source": [
    "mask = rfe100.support_\n",
    "Xs_tr_100 = Xs_tr.loc[:, mask]\n",
    "Xs_val_100 = Xs_val.loc[:,mask]\n",
    "Xs_train_100 = Xs_train.loc[:,mask]\n",
    "Xs_test_100 = Xs_test.loc[:,mask]\n",
    "print(Xs_train_100.columns)"
   ]
  },
  {
   "cell_type": "code",
   "execution_count": null,
   "metadata": {
    "colab": {
     "base_uri": "https://localhost:8080/"
    },
    "id": "_Zz4INOA4JGk",
    "outputId": "489ff098-d170-4301-c558-485abdea3f25"
   },
   "outputs": [
    {
     "name": "stdout",
     "output_type": "stream",
     "text": [
      "              precision    recall  f1-score   support\n",
      "\n",
      "           0       0.91      0.79      0.85        66\n",
      "           1       0.78      0.91      0.84        56\n",
      "\n",
      "    accuracy                           0.84       122\n",
      "   macro avg       0.85      0.85      0.84       122\n",
      "weighted avg       0.85      0.84      0.84       122\n",
      "\n"
     ]
    }
   ],
   "source": [
    "best_rf.fit(Xs_tr_20,Y_tr)\n",
    "Y_pred = best_rf.predict(Xs_val_20)\n",
    "print(classification_report(Y_val,Y_pred))"
   ]
  },
  {
   "cell_type": "code",
   "execution_count": null,
   "metadata": {
    "colab": {
     "base_uri": "https://localhost:8080/"
    },
    "id": "0_jqgj7_-X7u",
    "outputId": "b19dc0a4-b2fa-407f-cf04-ec84e6fb72cb"
   },
   "outputs": [
    {
     "name": "stdout",
     "output_type": "stream",
     "text": [
      "              precision    recall  f1-score   support\n",
      "\n",
      "           0       0.93      0.79      0.85        66\n",
      "           1       0.79      0.93      0.85        56\n",
      "\n",
      "    accuracy                           0.85       122\n",
      "   macro avg       0.86      0.86      0.85       122\n",
      "weighted avg       0.86      0.85      0.85       122\n",
      "\n"
     ]
    }
   ],
   "source": [
    "best_rf.fit(Xs_tr_40,Y_tr)\n",
    "Y_pred = best_rf.predict(Xs_val_40)\n",
    "print(classification_report(Y_val,Y_pred))"
   ]
  },
  {
   "cell_type": "code",
   "execution_count": 166,
   "metadata": {
    "colab": {
     "base_uri": "https://localhost:8080/"
    },
    "id": "5_echWx29LNW",
    "outputId": "419bc435-8813-42bc-a658-3ed4f2cf1310"
   },
   "outputs": [
    {
     "name": "stdout",
     "output_type": "stream",
     "text": [
      "              precision    recall  f1-score   support\n",
      "\n",
      "           0       0.93      0.80      0.86        66\n",
      "           1       0.80      0.93      0.86        56\n",
      "\n",
      "    accuracy                           0.86       122\n",
      "   macro avg       0.86      0.87      0.86       122\n",
      "weighted avg       0.87      0.86      0.86       122\n",
      "\n"
     ]
    }
   ],
   "source": [
    "best_rf.fit(Xs_tr_60,Y_tr)\n",
    "Y_pred = best_rf.predict(Xs_val_60)\n",
    "print(classification_report(Y_val,Y_pred))"
   ]
  },
  {
   "cell_type": "code",
   "execution_count": null,
   "metadata": {
    "colab": {
     "base_uri": "https://localhost:8080/"
    },
    "id": "qYqEIVSsE3vA",
    "outputId": "a7002a46-eb93-48e0-c5d7-ebcebb4c271b"
   },
   "outputs": [
    {
     "name": "stdout",
     "output_type": "stream",
     "text": [
      "              precision    recall  f1-score   support\n",
      "\n",
      "           0       0.91      0.80      0.85        66\n",
      "           1       0.80      0.91      0.85        56\n",
      "\n",
      "    accuracy                           0.85       122\n",
      "   macro avg       0.86      0.86      0.85       122\n",
      "weighted avg       0.86      0.85      0.85       122\n",
      "\n"
     ]
    }
   ],
   "source": [
    "best_rf.fit(Xs_tr_80,Y_tr)\n",
    "Y_pred = best_rf.predict(Xs_val_80)\n",
    "print(classification_report(Y_val,Y_pred))"
   ]
  },
  {
   "cell_type": "code",
   "execution_count": null,
   "metadata": {
    "colab": {
     "base_uri": "https://localhost:8080/"
    },
    "id": "m5h8KmfGKS2n",
    "outputId": "712bbb00-5e3e-4def-df12-ef5ce58f2156"
   },
   "outputs": [
    {
     "name": "stdout",
     "output_type": "stream",
     "text": [
      "              precision    recall  f1-score   support\n",
      "\n",
      "           0       0.91      0.79      0.85        66\n",
      "           1       0.78      0.91      0.84        56\n",
      "\n",
      "    accuracy                           0.84       122\n",
      "   macro avg       0.85      0.85      0.84       122\n",
      "weighted avg       0.85      0.84      0.84       122\n",
      "\n"
     ]
    }
   ],
   "source": [
    "best_rf.fit(Xs_tr_100,Y_tr)\n",
    "Y_pred = best_rf.predict(Xs_val_100)\n",
    "print(classification_report(Y_val,Y_pred))"
   ]
  },
  {
   "cell_type": "code",
   "execution_count": null,
   "metadata": {
    "id": "WXitQJz8TYst"
   },
   "outputs": [],
   "source": [
    "best_rf.fit(Xs_train_60,Y_train)\n",
    "Y_pred = best_rf.predict(Xs_test_60)\n",
    "pd.DataFrame(Y_pred).to_csv('2017311974.csv',header = None)"
   ]
  },
  {
   "cell_type": "markdown",
   "metadata": {
    "id": "QWVjugBIoCur"
   },
   "source": [
    "#### 3. Submission"
   ]
  },
  {
   "cell_type": "code",
   "execution_count": 170,
   "metadata": {
    "colab": {
     "base_uri": "https://localhost:8080/"
    },
    "id": "CKby8W0BF825",
    "outputId": "205e9003-6bb7-473b-ad47-55910538d039"
   },
   "outputs": [
    {
     "name": "stdout",
     "output_type": "stream",
     "text": [
      "validation acc: 0.860656\n",
      "training acc: 0.961131\n"
     ]
    }
   ],
   "source": [
    "best_rf = RFC(random_state = 123, criterion = 'gini', max_depth = 5, max_features = 'sqrt', min_samples_leaf = 2, min_samples_split = 4, n_estimators = 800)\n",
    "\n",
    "best_rf.fit(Xs_tr_60,Y_tr)\n",
    "Y_pred = best_rf.predict(Xs_val_60)\n",
    "print('validation acc: %.6f' %(accuracy_score(Y_pred,Y_val)))\n",
    "\n",
    "Y_pred = best_rf.predict(Xs_tr_60)\n",
    "print('training acc: %.6f' %(accuracy_score(Y_pred,Y_tr)))"
   ]
  },
  {
   "cell_type": "code",
   "execution_count": 193,
   "metadata": {
    "id": "rYeGpnuE9abf"
   },
   "outputs": [],
   "source": [
    "# 85.1485\n",
    "best_rf = RFC(random_state = 123, criterion = 'gini', max_depth = 5, max_features = 'sqrt', min_samples_leaf = 2, min_samples_split = 4, n_estimators = 800)\n",
    "\n",
    "best_rf.fit(Xs_train_60,Y_train)\n",
    "Y_pred = best_rf.predict(Xs_test_60)"
   ]
  },
  {
   "cell_type": "code",
   "execution_count": null,
   "metadata": {
    "id": "PTFNuJgCoJi6"
   },
   "outputs": [],
   "source": [
    "pd.DataFrame(Y_pred).to_csv('2017311974.csv',header = None)"
   ]
  },
  {
   "cell_type": "code",
   "execution_count": null,
   "metadata": {
    "colab": {
     "base_uri": "https://localhost:8080/"
    },
    "id": "xXqWSK8tDcu8",
    "outputId": "096b8db3-75f9-497d-a5e7-3a83bdfd00f4"
   },
   "outputs": [
    {
     "name": "stdout",
     "output_type": "stream",
     "text": [
      "0.9481481481481482\n"
     ]
    }
   ],
   "source": [
    "best_rf.fit(Xs_train_60,Y_train)\n",
    "y_pred = best_rf.predict(Xs_train_60)\n",
    "print(accuracy_score(Y_train,y_pred))"
   ]
  },
  {
   "cell_type": "code",
   "execution_count": 197,
   "metadata": {
    "colab": {
     "base_uri": "https://localhost:8080/",
     "height": 518
    },
    "id": "rQR3nVveLEqh",
    "outputId": "8f068044-6abf-4453-8187-7fe5cd37bd34"
   },
   "outputs": [
    {
     "data": {
      "text/plain": [
       "<matplotlib.axes._subplots.AxesSubplot at 0x7f3c230ae410>"
      ]
     },
     "execution_count": 197,
     "metadata": {
      "tags": []
     },
     "output_type": "execute_result"
    },
    {
     "data": {
      "image/png": "[encoded data removed]",
      "text/plain": [
       "<Figure size 842.4x595.44 with 1 Axes>"
      ]
     },
     "metadata": {
      "tags": []
     },
     "output_type": "display_data"
    }
   ],
   "source": [
    "feat_importances = pd.Series(best_rf.feature_importances_, index = Xs_train_60.columns)\n",
    "feat_importances.nlargest(20).plot(kind='barh')"
   ]
  },
  {
   "cell_type": "markdown",
   "metadata": {
    "id": "-RuTxlsNG45Z"
   },
   "source": [
    "### 2. Logistic Regression"
   ]
  },
  {
   "cell_type": "code",
   "execution_count": 172,
   "metadata": {
    "id": "9ZiKQOpBENR8"
   },
   "outputs": [],
   "source": [
    "from sklearn.linear_model import LogisticRegression"
   ]
  },
  {
   "cell_type": "code",
   "execution_count": null,
   "metadata": {
    "colab": {
     "base_uri": "https://localhost:8080/"
    },
    "id": "5v56GmFAC7Hs",
    "outputId": "aaf7a7ef-8fcd-4eee-8878-f76c8c859950"
   },
   "outputs": [
    {
     "name": "stdout",
     "output_type": "stream",
     "text": [
      "0.7377049180327869\n"
     ]
    },
    {
     "name": "stderr",
     "output_type": "stream",
     "text": [
      "/usr/local/lib/python3.7/dist-packages/sklearn/svm/_base.py:947: ConvergenceWarning: Liblinear failed to converge, increase the number of iterations.\n",
      "  \"the number of iterations.\", ConvergenceWarning)\n"
     ]
    }
   ],
   "source": [
    "logistic_regression = LogisticRegression(random_state = 42,solver = 'liblinear',penalty = 'l1')\n",
    "logistic_regression.fit(X_tr,Y_tr)\n",
    "Y_pred = logistic_regression.predict(X_val)\n",
    "print(accuracy_score(Y_val,Y_pred))"
   ]
  },
  {
   "cell_type": "code",
   "execution_count": null,
   "metadata": {
    "colab": {
     "base_uri": "https://localhost:8080/"
    },
    "id": "n14NQDcIDG0c",
    "outputId": "7039660f-b9e0-4dde-9a9f-fb33ce466a17"
   },
   "outputs": [
    {
     "name": "stdout",
     "output_type": "stream",
     "text": [
      "0.7540983606557377\n"
     ]
    }
   ],
   "source": [
    "logistic_regression = LogisticRegression(random_state = 42,solver = 'liblinear',penalty = 'l1')\n",
    "logistic_regression.fit(Xs_tr,Y_tr)\n",
    "Y_pred = logistic_regression.predict(Xs_val)\n",
    "print(accuracy_score(Y_val,Y_pred))"
   ]
  },
  {
   "cell_type": "markdown",
   "metadata": {
    "id": "iENkrOOBEfic"
   },
   "source": [
    "여존슨 변환을 한 데이터셋의 성능이 더 좋았다."
   ]
  },
  {
   "cell_type": "markdown",
   "metadata": {
    "id": "8sEvP9E3bn-I"
   },
   "source": [
    "#### 1. L1 penalty"
   ]
  },
  {
   "cell_type": "code",
   "execution_count": null,
   "metadata": {
    "colab": {
     "base_uri": "https://localhost:8080/"
    },
    "id": "KMFU2EQSFxkX",
    "outputId": "cb834b37-6b7f-45a0-9a67-dfbbee0d94a9"
   },
   "outputs": [
    {
     "name": "stdout",
     "output_type": "stream",
     "text": [
      "Fitting 5 folds for each of 9 candidates, totalling 45 fits\n"
     ]
    },
    {
     "name": "stderr",
     "output_type": "stream",
     "text": [
      "/usr/local/lib/python3.7/dist-packages/sklearn/model_selection/_split.py:296: FutureWarning: Setting a random_state has no effect since shuffle is False. This will raise an error in 0.24. You should leave random_state to its default (None), or set shuffle=True.\n",
      "  FutureWarning\n",
      "[Parallel(n_jobs=-1)]: Using backend LokyBackend with 2 concurrent workers.\n",
      "[Parallel(n_jobs=-1)]: Done  45 out of  45 | elapsed:    1.6s finished\n"
     ]
    },
    {
     "data": {
      "text/plain": [
       "GridSearchCV(cv=KFold(n_splits=5, random_state=42, shuffle=False),\n",
       "             error_score=nan,\n",
       "             estimator=LogisticRegression(C=1.0, class_weight=None, dual=False,\n",
       "                                          fit_intercept=True,\n",
       "                                          intercept_scaling=1, l1_ratio=None,\n",
       "                                          max_iter=100, multi_class='auto',\n",
       "                                          n_jobs=None, penalty='l1',\n",
       "                                          random_state=123, solver='liblinear',\n",
       "                                          tol=0.0001, verbose=0,\n",
       "                                          warm_start=False),\n",
       "             iid='deprecated', n_jobs=-1,\n",
       "             param_grid={'C': [1e-05, 0.0001, 0.001, 0.005, 0.01, 0.05, 0.1,\n",
       "                               0.5, 1]},\n",
       "             pre_dispatch='2*n_jobs', refit=True, return_train_score=False,\n",
       "             scoring=None, verbose=2)"
      ]
     },
     "execution_count": 69,
     "metadata": {
      "tags": []
     },
     "output_type": "execute_result"
    }
   ],
   "source": [
    "param_grid = {\n",
    "    'C': [0.00001,0.0001,0.001,0.005,0.01,0.05,0.1,0.5,1]\n",
    "}\n",
    "\n",
    "lr_grid = GridSearchCV(estimator = LogisticRegression(random_state = 123,solver = 'liblinear',penalty = 'l1'), param_grid = param_grid,\n",
    "                       cv = KFold(n_splits = 5, random_state = 42), \n",
    "                       n_jobs = -1, verbose = 2)\n",
    "lr_grid.fit(Xs_train_60, Y_train)"
   ]
  },
  {
   "cell_type": "code",
   "execution_count": null,
   "metadata": {
    "colab": {
     "base_uri": "https://localhost:8080/"
    },
    "id": "oUZhReL4MRw2",
    "outputId": "f6664efa-b4ff-41da-8d11-489e8a318d96"
   },
   "outputs": [
    {
     "data": {
      "text/plain": [
       "{'C': 0.1}"
      ]
     },
     "execution_count": 70,
     "metadata": {
      "tags": []
     },
     "output_type": "execute_result"
    }
   ],
   "source": [
    "lr_grid.best_params_"
   ]
  },
  {
   "cell_type": "code",
   "execution_count": null,
   "metadata": {
    "colab": {
     "base_uri": "https://localhost:8080/"
    },
    "id": "YSBn-0kN-jpt",
    "outputId": "d741ca0a-62b2-4123-fb81-bea4bbffcfaa"
   },
   "outputs": [
    {
     "data": {
      "text/plain": [
       "0.8"
      ]
     },
     "execution_count": 71,
     "metadata": {
      "tags": []
     },
     "output_type": "execute_result"
    }
   ],
   "source": [
    "lr_grid.best_score_"
   ]
  },
  {
   "cell_type": "markdown",
   "metadata": {
    "id": "COq8EqCMbp5Q"
   },
   "source": [
    "#### 2. Feature selection"
   ]
  },
  {
   "cell_type": "code",
   "execution_count": null,
   "metadata": {
    "colab": {
     "base_uri": "https://localhost:8080/"
    },
    "id": "0RSpu2jmbx3P",
    "outputId": "7341fbe4-bd88-4eda-a5c3-0ee41c8a4c2c"
   },
   "outputs": [
    {
     "name": "stderr",
     "output_type": "stream",
     "text": [
      "/usr/local/lib/python3.7/dist-packages/sklearn/model_selection/_split.py:296: FutureWarning: Setting a random_state has no effect since shuffle is False. This will raise an error in 0.24. You should leave random_state to its default (None), or set shuffle=True.\n",
      "  FutureWarning\n",
      "[Parallel(n_jobs=-1)]: Using backend LokyBackend with 2 concurrent workers.\n"
     ]
    },
    {
     "name": "stdout",
     "output_type": "stream",
     "text": [
      "Fitting 5 folds for each of 27 candidates, totalling 135 fits\n"
     ]
    },
    {
     "name": "stderr",
     "output_type": "stream",
     "text": [
      "[Parallel(n_jobs=-1)]: Done 135 out of 135 | elapsed:    1.3s finished\n"
     ]
    },
    {
     "data": {
      "text/plain": [
       "GridSearchCV(cv=KFold(n_splits=5, random_state=42, shuffle=False),\n",
       "             error_score=nan,\n",
       "             estimator=LogisticRegression(C=1.0, class_weight=None, dual=False,\n",
       "                                          fit_intercept=True,\n",
       "                                          intercept_scaling=1, l1_ratio=None,\n",
       "                                          max_iter=100, multi_class='auto',\n",
       "                                          n_jobs=None, penalty='l2',\n",
       "                                          random_state=123, solver='lbfgs',\n",
       "                                          tol=0.0001, verbose=0,\n",
       "                                          warm_start=False),\n",
       "             iid='deprecated', n_jobs=-1,\n",
       "             param_grid={'C': [1e-05, 0.0001, 0.001, 0.005, 0.01, 0.05, 0.1,\n",
       "                               0.5, 1],\n",
       "                         'solver': ['newton-cg', 'lbfgs', 'liblinear']},\n",
       "             pre_dispatch='2*n_jobs', refit=True, return_train_score=False,\n",
       "             scoring=None, verbose=2)"
      ]
     },
     "execution_count": 78,
     "metadata": {
      "tags": []
     },
     "output_type": "execute_result"
    }
   ],
   "source": [
    "param_grid = {\n",
    "    'C': [0.00001,0.0001,0.001,0.005,0.01,0.05,0.1,0.5,1],\n",
    "    'solver': ['newton-cg','lbfgs','liblinear']\n",
    "}\n",
    "\n",
    "lr_grid = GridSearchCV(estimator = LogisticRegression(random_state = 123), param_grid = param_grid,\n",
    "                       cv = KFold(n_splits = 5, random_state = 42), \n",
    "                       n_jobs = -1, verbose = 2)\n",
    "lr_grid.fit(Xs_train_60, Y_train)"
   ]
  },
  {
   "cell_type": "code",
   "execution_count": null,
   "metadata": {
    "colab": {
     "base_uri": "https://localhost:8080/"
    },
    "id": "41oM2bF-FH2X",
    "outputId": "591f25ce-9235-4d23-e9a8-f5f5337073c2"
   },
   "outputs": [
    {
     "data": {
      "text/plain": [
       "{'C': 0.05, 'solver': 'liblinear'}"
      ]
     },
     "execution_count": 79,
     "metadata": {
      "tags": []
     },
     "output_type": "execute_result"
    }
   ],
   "source": [
    "lr_grid.best_params_"
   ]
  },
  {
   "cell_type": "code",
   "execution_count": null,
   "metadata": {
    "colab": {
     "base_uri": "https://localhost:8080/"
    },
    "id": "GiFMQ3qhc0gG",
    "outputId": "ce44eddd-cd55-4505-9cd4-4466d7f14b43"
   },
   "outputs": [
    {
     "data": {
      "text/plain": [
       "0.8024691358024691"
      ]
     },
     "execution_count": 80,
     "metadata": {
      "tags": []
     },
     "output_type": "execute_result"
    }
   ],
   "source": [
    "lr_grid.best_score_"
   ]
  },
  {
   "cell_type": "markdown",
   "metadata": {
    "id": "K0QxdJfvhwFA"
   },
   "source": [
    "#### 3. Prediction"
   ]
  },
  {
   "cell_type": "code",
   "execution_count": 173,
   "metadata": {
    "colab": {
     "base_uri": "https://localhost:8080/"
    },
    "id": "eaNUn3t73WN-",
    "outputId": "9e3e2ca5-3eea-4b37-e417-25b98674653a"
   },
   "outputs": [
    {
     "name": "stdout",
     "output_type": "stream",
     "text": [
      "validation acc: 0.844262\n",
      "training acc: 0.823322\n"
     ]
    }
   ],
   "source": [
    "best_lr = LogisticRegression(random_state = 42,C = 0.05,solver = 'liblinear')\n",
    "\n",
    "best_lr.fit(Xs_tr_60,Y_tr)\n",
    "Y_pred = best_lr.predict(Xs_val_60)\n",
    "print('validation acc: %.6f' %(accuracy_score(Y_pred,Y_val)))\n",
    "\n",
    "Y_pred = best_lr.predict(Xs_tr_60)\n",
    "print('training acc: %.6f' %(accuracy_score(Y_pred,Y_tr)))"
   ]
  },
  {
   "cell_type": "code",
   "execution_count": 174,
   "metadata": {
    "id": "19w5SwYlFqTr"
   },
   "outputs": [],
   "source": [
    "best_lr.fit(Xs_train_60,Y_train)\n",
    "Y_pred = best_lr.predict(Xs_test_60)"
   ]
  },
  {
   "cell_type": "code",
   "execution_count": null,
   "metadata": {
    "id": "RffMsaSkiIAJ"
   },
   "outputs": [],
   "source": [
    "pd.DataFrame(Y_pred).to_csv('2017311974.csv',header = None)"
   ]
  },
  {
   "cell_type": "markdown",
   "metadata": {
    "id": "rXBXbyuRyU0T"
   },
   "source": [
    "### 3. SVC"
   ]
  },
  {
   "cell_type": "code",
   "execution_count": 68,
   "metadata": {
    "id": "27MI3KPXyR7e"
   },
   "outputs": [],
   "source": [
    "from sklearn.svm import SVC "
   ]
  },
  {
   "cell_type": "markdown",
   "metadata": {
    "id": "4P7aGiRfyhme"
   },
   "source": [
    "#### 1. Parameter Tuning - Grid Search"
   ]
  },
  {
   "cell_type": "code",
   "execution_count": null,
   "metadata": {
    "id": "bVN_w59nygYY"
   },
   "outputs": [],
   "source": [
    "param_grid = {\n",
    "    'C': [0.1,1,10,100,1000],\n",
    "    'gamma': [0.001,0.01,0.05,0.1,0.5,1],\n",
    "    'kernel': ['rbf','poly','sigmoid']\n",
    "}"
   ]
  },
  {
   "cell_type": "code",
   "execution_count": null,
   "metadata": {
    "colab": {
     "base_uri": "https://localhost:8080/"
    },
    "id": "XD8KZruAzK7E",
    "outputId": "e35495b9-e862-4df0-9a5f-55ff45a059dd"
   },
   "outputs": [
    {
     "name": "stderr",
     "output_type": "stream",
     "text": [
      "/usr/local/lib/python3.7/dist-packages/sklearn/model_selection/_split.py:296: FutureWarning: Setting a random_state has no effect since shuffle is False. This will raise an error in 0.24. You should leave random_state to its default (None), or set shuffle=True.\n",
      "  FutureWarning\n",
      "[Parallel(n_jobs=1)]: Using backend SequentialBackend with 1 concurrent workers.\n"
     ]
    },
    {
     "name": "stdout",
     "output_type": "stream",
     "text": [
      "Fitting 5 folds for each of 90 candidates, totalling 450 fits\n"
     ]
    },
    {
     "name": "stderr",
     "output_type": "stream",
     "text": [
      "[Parallel(n_jobs=1)]: Done 450 out of 450 | elapsed:    7.0s finished\n"
     ]
    },
    {
     "data": {
      "text/plain": [
       "GridSearchCV(cv=KFold(n_splits=5, random_state=42, shuffle=False),\n",
       "             error_score=nan,\n",
       "             estimator=SVC(C=1.0, break_ties=False, cache_size=200,\n",
       "                           class_weight=None, coef0=0.0,\n",
       "                           decision_function_shape='ovr', degree=3,\n",
       "                           gamma='scale', kernel='rbf', max_iter=-1,\n",
       "                           probability=False, random_state=123, shrinking=True,\n",
       "                           tol=0.001, verbose=False),\n",
       "             iid='deprecated', n_jobs=None,\n",
       "             param_grid={'C': [0.1, 1, 10, 100, 1000],\n",
       "                         'gamma': [0.001, 0.01, 0.05, 0.1, 0.5, 1],\n",
       "                         'kernel': ['rbf', 'poly', 'sigmoid']},\n",
       "             pre_dispatch='2*n_jobs', refit=True, return_train_score=False,\n",
       "             scoring=None, verbose=1)"
      ]
     },
     "execution_count": 89,
     "metadata": {
      "tags": []
     },
     "output_type": "execute_result"
    }
   ],
   "source": [
    "grid = GridSearchCV(SVC(random_state = 123),param_grid,refit = True,cv = KFold(n_splits = 5, random_state = 42),verbose = 1)\n",
    "grid.fit(Xs_train_60,Y_train)"
   ]
  },
  {
   "cell_type": "code",
   "execution_count": null,
   "metadata": {
    "colab": {
     "base_uri": "https://localhost:8080/"
    },
    "id": "tuDQlO8KzZEn",
    "outputId": "f950e1b6-f2d5-4ece-c5d5-58a073203d2e"
   },
   "outputs": [
    {
     "data": {
      "text/plain": [
       "{'C': 100, 'gamma': 0.001, 'kernel': 'rbf'}"
      ]
     },
     "execution_count": 90,
     "metadata": {
      "tags": []
     },
     "output_type": "execute_result"
    }
   ],
   "source": [
    "grid.best_params_"
   ]
  },
  {
   "cell_type": "code",
   "execution_count": null,
   "metadata": {
    "colab": {
     "base_uri": "https://localhost:8080/"
    },
    "id": "kfdHO5D2zbFY",
    "outputId": "49b1a3c8-9b6b-414b-8c1c-98dc4f11d065"
   },
   "outputs": [
    {
     "data": {
      "text/plain": [
       "0.8271604938271604"
      ]
     },
     "execution_count": 91,
     "metadata": {
      "tags": []
     },
     "output_type": "execute_result"
    }
   ],
   "source": [
    "grid.best_score_"
   ]
  },
  {
   "cell_type": "markdown",
   "metadata": {
    "id": "Sdn_1NH935-R"
   },
   "source": [
    "#### 2. Submission"
   ]
  },
  {
   "cell_type": "code",
   "execution_count": 192,
   "metadata": {
    "colab": {
     "base_uri": "https://localhost:8080/"
    },
    "id": "qM35udSID-jo",
    "outputId": "ed4243e8-db01-499a-d4bd-aa213c3e8245"
   },
   "outputs": [
    {
     "name": "stdout",
     "output_type": "stream",
     "text": [
      "validation acc: 0.860656\n",
      "training acc: 0.915194\n"
     ]
    }
   ],
   "source": [
    "best_svc = SVC(C = 100,kernel = 'rbf',gamma = 0.001,random_state = 123)\n",
    "\n",
    "best_svc.fit(Xs_tr_60,Y_tr)\n",
    "Y_pred = best_svc.predict(Xs_val_60)\n",
    "print('validation acc: %.6f' %(accuracy_score(Y_pred,Y_val)))\n",
    "\n",
    "Y_pred = best_svc.predict(Xs_tr_60)\n",
    "print('training acc: %.6f' %(accuracy_score(Y_pred,Y_tr)))"
   ]
  },
  {
   "cell_type": "code",
   "execution_count": null,
   "metadata": {
    "id": "UDkM-r1l3xAh"
   },
   "outputs": [],
   "source": [
    "# 85.1485\n",
    "best_svc = SVC(C = 100,kernel = 'rbf',gamma = 0.001,random_state = 123)\n",
    "\n",
    "best_svc.fit(Xs_train_60,Y_train)\n",
    "Y_pred = best_svc.predict(Xs_test_60)"
   ]
  },
  {
   "cell_type": "code",
   "execution_count": null,
   "metadata": {
    "id": "wtRHSpL134Ei"
   },
   "outputs": [],
   "source": [
    "pd.DataFrame(Y_pred).to_csv('2017311974.csv',header = None)"
   ]
  },
  {
   "cell_type": "code",
   "execution_count": null,
   "metadata": {
    "colab": {
     "base_uri": "https://localhost:8080/"
    },
    "id": "UqJ01NmJ48BR",
    "outputId": "190f87c3-269c-4783-bc82-5ff85780c045"
   },
   "outputs": [
    {
     "name": "stdout",
     "output_type": "stream",
     "text": [
      "0.9160493827160494\n"
     ]
    }
   ],
   "source": [
    "y_pred = best_svc.predict(Xs_train_60)\n",
    "print(accuracy_score(Y_train,y_pred))"
   ]
  },
  {
   "cell_type": "markdown",
   "metadata": {
    "id": "6e5vxYnWXx-2"
   },
   "source": [
    "### 4. LGBM"
   ]
  },
  {
   "cell_type": "code",
   "execution_count": 176,
   "metadata": {
    "id": "fF3cdXxlnVTd"
   },
   "outputs": [],
   "source": [
    "from lightgbm import LGBMClassifier as lgb"
   ]
  },
  {
   "cell_type": "markdown",
   "metadata": {
    "id": "WHM012vQm54F"
   },
   "source": [
    "#### 1. Parameter Tuning - Bayesian Optimization"
   ]
  },
  {
   "cell_type": "code",
   "execution_count": null,
   "metadata": {
    "id": "d-5n8VMOO5KG"
   },
   "outputs": [],
   "source": [
    "params =   {\n",
    "       'num_leaves': (10, 1000),        # num_leaves,       범위(16~1024)\n",
    "       'learning_rate': (0.001, 0.1),  # learning_rate,    범위(0.0001~0.1)\n",
    "       'n_estimators': (50, 1000),      # n_estimators,     범위(16~1024)\n",
    "       'max_bin': (100,1000),\n",
    "       'subsample': (0, 1),             # subsample,        범위(0~1)\n",
    "       'colsample_bytree': (0.7,0.9),      # colsample_bytree, 범위(0~1)\n",
    "       'reg_alpha': (0, 0.1),            # reg_alpha,        범위(0~10)\n",
    "       'reg_lambda': (0, 0.1),          # reg_lambda,       범위(0~50)\n",
    "       'bagging_fraction':(0.8,1),\n",
    "       'feature_fraction':(0.1,0.9),\n",
    "       'max_depth': (-1, 10),\n",
    "       'min_split_gain': (0.001,0.1),\n",
    "       'min_child_weight': (5,50)\n",
    "        } "
   ]
  },
  {
   "cell_type": "code",
   "execution_count": null,
   "metadata": {
    "id": "CewjmJuHO6Bu"
   },
   "outputs": [],
   "source": [
    "lgb_bayes_cv = BayesSearchCV(\n",
    "    estimator = lgb(random_state = 123, objective = 'binary',num_iterations = 1000),\n",
    "    search_spaces = params,\n",
    "    scoring = 'accuracy',\n",
    "    cv = KFold(n_splits = 5, random_state = 42),\n",
    "    n_iter = 30, # iteration 더 올릴 수 있음\n",
    "    return_train_score = False,\n",
    "    refit = True,\n",
    "    optimizer_kwargs = {'base_estimator':'GP'},\n",
    "    random_state = 123\n",
    ")"
   ]
  },
  {
   "cell_type": "code",
   "execution_count": null,
   "metadata": {
    "id": "iEHsaWZiPCfO"
   },
   "outputs": [],
   "source": [
    "result_lgbm = lgb_bayes_cv.fit(Xs_train_60,Y_train)"
   ]
  },
  {
   "cell_type": "code",
   "execution_count": null,
   "metadata": {
    "colab": {
     "base_uri": "https://localhost:8080/"
    },
    "id": "LKnfwPYIPRIX",
    "outputId": "d6e3b90e-f4c2-4c22-8cd4-66964d33cd52"
   },
   "outputs": [
    {
     "data": {
      "text/plain": [
       "OrderedDict([('bagging_fraction', 0.8),\n",
       "             ('colsample_bytree', 0.9),\n",
       "             ('feature_fraction', 0.1),\n",
       "             ('learning_rate', 0.1),\n",
       "             ('max_bin', 100),\n",
       "             ('max_depth', 10),\n",
       "             ('min_child_weight', 5),\n",
       "             ('min_split_gain', 0.001),\n",
       "             ('n_estimators', 1000),\n",
       "             ('num_leaves', 10),\n",
       "             ('reg_alpha', 0.1),\n",
       "             ('reg_lambda', 0.1),\n",
       "             ('subsample', 1)])"
      ]
     },
     "execution_count": 138,
     "metadata": {
      "tags": []
     },
     "output_type": "execute_result"
    }
   ],
   "source": [
    "result_lgbm.best_params_"
   ]
  },
  {
   "cell_type": "code",
   "execution_count": null,
   "metadata": {
    "colab": {
     "base_uri": "https://localhost:8080/"
    },
    "id": "efZICVGUPTRH",
    "outputId": "d9622493-095d-4941-fff2-7d8fd484a45e"
   },
   "outputs": [
    {
     "data": {
      "text/plain": [
       "0.8148148148148149"
      ]
     },
     "execution_count": 139,
     "metadata": {
      "tags": []
     },
     "output_type": "execute_result"
    }
   ],
   "source": [
    "result_lgbm.best_score_"
   ]
  },
  {
   "cell_type": "markdown",
   "metadata": {
    "id": "Gg2pFEckPYuh"
   },
   "source": [
    "#### 2. Parameter Tuning - Grid Search"
   ]
  },
  {
   "cell_type": "code",
   "execution_count": null,
   "metadata": {
    "id": "iRLC5anEsZ6L"
   },
   "outputs": [],
   "source": [
    "bayes_params = {\n",
    "    'bagging_fraction': 0.8,\n",
    "    'colsample_bytree': 0.9,\n",
    "    'feature_fraction': 0.1,\n",
    "    'learning_rate': 0.1,\n",
    "    'max_bin': 100,\n",
    "    'max_depth': 10,\n",
    "    'min_child_weight': 5,\n",
    "    'min_split_gain': 0.001,\n",
    "    'n_estimators': 1000,\n",
    "    'num_leaves': 10,\n",
    "    'reg_alpha': 0.1,\n",
    "    'reg_lambda': 0.1,\n",
    "    'subsample': 1\n",
    "}"
   ]
  },
  {
   "cell_type": "code",
   "execution_count": null,
   "metadata": {
    "id": "IJcw_mg3aIG0"
   },
   "outputs": [],
   "source": [
    "params1 = {\n",
    "    'learning_rate': [0.001,0.005,0.01,0.05,0.1],\n",
    "    'n_estimators': [600,700,800,900,1000],\n",
    "    'max_depth': [6,7,8,9,10,11],\n",
    "    'num_leaves': [10,20,30]\n",
    "}"
   ]
  },
  {
   "cell_type": "code",
   "execution_count": null,
   "metadata": {
    "id": "pknKsfvis31h"
   },
   "outputs": [],
   "source": [
    "mdl = lgb(objective = 'binary', \n",
    "          silent = True,\n",
    "          max_bin = bayes_params['max_bin'], \n",
    "          subsample = bayes_params['subsample'], \n",
    "          min_child_weight = bayes_params['min_child_weight'],\n",
    "          min_split_gain = bayes_params['min_split_gain'], \n",
    "          bagging_fraction = bayes_params['bagging_fraction'],\n",
    "          colsample_bytree = bayes_params['colsample_bytree'],\n",
    "          feature_fraction = bayes_params['feature_fraction'],\n",
    "          reg_alpha = bayes_params['reg_alpha'],\n",
    "          reg_lambda = bayes_params['reg_lambda'],\n",
    "          random_state = 123\n",
    "          )\n",
    "\n",
    "grid = GridSearchCV(mdl, params1, verbose=1, cv = KFold(n_splits = 5, random_state = 42), n_jobs=-1)"
   ]
  },
  {
   "cell_type": "code",
   "execution_count": null,
   "metadata": {
    "colab": {
     "base_uri": "https://localhost:8080/"
    },
    "id": "B2xs_6_huUe8",
    "outputId": "dbdbf6de-ee06-4544-a365-2a408f3005a0"
   },
   "outputs": [
    {
     "name": "stdout",
     "output_type": "stream",
     "text": [
      "Fitting 5 folds for each of 450 candidates, totalling 2250 fits\n"
     ]
    },
    {
     "name": "stderr",
     "output_type": "stream",
     "text": [
      "[Parallel(n_jobs=-1)]: Using backend LokyBackend with 2 concurrent workers.\n",
      "[Parallel(n_jobs=-1)]: Done  46 tasks      | elapsed:    6.6s\n",
      "[Parallel(n_jobs=-1)]: Done 196 tasks      | elapsed:   30.7s\n",
      "[Parallel(n_jobs=-1)]: Done 446 tasks      | elapsed:  1.2min\n",
      "[Parallel(n_jobs=-1)]: Done 796 tasks      | elapsed:  2.0min\n",
      "[Parallel(n_jobs=-1)]: Done 1246 tasks      | elapsed:  3.0min\n",
      "[Parallel(n_jobs=-1)]: Done 1796 tasks      | elapsed:  3.9min\n",
      "[Parallel(n_jobs=-1)]: Done 2250 out of 2250 | elapsed:  4.5min finished\n"
     ]
    },
    {
     "data": {
      "text/plain": [
       "GridSearchCV(cv=KFold(n_splits=5, random_state=42, shuffle=False),\n",
       "             error_score=nan,\n",
       "             estimator=LGBMClassifier(bagging_fraction=0.8,\n",
       "                                      boosting_type='gbdt', class_weight=None,\n",
       "                                      colsample_bytree=0.9,\n",
       "                                      feature_fraction=0.1,\n",
       "                                      importance_type='split',\n",
       "                                      learning_rate=0.1, max_bin=100,\n",
       "                                      max_depth=-1, min_child_samples=20,\n",
       "                                      min_child_weight=5, min_split_gain=0.001,\n",
       "                                      n_estimators=10...\n",
       "                                      random_state=123, reg_alpha=0.1,\n",
       "                                      reg_lambda=0.1, silent=True, subsample=1,\n",
       "                                      subsample_for_bin=200000,\n",
       "                                      subsample_freq=0),\n",
       "             iid='deprecated', n_jobs=-1,\n",
       "             param_grid={'learning_rate': [0.001, 0.005, 0.01, 0.05, 0.1],\n",
       "                         'max_depth': [6, 7, 8, 9, 10, 11],\n",
       "                         'n_estimators': [600, 700, 800, 900, 1000],\n",
       "                         'num_leaves': [10, 20, 30]},\n",
       "             pre_dispatch='2*n_jobs', refit=True, return_train_score=False,\n",
       "             scoring=None, verbose=1)"
      ]
     },
     "execution_count": 148,
     "metadata": {
      "tags": []
     },
     "output_type": "execute_result"
    }
   ],
   "source": [
    "grid.fit(Xs_train_60,Y_train)"
   ]
  },
  {
   "cell_type": "code",
   "execution_count": null,
   "metadata": {
    "colab": {
     "base_uri": "https://localhost:8080/"
    },
    "id": "N9X20N4OuZLK",
    "outputId": "3bf4bf07-3ddd-4413-eb21-f2bdc8c5a24e"
   },
   "outputs": [
    {
     "data": {
      "text/plain": [
       "{'learning_rate': 0.1, 'max_depth': 6, 'n_estimators': 600, 'num_leaves': 20}"
      ]
     },
     "execution_count": 149,
     "metadata": {
      "tags": []
     },
     "output_type": "execute_result"
    }
   ],
   "source": [
    "grid.best_params_"
   ]
  },
  {
   "cell_type": "code",
   "execution_count": null,
   "metadata": {
    "colab": {
     "base_uri": "https://localhost:8080/"
    },
    "id": "OB5uTdcTufWr",
    "outputId": "eee153c7-90fe-4ba1-ba32-9899738dff22"
   },
   "outputs": [
    {
     "data": {
      "text/plain": [
       "0.8246913580246913"
      ]
     },
     "execution_count": 150,
     "metadata": {
      "tags": []
     },
     "output_type": "execute_result"
    }
   ],
   "source": [
    "grid.best_score_"
   ]
  },
  {
   "cell_type": "code",
   "execution_count": null,
   "metadata": {
    "id": "HhrCPOL2naqK"
   },
   "outputs": [],
   "source": [
    "params2 =   {\n",
    "       'max_bin': [100,200],\n",
    "       'colsample_bytree': [0.8,0.9],      # colsample_bytree, 범위(0~1)\n",
    "       'reg_alpha': [0.05,0.08,0.1],            # reg_alpha,        범위(0~10)\n",
    "       'reg_lambda': [0.05,0.08,0.1],          # reg_lambda,       범위(0~50)\n",
    "       'min_child_weight': [5,10],\n",
    "       'feature_fraction': [0.1,0.2],\n",
    "       'min_split_gain': [0.001,0.005,0.01],\n",
    "       'subsample': [0.9,1],\n",
    "       'bagging_fraction': [0.8,0.85]\n",
    "        } "
   ]
  },
  {
   "cell_type": "code",
   "execution_count": null,
   "metadata": {
    "id": "Sp0Lx80jvXxq"
   },
   "outputs": [],
   "source": [
    "mdl = lgb(boosting_type= 'gbdt', \n",
    "          objective = 'binary', \n",
    "          silent = True,\n",
    "          n_estimators = 600,\n",
    "          learning_rate = 0.1,\n",
    "          max_depth = 6,\n",
    "          num_leaves = 20,\n",
    "          random_state = 123\n",
    "          )\n",
    "\n",
    "grid = GridSearchCV(mdl, params2, verbose=1, cv = KFold(n_splits = 5, random_state = 42), n_jobs=-1)"
   ]
  },
  {
   "cell_type": "code",
   "execution_count": null,
   "metadata": {
    "colab": {
     "base_uri": "https://localhost:8080/"
    },
    "id": "6m9BvYZAvpQS",
    "outputId": "75ac6c7e-16df-45f4-8db6-5bad2de9f7c2"
   },
   "outputs": [
    {
     "name": "stdout",
     "output_type": "stream",
     "text": [
      "Fitting 5 folds for each of 1728 candidates, totalling 8640 fits\n"
     ]
    },
    {
     "name": "stderr",
     "output_type": "stream",
     "text": [
      "[Parallel(n_jobs=-1)]: Using backend LokyBackend with 2 concurrent workers.\n",
      "[Parallel(n_jobs=-1)]: Done  46 tasks      | elapsed:    4.0s\n",
      "[Parallel(n_jobs=-1)]: Done 196 tasks      | elapsed:   13.3s\n",
      "[Parallel(n_jobs=-1)]: Done 446 tasks      | elapsed:   27.5s\n",
      "[Parallel(n_jobs=-1)]: Done 796 tasks      | elapsed:   48.8s\n",
      "[Parallel(n_jobs=-1)]: Done 1246 tasks      | elapsed:  1.3min\n",
      "[Parallel(n_jobs=-1)]: Done 1796 tasks      | elapsed:  2.0min\n",
      "[Parallel(n_jobs=-1)]: Done 2446 tasks      | elapsed:  2.7min\n",
      "[Parallel(n_jobs=-1)]: Done 3196 tasks      | elapsed:  3.4min\n",
      "[Parallel(n_jobs=-1)]: Done 4046 tasks      | elapsed:  4.5min\n",
      "[Parallel(n_jobs=-1)]: Done 4996 tasks      | elapsed:  5.5min\n",
      "[Parallel(n_jobs=-1)]: Done 6046 tasks      | elapsed:  6.7min\n",
      "[Parallel(n_jobs=-1)]: Done 7196 tasks      | elapsed:  7.9min\n",
      "[Parallel(n_jobs=-1)]: Done 8446 tasks      | elapsed:  9.3min\n",
      "[Parallel(n_jobs=-1)]: Done 8640 out of 8640 | elapsed:  9.6min finished\n"
     ]
    },
    {
     "data": {
      "text/plain": [
       "GridSearchCV(cv=KFold(n_splits=5, random_state=42, shuffle=False),\n",
       "             error_score=nan,\n",
       "             estimator=LGBMClassifier(boosting_type='gbdt', class_weight=None,\n",
       "                                      colsample_bytree=1.0,\n",
       "                                      importance_type='split',\n",
       "                                      learning_rate=0.1, max_depth=6,\n",
       "                                      min_child_samples=20,\n",
       "                                      min_child_weight=0.001,\n",
       "                                      min_split_gain=0.0, n_estimators=600,\n",
       "                                      n_jobs=-1, num_leaves=20,\n",
       "                                      objective='binary', random_s...\n",
       "             iid='deprecated', n_jobs=-1,\n",
       "             param_grid={'bagging_fraction': [0.8, 0.85],\n",
       "                         'colsample_bytree': [0.8, 0.9],\n",
       "                         'feature_fraction': [0.1, 0.2], 'max_bin': [100, 200],\n",
       "                         'min_child_weight': [5, 10],\n",
       "                         'min_split_gain': [0.001, 0.005, 0.01],\n",
       "                         'reg_alpha': [0.05, 0.08, 0.1],\n",
       "                         'reg_lambda': [0.05, 0.08, 0.1],\n",
       "                         'subsample': [0.9, 1]},\n",
       "             pre_dispatch='2*n_jobs', refit=True, return_train_score=False,\n",
       "             scoring=None, verbose=1)"
      ]
     },
     "execution_count": 157,
     "metadata": {
      "tags": []
     },
     "output_type": "execute_result"
    }
   ],
   "source": [
    "grid.fit(Xs_train_60,Y_train)"
   ]
  },
  {
   "cell_type": "code",
   "execution_count": null,
   "metadata": {
    "colab": {
     "base_uri": "https://localhost:8080/"
    },
    "id": "SnLKzJggvrag",
    "outputId": "58df8813-8b5e-43d9-d500-df3916d5c60d"
   },
   "outputs": [
    {
     "data": {
      "text/plain": [
       "{'bagging_fraction': 0.8,\n",
       " 'colsample_bytree': 0.8,\n",
       " 'feature_fraction': 0.1,\n",
       " 'max_bin': 100,\n",
       " 'min_child_weight': 5,\n",
       " 'min_split_gain': 0.001,\n",
       " 'reg_alpha': 0.08,\n",
       " 'reg_lambda': 0.1,\n",
       " 'subsample': 0.9}"
      ]
     },
     "execution_count": 158,
     "metadata": {
      "tags": []
     },
     "output_type": "execute_result"
    }
   ],
   "source": [
    "grid.best_params_"
   ]
  },
  {
   "cell_type": "code",
   "execution_count": null,
   "metadata": {
    "colab": {
     "base_uri": "https://localhost:8080/"
    },
    "id": "Pgfqxikevsnh",
    "outputId": "6a76f8ff-da21-406b-dc50-b3b0b70bc0ed"
   },
   "outputs": [
    {
     "data": {
      "text/plain": [
       "0.837037037037037"
      ]
     },
     "execution_count": 159,
     "metadata": {
      "tags": []
     },
     "output_type": "execute_result"
    }
   ],
   "source": [
    "grid.best_score_"
   ]
  },
  {
   "cell_type": "markdown",
   "metadata": {
    "id": "vVlroSDbjVnw"
   },
   "source": [
    "#### 3. Submission"
   ]
  },
  {
   "cell_type": "code",
   "execution_count": 177,
   "metadata": {
    "colab": {
     "base_uri": "https://localhost:8080/"
    },
    "id": "zN3OTepgHnMA",
    "outputId": "2b05fcaa-fc7f-4c65-a888-534ec76b61fe"
   },
   "outputs": [
    {
     "name": "stdout",
     "output_type": "stream",
     "text": [
      "validation acc: 0.803279\n",
      "training acc: 0.996466\n"
     ]
    }
   ],
   "source": [
    "best_lgb = lgb(objective = 'binary', \n",
    "          silent = True,\n",
    "          n_estimators = 600,\n",
    "          learning_rate = 0.1,\n",
    "          max_depth = 6,\n",
    "          num_leaves = 20,\n",
    "          colsample_bytree = 0.8,\n",
    "          feature_fraction = 0.1,\n",
    "          bagging_fraction = 0.8,\n",
    "          max_bin = 100,\n",
    "          min_child_weight = 5,\n",
    "          min_split_gain = 0.001,\n",
    "          reg_alpha = 0.08,\n",
    "          reg_lambda = 0.1,\n",
    "          subsample = 0.9,\n",
    "          random_state = 123\n",
    "          )\n",
    "\n",
    "best_lgb.fit(Xs_tr_60,Y_tr)\n",
    "Y_pred = best_lgb.predict(Xs_val_60)\n",
    "print('validation acc: %.6f' %(accuracy_score(Y_pred,Y_val)))\n",
    "\n",
    "Y_pred = best_lgb.predict(Xs_tr_60)\n",
    "print('training acc: %.6f' %(accuracy_score(Y_pred,Y_tr)))"
   ]
  },
  {
   "cell_type": "code",
   "execution_count": null,
   "metadata": {
    "id": "ZZj9yaTni72h"
   },
   "outputs": [],
   "source": [
    "# 85.1485\n",
    "best_lgb = lgb(objective = 'binary', \n",
    "          silent = True,\n",
    "          n_estimators = 600,\n",
    "          learning_rate = 0.1,\n",
    "          max_depth = 6,\n",
    "          num_leaves = 20,\n",
    "          colsample_bytree = 0.8,\n",
    "          feature_fraction = 0.1,\n",
    "          bagging_fraction = 0.8,\n",
    "          max_bin = 100,\n",
    "          min_child_weight = 5,\n",
    "          min_split_gain = 0.001,\n",
    "          reg_alpha = 0.08,\n",
    "          reg_lambda = 0.1,\n",
    "          subsample = 0.9,\n",
    "          random_state = 123\n",
    "          )\n",
    "\n",
    "best_lgb.fit(Xs_train_60,Y_train)\n",
    "Y_pred = best_lgb.predict(Xs_test_60)"
   ]
  },
  {
   "cell_type": "code",
   "execution_count": null,
   "metadata": {
    "id": "E4CrHZOXitOq"
   },
   "outputs": [],
   "source": [
    "pd.DataFrame(Y_pred).to_csv('2017311974.csv',header = None)"
   ]
  },
  {
   "cell_type": "code",
   "execution_count": null,
   "metadata": {
    "colab": {
     "base_uri": "https://localhost:8080/"
    },
    "id": "MUyO-YrwSf8c",
    "outputId": "cb5f809b-0655-4772-eb94-4925b3b3d45b"
   },
   "outputs": [
    {
     "name": "stdout",
     "output_type": "stream",
     "text": [
      "1.0\n"
     ]
    }
   ],
   "source": [
    "best_lgb.fit(Xs_train_60,Y_train)\n",
    "y_pred = best_lgb.predict(Xs_train_60)\n",
    "print(accuracy_score(Y_train,y_pred))"
   ]
  },
  {
   "cell_type": "markdown",
   "metadata": {
    "id": "wG0zpLzU_Nfo"
   },
   "source": [
    "### 5. Gradient Boosting Classifier"
   ]
  },
  {
   "cell_type": "code",
   "execution_count": 178,
   "metadata": {
    "id": "ruw0Gl238aMN"
   },
   "outputs": [],
   "source": [
    "from sklearn.ensemble import GradientBoostingClassifier"
   ]
  },
  {
   "cell_type": "markdown",
   "metadata": {
    "id": "ePPkjAb6-EHl"
   },
   "source": [
    "#### 1. Parameter Tuning - Bayesian Optimization"
   ]
  },
  {
   "cell_type": "code",
   "execution_count": null,
   "metadata": {
    "id": "1PI2TQ8K_Rtd"
   },
   "outputs": [],
   "source": [
    "params = {\n",
    "    'learning_rate': [0.001,0.005,0.01,0.05,0.1],\n",
    "    'n_estimators':[100,200,300,400,500,600,700,800,900,1000],\n",
    "    'max_features':['log2','sqrt'],\n",
    "    'max_depth':[1,2,3],\n",
    "    'min_samples_split':Integer(2,20),\n",
    "    'min_samples_leaf':Integer(1,10),\n",
    "    'subsample': [0.7,0.75,0.8,0.85,0.9,0.95,1]\n",
    "}"
   ]
  },
  {
   "cell_type": "code",
   "execution_count": null,
   "metadata": {
    "id": "vj5q3MmR84jE"
   },
   "outputs": [],
   "source": [
    "bayes_gb = BayesSearchCV(\n",
    "    estimator = GradientBoostingClassifier(random_state = 123),\n",
    "    search_spaces = params,\n",
    "    scoring = 'accuracy',\n",
    "    cv = KFold(n_splits = 5, random_state = 42),\n",
    "    n_iter = 30,\n",
    "    n_jobs = 1,\n",
    "    return_train_score = False,\n",
    "    refit = True,\n",
    "    optimizer_kwargs = {'base_estimator':'GP'},\n",
    "    random_state = 123\n",
    ")"
   ]
  },
  {
   "cell_type": "code",
   "execution_count": null,
   "metadata": {
    "id": "6d-thzDK856j"
   },
   "outputs": [],
   "source": [
    "result_gb = bayes_gb.fit(Xs_train_60,Y_train)"
   ]
  },
  {
   "cell_type": "code",
   "execution_count": null,
   "metadata": {
    "colab": {
     "base_uri": "https://localhost:8080/"
    },
    "id": "aVwCY9Hn88a7",
    "outputId": "3380903e-cb28-4e1d-b58d-f2b98802ade6"
   },
   "outputs": [
    {
     "data": {
      "text/plain": [
       "OrderedDict([('learning_rate', 0.1),\n",
       "             ('max_depth', 3),\n",
       "             ('max_features', 'log2'),\n",
       "             ('min_samples_leaf', 3),\n",
       "             ('min_samples_split', 16),\n",
       "             ('n_estimators', 1000),\n",
       "             ('subsample', 1.0)])"
      ]
     },
     "execution_count": 205,
     "metadata": {
      "tags": []
     },
     "output_type": "execute_result"
    }
   ],
   "source": [
    "result_gb.best_params_"
   ]
  },
  {
   "cell_type": "code",
   "execution_count": null,
   "metadata": {
    "colab": {
     "base_uri": "https://localhost:8080/"
    },
    "id": "COMwzZFQ8-gq",
    "outputId": "a3a264c5-f47b-4d23-98e5-7f11b3637d29"
   },
   "outputs": [
    {
     "data": {
      "text/plain": [
       "0.8148148148148147"
      ]
     },
     "execution_count": 206,
     "metadata": {
      "tags": []
     },
     "output_type": "execute_result"
    }
   ],
   "source": [
    "result_gb.best_score_"
   ]
  },
  {
   "cell_type": "markdown",
   "metadata": {
    "id": "vcZ2nz2v-MGU"
   },
   "source": [
    "#### 2. Paramter Tuning - Grid Search"
   ]
  },
  {
   "cell_type": "code",
   "execution_count": null,
   "metadata": {
    "id": "FijDIeTyAKx0"
   },
   "outputs": [],
   "source": [
    "bayes_params = {\n",
    "    'learning_rate': 0.1,\n",
    "    'max_depth': 3,\n",
    "    'max_features': 'log2',\n",
    "    'min_samples_leaf': 3,\n",
    "    'min_samples_split': 16,\n",
    "    'n_estimators': 1000,\n",
    "    'subsample': 1.0\n",
    "}"
   ]
  },
  {
   "cell_type": "code",
   "execution_count": null,
   "metadata": {
    "id": "RwNqOp4u-Oji"
   },
   "outputs": [],
   "source": [
    "param_grid = {\n",
    "    'n_estimators':[800,900,1000],\n",
    "    'learning_rate': [0.01,0.05,0.1],\n",
    "    'max_depth': [2,3,4],\n",
    "    'max_features': ['log2'],\n",
    "    'min_samples_split': [14,16,18],\n",
    "    'min_samples_leaf': [2,3,4],\n",
    "    'subsample': [0.9,1]\n",
    "}"
   ]
  },
  {
   "cell_type": "code",
   "execution_count": null,
   "metadata": {
    "colab": {
     "base_uri": "https://localhost:8080/"
    },
    "id": "wervsZ6D-RXM",
    "outputId": "a9577371-8b0e-425c-e5d1-b0745741d721"
   },
   "outputs": [
    {
     "name": "stdout",
     "output_type": "stream",
     "text": [
      "Fitting 5 folds for each of 486 candidates, totalling 2430 fits\n"
     ]
    },
    {
     "name": "stderr",
     "output_type": "stream",
     "text": [
      "[Parallel(n_jobs=-1)]: Using backend LokyBackend with 2 concurrent workers.\n",
      "[Parallel(n_jobs=-1)]: Done  37 tasks      | elapsed:   21.4s\n",
      "[Parallel(n_jobs=-1)]: Done 158 tasks      | elapsed:  1.4min\n",
      "[Parallel(n_jobs=-1)]: Done 361 tasks      | elapsed:  3.5min\n",
      "[Parallel(n_jobs=-1)]: Done 644 tasks      | elapsed:  6.8min\n",
      "[Parallel(n_jobs=-1)]: Done 1009 tasks      | elapsed: 10.9min\n",
      "[Parallel(n_jobs=-1)]: Done 1454 tasks      | elapsed: 15.6min\n",
      "[Parallel(n_jobs=-1)]: Done 1981 tasks      | elapsed: 20.7min\n",
      "[Parallel(n_jobs=-1)]: Done 2430 out of 2430 | elapsed: 24.3min finished\n"
     ]
    },
    {
     "data": {
      "text/plain": [
       "GridSearchCV(cv=KFold(n_splits=5, random_state=42, shuffle=False),\n",
       "             error_score=nan,\n",
       "             estimator=GradientBoostingClassifier(ccp_alpha=0.0,\n",
       "                                                  criterion='friedman_mse',\n",
       "                                                  init=None, learning_rate=0.1,\n",
       "                                                  loss='deviance', max_depth=3,\n",
       "                                                  max_features=None,\n",
       "                                                  max_leaf_nodes=None,\n",
       "                                                  min_impurity_decrease=0.0,\n",
       "                                                  min_impurity_split=None,\n",
       "                                                  min_samples_leaf=1,\n",
       "                                                  min_samples_split=2,\n",
       "                                                  min_weight_...\n",
       "                                                  validation_fraction=0.1,\n",
       "                                                  verbose=0, warm_start=False),\n",
       "             iid='deprecated', n_jobs=-1,\n",
       "             param_grid={'learning_rate': [0.01, 0.05, 0.1],\n",
       "                         'max_depth': [2, 3, 4], 'max_features': ['log2'],\n",
       "                         'min_samples_leaf': [2, 3, 4],\n",
       "                         'min_samples_split': [14, 16, 18],\n",
       "                         'n_estimators': [800, 900, 1000],\n",
       "                         'subsample': [0.9, 1]},\n",
       "             pre_dispatch='2*n_jobs', refit=True, return_train_score=False,\n",
       "             scoring=None, verbose=2)"
      ]
     },
     "execution_count": 214,
     "metadata": {
      "tags": []
     },
     "output_type": "execute_result"
    }
   ],
   "source": [
    "gb_grid = GridSearchCV(estimator = GradientBoostingClassifier(random_state = 123), param_grid = param_grid,\n",
    "                       cv = KFold(n_splits = 5, random_state = 42), \n",
    "                       n_jobs = -1, verbose = 2)\n",
    "gb_grid.fit(Xs_train_60, Y_train)"
   ]
  },
  {
   "cell_type": "code",
   "execution_count": null,
   "metadata": {
    "colab": {
     "base_uri": "https://localhost:8080/"
    },
    "id": "QGYq5oqu-T_l",
    "outputId": "07a64976-a8eb-4c80-ce3d-3fc16509946b"
   },
   "outputs": [
    {
     "data": {
      "text/plain": [
       "{'learning_rate': 0.1,\n",
       " 'max_depth': 2,\n",
       " 'max_features': 'log2',\n",
       " 'min_samples_leaf': 2,\n",
       " 'min_samples_split': 14,\n",
       " 'n_estimators': 1000,\n",
       " 'subsample': 0.9}"
      ]
     },
     "execution_count": 215,
     "metadata": {
      "tags": []
     },
     "output_type": "execute_result"
    }
   ],
   "source": [
    "gb_grid.best_params_"
   ]
  },
  {
   "cell_type": "code",
   "execution_count": null,
   "metadata": {
    "colab": {
     "base_uri": "https://localhost:8080/"
    },
    "id": "HwmhdD1B-WcW",
    "outputId": "f3f28e42-2ed4-4912-8347-1f5e58699316"
   },
   "outputs": [
    {
     "data": {
      "text/plain": [
       "0.8222222222222222"
      ]
     },
     "execution_count": 216,
     "metadata": {
      "tags": []
     },
     "output_type": "execute_result"
    }
   ],
   "source": [
    "gb_grid.best_score_"
   ]
  },
  {
   "cell_type": "markdown",
   "metadata": {
    "id": "NwMi1eeSHa4W"
   },
   "source": [
    "#### 3. Submission"
   ]
  },
  {
   "cell_type": "code",
   "execution_count": 179,
   "metadata": {
    "colab": {
     "base_uri": "https://localhost:8080/"
    },
    "id": "j6aJkTjRH0sP",
    "outputId": "2e44ba47-fd8d-4b6c-fd5e-441fd2adc6a6"
   },
   "outputs": [
    {
     "name": "stdout",
     "output_type": "stream",
     "text": [
      "validation acc: 0.827869\n",
      "training acc: 1.000000\n"
     ]
    }
   ],
   "source": [
    "bayes_params = {\n",
    "    'learning_rate': 0.1, # updated\n",
    "    'max_depth': 2, # updated\n",
    "    'max_features': 'log2', # updated\n",
    "    'min_samples_leaf': 2, # updated\n",
    "    'min_samples_split': 14, # updated\n",
    "    'n_estimators': 1000, # updated\n",
    "    'subsample': 0.9 # updated\n",
    "}\n",
    "\n",
    "best_gb = GradientBoostingClassifier(\n",
    "    random_state = 123,\n",
    "    learning_rate = bayes_params['learning_rate'],\n",
    "    n_estimators = bayes_params['n_estimators'],\n",
    "    max_features = bayes_params['max_features'],\n",
    "    max_depth = bayes_params['max_depth'],\n",
    "    min_samples_leaf = bayes_params['min_samples_leaf'],\n",
    "    min_samples_split = bayes_params['min_samples_split'],\n",
    "    subsample = bayes_params['subsample']\n",
    ")\n",
    "\n",
    "best_gb.fit(Xs_tr_60,Y_tr)\n",
    "Y_pred = best_gb.predict(Xs_val_60)\n",
    "print('validation acc: %.6f' %(accuracy_score(Y_pred,Y_val)))\n",
    "\n",
    "Y_pred = best_gb.predict(Xs_tr_60)\n",
    "print('training acc: %.6f' %(accuracy_score(Y_pred,Y_tr)))"
   ]
  },
  {
   "cell_type": "code",
   "execution_count": null,
   "metadata": {
    "id": "wD8hZYwvHcem"
   },
   "outputs": [],
   "source": [
    "# 81.1881\n",
    "bayes_params = {\n",
    "    'learning_rate': 0.1, # updated\n",
    "    'max_depth': 2, # updated\n",
    "    'max_features': 'log2', # updated\n",
    "    'min_samples_leaf': 2, # updated\n",
    "    'min_samples_split': 14, # updated\n",
    "    'n_estimators': 1000, # updated\n",
    "    'subsample': 0.9 # updated\n",
    "}\n",
    "\n",
    "best_gb = GradientBoostingClassifier(\n",
    "    random_state = 123,\n",
    "    learning_rate = bayes_params['learning_rate'],\n",
    "    n_estimators = bayes_params['n_estimators'],\n",
    "    max_features = bayes_params['max_features'],\n",
    "    max_depth = bayes_params['max_depth'],\n",
    "    min_samples_leaf = bayes_params['min_samples_leaf'],\n",
    "    min_samples_split = bayes_params['min_samples_split'],\n",
    "    subsample = bayes_params['subsample']\n",
    ")\n",
    "\n",
    "best_gb.fit(Xs_train_60,Y_train)\n",
    "Y_pred = best_gb.predict(Xs_test_60)"
   ]
  },
  {
   "cell_type": "code",
   "execution_count": null,
   "metadata": {
    "id": "vc3ADtquHrGl"
   },
   "outputs": [],
   "source": [
    "pd.DataFrame(Y_pred).to_csv('2017311974.csv',header = None)"
   ]
  },
  {
   "cell_type": "code",
   "execution_count": null,
   "metadata": {
    "colab": {
     "base_uri": "https://localhost:8080/"
    },
    "id": "SFRCjxlo-7Th",
    "outputId": "92e1ab6a-69b3-4745-a137-495a34133386"
   },
   "outputs": [
    {
     "name": "stdout",
     "output_type": "stream",
     "text": [
      "              precision    recall  f1-score   support\n",
      "\n",
      "           0       1.00      1.00      1.00       218\n",
      "           1       1.00      1.00      1.00       187\n",
      "\n",
      "    accuracy                           1.00       405\n",
      "   macro avg       1.00      1.00      1.00       405\n",
      "weighted avg       1.00      1.00      1.00       405\n",
      "\n"
     ]
    }
   ],
   "source": [
    "y_pred = best_gb.predict(Xs_train_60)\n",
    "print(classification_report(Y_train,y_pred))"
   ]
  },
  {
   "cell_type": "markdown",
   "metadata": {
    "id": "JSW6i7lG6DFA"
   },
   "source": [
    "### 6. Ensemble"
   ]
  },
  {
   "cell_type": "code",
   "execution_count": 180,
   "metadata": {
    "colab": {
     "base_uri": "https://localhost:8080/"
    },
    "id": "vSo4B2f45DxB",
    "outputId": "14ac1501-72a7-48a2-b9c7-6c7e08d285f0"
   },
   "outputs": [
    {
     "name": "stdout",
     "output_type": "stream",
     "text": [
      "Collecting vecstack\n",
      "  Downloading https://files.pythonhosted.org/packages/d0/a1/b9a1e9e9e5a12078da1ab9788c7885e4c745358f7e57d5f94d9db6a4e898/vecstack-0.4.0.tar.gz\n",
      "Requirement already satisfied: numpy in /usr/local/lib/python3.7/dist-packages (from vecstack) (1.19.5)\n",
      "Requirement already satisfied: scipy in /usr/local/lib/python3.7/dist-packages (from vecstack) (1.4.1)\n",
      "Requirement already satisfied: scikit-learn>=0.18 in /usr/local/lib/python3.7/dist-packages (from vecstack) (0.22.2.post1)\n",
      "Requirement already satisfied: joblib>=0.11 in /usr/local/lib/python3.7/dist-packages (from scikit-learn>=0.18->vecstack) (1.0.1)\n",
      "Building wheels for collected packages: vecstack\n",
      "  Building wheel for vecstack (setup.py) ... \u001b[?25l\u001b[?25hdone\n",
      "  Created wheel for vecstack: filename=vecstack-0.4.0-cp37-none-any.whl size=19877 sha256=812636071b8344146d7270ddfbe6626b269b70f40cd6f94e6037d3e395b49c4c\n",
      "  Stored in directory: /root/.cache/pip/wheels/5f/bb/4e/f6488433d53bc0684673d6845e5bf11a25240577c8151c140e\n",
      "Successfully built vecstack\n",
      "Installing collected packages: vecstack\n",
      "Successfully installed vecstack-0.4.0\n"
     ]
    }
   ],
   "source": [
    "!pip install vecstack"
   ]
  },
  {
   "cell_type": "code",
   "execution_count": 181,
   "metadata": {
    "id": "jWWhhP3S82bg"
   },
   "outputs": [],
   "source": [
    "from vecstack import stacking"
   ]
  },
  {
   "cell_type": "code",
   "execution_count": 182,
   "metadata": {
    "id": "gvJ45eYr6BB_"
   },
   "outputs": [],
   "source": [
    "models = [LogisticRegression(random_state = 42,C = 0.05,solver = 'liblinear'),\n",
    "          RFC(random_state = 123, criterion = 'gini', max_depth = 5, max_features = 'sqrt', min_samples_leaf = 2, min_samples_split = 4, n_estimators = 800),\n",
    "          GradientBoostingClassifier(learning_rate=0.1, max_depth=2, max_features='log2', min_samples_leaf=2, min_samples_split = 14, n_estimators=1000, random_state=123, subsample=0.9),\n",
    "          lgb(objective = 'binary', silent = True, n_estimators = 600, learning_rate = 0.1, max_depth = 6, num_leaves = 20, colsample_bytree = 0.8, feature_fraction = 0.1, bagging_fraction = 0.8,\n",
    "              max_bin = 100, min_child_weight = 5, min_split_gain = 0.001, reg_alpha = 0.08, reg_lambda = 0.1, subsample = 0.9, random_state = 123),\n",
    "          SVC(C = 100,kernel = 'rbf',gamma = 0.001,random_state = 123)] "
   ]
  },
  {
   "cell_type": "code",
   "execution_count": 183,
   "metadata": {
    "colab": {
     "base_uri": "https://localhost:8080/"
    },
    "id": "aXLMvp7wIVbP",
    "outputId": "6cb1ea7d-827a-4960-9d5d-db1ae1972eca"
   },
   "outputs": [
    {
     "name": "stdout",
     "output_type": "stream",
     "text": [
      "task:         [classification]\n",
      "n_classes:    [2]\n",
      "metric:       [accuracy_score]\n",
      "mode:         [oof_pred_bag]\n",
      "n_models:     [5]\n",
      "\n",
      "model  0:     [LogisticRegression]\n",
      "    fold  0:  [0.73684211]\n",
      "    fold  1:  [0.77192982]\n",
      "    fold  2:  [0.73684211]\n",
      "    fold  3:  [0.75000000]\n",
      "    fold  4:  [0.76785714]\n",
      "    ----\n",
      "    MEAN:     [0.75269424] + [0.01489806]\n",
      "    FULL:     [0.75265018]\n",
      "\n",
      "model  1:     [RandomForestClassifier]\n",
      "    fold  0:  [0.73684211]\n",
      "    fold  1:  [0.80701754]\n",
      "    fold  2:  [0.75438596]\n",
      "    fold  3:  [0.80357143]\n",
      "    fold  4:  [0.80357143]\n",
      "    ----\n",
      "    MEAN:     [0.78107769] + [0.02950948]\n",
      "    FULL:     [0.78091873]\n",
      "\n",
      "model  2:     [GradientBoostingClassifier]\n",
      "    fold  0:  [0.78947368]\n",
      "    fold  1:  [0.84210526]\n",
      "    fold  2:  [0.70175439]\n",
      "    fold  3:  [0.71428571]\n",
      "    fold  4:  [0.76785714]\n",
      "    ----\n",
      "    MEAN:     [0.76309524] + [0.05119795]\n",
      "    FULL:     [0.76325088]\n",
      "\n",
      "model  3:     [LGBMClassifier]\n",
      "    fold  0:  [0.80701754]\n",
      "    fold  1:  [0.84210526]\n",
      "    fold  2:  [0.73684211]\n",
      "    fold  3:  [0.71428571]\n",
      "    fold  4:  [0.78571429]\n",
      "    ----\n",
      "    MEAN:     [0.77719298] + [0.04639232]\n",
      "    FULL:     [0.77738516]\n",
      "\n",
      "model  4:     [SVC]\n",
      "    fold  0:  [0.73684211]\n",
      "    fold  1:  [0.80701754]\n",
      "    fold  2:  [0.66666667]\n",
      "    fold  3:  [0.71428571]\n",
      "    fold  4:  [0.85714286]\n",
      "    ----\n",
      "    MEAN:     [0.75639098] + [0.06770444]\n",
      "    FULL:     [0.75618375]\n",
      "\n"
     ]
    }
   ],
   "source": [
    "# Compute stacking features \n",
    "S_train, S_test = stacking(models, Xs_tr_60, Y_tr, Xs_val_60, \n",
    "                           regression = False, metric = accuracy_score, n_folds = 5, \n",
    "                           stratified = True, shuffle = True, random_state = 123, verbose = 2) "
   ]
  },
  {
   "cell_type": "code",
   "execution_count": 184,
   "metadata": {
    "id": "jiqQR6C-IaWd"
   },
   "outputs": [],
   "source": [
    "# Initialize 2-nd level model \n",
    "model =  RFC(random_state = 123, criterion = 'gini', max_depth = 5, max_features = 'sqrt', min_samples_leaf = 2, min_samples_split = 4, n_estimators = 800)"
   ]
  },
  {
   "cell_type": "code",
   "execution_count": 185,
   "metadata": {
    "id": "HhQRkNO4Ia3p"
   },
   "outputs": [],
   "source": [
    "# Fit 2-nd level model \n",
    "model = model.fit(S_train, Y_tr)"
   ]
  },
  {
   "cell_type": "code",
   "execution_count": 186,
   "metadata": {
    "id": "QC2E6R13Iek_"
   },
   "outputs": [],
   "source": [
    "# Predict \n",
    "Y_pred = model.predict(S_test) "
   ]
  },
  {
   "cell_type": "code",
   "execution_count": 187,
   "metadata": {
    "colab": {
     "base_uri": "https://localhost:8080/"
    },
    "id": "9bqx5ej7IkFb",
    "outputId": "d268847a-d3f0-4f32-8555-819ff08ff570"
   },
   "outputs": [
    {
     "data": {
      "text/plain": [
       "0.8442622950819673"
      ]
     },
     "execution_count": 187,
     "metadata": {
      "tags": []
     },
     "output_type": "execute_result"
    }
   ],
   "source": [
    "# validation accuracy\n",
    "accuracy_score(Y_val,Y_pred)"
   ]
  },
  {
   "cell_type": "code",
   "execution_count": 188,
   "metadata": {
    "id": "wxiOec9gIocF"
   },
   "outputs": [],
   "source": [
    "# Predict \n",
    "Y_pred = model.predict(S_train) "
   ]
  },
  {
   "cell_type": "code",
   "execution_count": 189,
   "metadata": {
    "colab": {
     "base_uri": "https://localhost:8080/"
    },
    "id": "0EGx0dKJItEF",
    "outputId": "f7e461fd-8370-4ece-a03c-44621f1ac057"
   },
   "outputs": [
    {
     "data": {
      "text/plain": [
       "0.7950530035335689"
      ]
     },
     "execution_count": 189,
     "metadata": {
      "tags": []
     },
     "output_type": "execute_result"
    }
   ],
   "source": [
    "# training accuracy\n",
    "accuracy_score(Y_tr,Y_pred)"
   ]
  },
  {
   "cell_type": "markdown",
   "metadata": {
    "id": "8iOnfQj_I8oc"
   },
   "source": [
    "- submission"
   ]
  },
  {
   "cell_type": "code",
   "execution_count": null,
   "metadata": {
    "colab": {
     "base_uri": "https://localhost:8080/"
    },
    "id": "hhU9rCbU79mp",
    "outputId": "a53399d5-96c0-4e64-e32e-4c2e9fce83c9"
   },
   "outputs": [
    {
     "name": "stdout",
     "output_type": "stream",
     "text": [
      "task:         [classification]\n",
      "n_classes:    [2]\n",
      "metric:       [accuracy_score]\n",
      "mode:         [oof_pred_bag]\n",
      "n_models:     [6]\n",
      "\n",
      "model  0:     [LogisticRegression]\n",
      "    fold  0:  [0.79012346]\n",
      "    fold  1:  [0.88888889]\n",
      "    fold  2:  [0.81481481]\n",
      "    fold  3:  [0.81481481]\n",
      "    fold  4:  [0.64197531]\n",
      "    ----\n",
      "    MEAN:     [0.79012346] + [0.08114408]\n",
      "    FULL:     [0.79012346]\n",
      "\n",
      "model  1:     [RandomForestClassifier]\n",
      "    fold  0:  [0.81481481]\n",
      "    fold  1:  [0.83950617]\n",
      "    fold  2:  [0.86419753]\n",
      "    fold  3:  [0.80246914]\n",
      "    fold  4:  [0.70370370]\n",
      "    ----\n",
      "    MEAN:     [0.80493827] + [0.05487929]\n",
      "    FULL:     [0.80493827]\n",
      "\n",
      "model  2:     [GradientBoostingClassifier]\n",
      "    fold  0:  [0.82716049]\n",
      "    fold  1:  [0.81481481]\n",
      "    fold  2:  [0.82716049]\n",
      "    fold  3:  [0.80246914]\n",
      "    fold  4:  [0.69135802]\n",
      "    ----\n",
      "    MEAN:     [0.79259259] + [0.05143868]\n",
      "    FULL:     [0.79259259]\n",
      "\n",
      "model  3:     [LGBMClassifier]\n",
      "    fold  0:  [0.86419753]\n",
      "    fold  1:  [0.80246914]\n",
      "    fold  2:  [0.76543210]\n",
      "    fold  3:  [0.79012346]\n",
      "    fold  4:  [0.64197531]\n",
      "    ----\n",
      "    MEAN:     [0.77283951] + [0.07307975]\n",
      "    FULL:     [0.77283951]\n",
      "\n",
      "model  4:     [SVC]\n",
      "    fold  0:  [0.80246914]\n",
      "    fold  1:  [0.88888889]\n",
      "    fold  2:  [0.79012346]\n",
      "    fold  3:  [0.80246914]\n",
      "    fold  4:  [0.66666667]\n",
      "    ----\n",
      "    MEAN:     [0.79012346] + [0.07113511]\n",
      "    FULL:     [0.79012346]\n",
      "\n",
      "model  5:     [RandomForestClassifier]\n",
      "    fold  0:  [0.81481481]\n",
      "    fold  1:  [0.83950617]\n",
      "    fold  2:  [0.86419753]\n",
      "    fold  3:  [0.80246914]\n",
      "    fold  4:  [0.70370370]\n",
      "    ----\n",
      "    MEAN:     [0.80493827] + [0.05487929]\n",
      "    FULL:     [0.80493827]\n",
      "\n"
     ]
    }
   ],
   "source": [
    "# Compute stacking features \n",
    "S_train, S_test = stacking(models, Xs_train_60, Y_train, Xs_test_60, \n",
    "                           regression = False, metric = accuracy_score, n_folds = 5, \n",
    "                           stratified = True, shuffle = True, random_state = 123, verbose = 2) "
   ]
  },
  {
   "cell_type": "code",
   "execution_count": null,
   "metadata": {
    "id": "Dlqeg2_28xuj"
   },
   "outputs": [],
   "source": [
    "# Initialize 2-nd level model \n",
    "model =  RFC(random_state = 123, criterion = 'gini', max_depth = 5, max_features = 'sqrt', min_samples_leaf = 2, min_samples_split = 4, n_estimators = 800)"
   ]
  },
  {
   "cell_type": "code",
   "execution_count": null,
   "metadata": {
    "id": "6W-XbK449EG_"
   },
   "outputs": [],
   "source": [
    "# Fit 2-nd level model \n",
    "model = model.fit(S_train, Y_train)"
   ]
  },
  {
   "cell_type": "code",
   "execution_count": null,
   "metadata": {
    "id": "61LkFCsu9Ieb"
   },
   "outputs": [],
   "source": [
    "# Predict \n",
    "Y_pred = model.predict(S_test) "
   ]
  },
  {
   "cell_type": "code",
   "execution_count": null,
   "metadata": {
    "id": "W3bEDLyy9K6I"
   },
   "outputs": [],
   "source": [
    "pd.DataFrame(Y_pred).to_csv('2017311974.csv',header = None)"
   ]
  }
 ],
 "metadata": {
  "colab": {
   "collapsed_sections": [
    "Fd46s1Ts_qUW",
    "iO8SGENRDdBZ",
    "EvY8fdALDgsI",
    "uM2nks3XFArh",
    "-8Tg5eCsNyVM",
    "7p8mYLgaq2th",
    "QWVjugBIoCur",
    "-RuTxlsNG45Z",
    "8sEvP9E3bn-I",
    "COq8EqCMbp5Q",
    "rXBXbyuRyU0T",
    "6e5vxYnWXx-2",
    "WHM012vQm54F",
    "Gg2pFEckPYuh",
    "vVlroSDbjVnw",
    "ePPkjAb6-EHl",
    "vcZ2nz2v-MGU",
    "NwMi1eeSHa4W"
   ],
   "name": "진수정_2017311974.ipynb",
   "provenance": []
  },
  "kernelspec": {
   "display_name": "Python 3",
   "language": "python",
   "name": "python3"
  },
  "language_info": {
   "codemirror_mode": {
    "name": "ipython",
    "version": 3
   },
   "file_extension": ".py",
   "mimetype": "text/x-python",
   "name": "python",
   "nbconvert_exporter": "python",
   "pygments_lexer": "ipython3",
   "version": "3.8.5"
  }
 },
 "nbformat": 4,
 "nbformat_minor": 1
}
